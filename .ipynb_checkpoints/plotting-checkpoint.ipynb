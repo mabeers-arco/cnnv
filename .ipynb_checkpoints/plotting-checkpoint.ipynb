{
 "cells": [
  {
   "cell_type": "code",
   "execution_count": 72,
   "metadata": {},
   "outputs": [],
   "source": [
    "import matplotlib.pyplot as plt\n",
    "import plotly.graph_objects as go\n",
    "import pickle\n",
    "import numpy as np\n",
    "import torch\n",
    "\n",
    "with open('./data/everything2.pickle', 'rb') as handle:\n",
    "    everything = pickle.load(handle)\n",
    "\n",
    "with open('./data/cuboid7.pickle', 'rb') as handle:\n",
    "    c7 = pickle.load(handle)"
   ]
  },
  {
   "cell_type": "code",
   "execution_count": 73,
   "metadata": {},
   "outputs": [
    {
     "name": "stdout",
     "output_type": "stream",
     "text": [
      "dict_keys(['uid', 'label', 'plane', 'faces', 'pairs', 'xyz', 'sym_pairs', 'sym_triples', 'triples'])\n",
      "dict_keys(['uid', 'label', 'plane', 'faces', 'pairs', 'xyz', 'sym_pairs', 'sym_triples', 'triples'])\n"
     ]
    }
   ],
   "source": [
    "print(everything.keys())\n",
    "print(c7.keys())"
   ]
  },
  {
   "cell_type": "markdown",
   "metadata": {},
   "source": [
    "# 3D Plots"
   ]
  },
  {
   "cell_type": "code",
   "execution_count": 74,
   "metadata": {},
   "outputs": [],
   "source": [
    "COLORS = ['#1f77b4','#ff7f0e', '#2ca02c', '#d62728','#9467bd', '#8c564b', \n",
    "          '#e377c2','#7f7f7f', '#bcbd22', '#17becf' ]\n",
    "\n",
    "def pairs_from_conn(conn):\n",
    "    conn = conn.squeeze()\n",
    "    pairs = []\n",
    "    h, w = conn.shape\n",
    "    for i in range(h):\n",
    "        for j in range(w):\n",
    "            if conn[i,j] == True and (j, i) not in pairs:\n",
    "                pairs.append((i, j))\n",
    "    return pairs\n",
    "\n",
    "def get_plotly_scatter3D_frame3(xyzs, pairs, theta, colors):\n",
    "    \"\"\"\n",
    "    Ok I have to decide what axis to rotate about. Viewing in XY plane, so rotate about axis\n",
    "    defined by avg(x) avg(y), then max(z), min(z). Rotating about axis parallel to x axis, \n",
    "    so x values never change, but y and z will. Adjust everything such that both objects \n",
    "    are centered at the origin. \n",
    "    xyz is going to be (3 x n), so x_rot @ z_rot @ xyz should yield the correct rotation. \n",
    "    \"\"\"\n",
    "    x_rot = np.array([[1,0,0],\n",
    "                    [0, np.cos(theta), -np.sin(theta)],\n",
    "                    [0, np.sin(theta), np.cos(theta)]])\n",
    "    counter = 0\n",
    "    plot_data = []\n",
    "\n",
    "    for key in xyzs.keys():\n",
    "    # Vertices Data\n",
    "\n",
    "        new_xyz = (x_rot @ xyzs[key].T).T\n",
    "\n",
    "        plot_data += [go.Scatter3d(\n",
    "            x=new_xyz[:, 0],\n",
    "            y=new_xyz[:, 1],\n",
    "            z=new_xyz[:, 2],\n",
    "            mode='markers+text',\n",
    "            text = [str(i) for i in range(len(xyzs[key][0]))],\n",
    "            name=key,\n",
    "            marker=dict(color=colors[counter])\n",
    "        )]\n",
    "\n",
    "    # Lines Data\n",
    "    x_lines = list()\n",
    "    y_lines = list()\n",
    "    z_lines = list()\n",
    "\n",
    "    #create the coordinate list for the lines\n",
    "    for p in pairs:\n",
    "        for i in range(2):\n",
    "            x_lines.append(new_xyz[p[i], 0])\n",
    "            y_lines.append(new_xyz[p[i], 1])\n",
    "            z_lines.append(new_xyz[p[i], 2])\n",
    "        x_lines.append(None)\n",
    "        y_lines.append(None)\n",
    "        z_lines.append(None)\n",
    "\n",
    "    plot_data += [go.Scatter3d(\n",
    "        x=x_lines,\n",
    "        y=y_lines,\n",
    "        z=z_lines,\n",
    "        mode='lines',\n",
    "        name=key,\n",
    "        marker=dict(color=colors[counter])\n",
    "    )]\n",
    "\n",
    "    counter += 1\n",
    "\n",
    "    return go.Frame(data = plot_data, traces=list(range(len(plot_data))))\n",
    "\n",
    "\n",
    "def plot3D(xyzs, pairs, adjust_z=True, am=\"data\", nframes=1, tp360=2, title = \"\", colors = COLORS):\n",
    "    #credit: https://stackoverflow.com/questions/42301481/adding-specific-lines-to-a-plotly-scatter3d-plot\n",
    "\n",
    "    # set plot bounds\n",
    "    M = 3\n",
    "\n",
    "    # Convert to dictionary if not already in that form\n",
    "    if type(xyzs) is not dict:\n",
    "        if isinstance(xyzs, torch.Tensor):\n",
    "            xyzs = {\"xyz\": xyzs.detach().numpy()}\n",
    "        elif isinstance(xyzs, list):\n",
    "            xyzs = {\"xyz\": np.array(xyzs)}\n",
    "            \n",
    "    # convert everything from torch to numpy if not already in numpy & adjust z\n",
    "    for key in xyzs.keys():\n",
    "        if isinstance(xyzs[key], torch.Tensor):\n",
    "            xyzs[key] = xyzs[key].detach().numpy()\n",
    "        if adjust_z:\n",
    "            xyzs[key][2] = xyzs[key][2] - np.mean(xyzs[key][2])\n",
    "\n",
    "\n",
    "    #set time per frame\n",
    "    delay = int(tp360*1000/nframes)\n",
    "\n",
    "    counter = 0\n",
    "    plot_data = []\n",
    "\n",
    "    # Define all the components of the plot\n",
    "    for key in xyzs.keys():\n",
    "\n",
    "        new_xyz = xyzs[key]\n",
    "        print(new_xyz)\n",
    "        # Points \n",
    "        plot_data += [go.Scatter3d(\n",
    "            x=new_xyz[:, 0],\n",
    "            y=new_xyz[:, 1],\n",
    "            z=new_xyz[:, 2],\n",
    "            mode='markers+text',\n",
    "            text = [str(i) for i in range(len(new_xyz[0]))],\n",
    "            name=key,\n",
    "            marker=dict(color=colors[counter])\n",
    "        )]\n",
    "\n",
    "        # Lines \n",
    "        x_lines = list()\n",
    "        y_lines = list()\n",
    "        z_lines = list()\n",
    "\n",
    "        for p in pairs:\n",
    "            for i in range(2):\n",
    "                x_lines.append(new_xyz[p[i], 0])\n",
    "                y_lines.append(new_xyz[p[i], 1])\n",
    "                z_lines.append(new_xyz[p[i], 2])\n",
    "            x_lines.append(None)\n",
    "            y_lines.append(None)\n",
    "            z_lines.append(None)\n",
    "\n",
    "        plot_data += [go.Scatter3d(\n",
    "            x=x_lines,\n",
    "            y=y_lines,\n",
    "            z=z_lines,\n",
    "            mode='lines',\n",
    "            name=key,\n",
    "            marker=dict(color=colors[counter])\n",
    "        )]\n",
    "\n",
    "        counter += 1\n",
    "\n",
    "    camera = dict(eye=dict(x=0., y=0, z=2.5))\n",
    "\n",
    "    thetas = np.linspace(0,2*np.pi, nframes)\n",
    "    fig = go.Figure(\n",
    "    data= plot_data,\n",
    "    layout=go.Layout(width=800, height=800,\n",
    "                     title = title, \n",
    "                     updatemenus=[dict(type=\"buttons\",\n",
    "                        buttons=[dict(label=\"Rotate\",\n",
    "                                        method=\"animate\",\n",
    "                                        args=[None, {\"frame\": {\"duration\": delay, \"redraw\": True},}])])]),\n",
    "    frames=[get_plotly_scatter3D_frame3(xyzs, pairs, theta, colors) for theta in thetas])\n",
    "\n",
    "    fig.update_layout(scene_camera=camera,\n",
    "                    scene = dict(\n",
    "                      xaxis = dict(range=[-M,M],),\n",
    "                      yaxis = dict(range=[-M,M],),\n",
    "                      zaxis = dict(range=[-M,M],),\n",
    "                      aspectmode=am),)\n",
    "    fig.layout.scene.camera.projection.type = \"orthographic\"\n",
    "    fig.show()\n",
    "\n",
    "\n",
    "def get_xyzs(dfs, labels, depth_reverse=None):\n",
    "    xyz_dct = {}\n",
    "    for label in labels:\n",
    "        xyz_dct[label] = dfs[\"XYZ\"].loc[:, [\"X\", \"Y\", label+\".Z\"]].T.to_numpy()\n",
    "        if depth_reverse:\n",
    "            for label in depth_reverse:\n",
    "                xyz_dct[label][2, :] = -1. * xyz_dct[label][2, :]\n",
    "    return xyz_dct\n",
    "\n",
    "\n",
    "def depth_reverse(xyz):\n",
    "    xyz[2, :] = -1*xyz[2, :]\n",
    "    return xyz\n",
    "\n",
    "\n",
    "def plot3Ds(xyz, pairs=None):\n",
    "    \"\"\"\n",
    "    Inputs: xyz, pairs \n",
    "    Output: 3D plotly plot of points & optionally, pairs\n",
    "    \"\"\"    \n",
    "    # convert to numpy array\n",
    "    if isinstance(xyz, torch.Tensor):\n",
    "        xyz = xyz.detach().numpy()\n",
    "    if isinstance(xyz, list):\n",
    "        xyz = np.array(xyz)\n",
    "    \n",
    "    plot_data = []\n",
    "    \n",
    "    # plot points\n",
    "    plot_data += [go.Scatter3d(\n",
    "    x=xyz[:, 0],\n",
    "    y=xyz[:, 1],\n",
    "    z=xyz[:, 2],\n",
    "    mode='markers+text',\n",
    "    text = [str(i) for i in range(xyz.shape[0])],\n",
    "    name=\"xyz\",\n",
    "    marker=dict(color='#1f77b4'))]\n",
    "\n",
    "    # plot edges if pairs argument provided\n",
    "    if pairs: \n",
    "        x_lines = []\n",
    "        y_lines = []\n",
    "        z_lines = []\n",
    "\n",
    "        for p in pairs:\n",
    "            for i in range(2):\n",
    "                x_lines.append(xyz[p[i], 0])\n",
    "                y_lines.append(xyz[p[i], 1])\n",
    "                z_lines.append(xyz[p[i], 2])\n",
    "            x_lines.append(None)\n",
    "            y_lines.append(None)\n",
    "            z_lines.append(None)\n",
    "\n",
    "        plot_data += [go.Scatter3d(\n",
    "            x=x_lines,\n",
    "            y=y_lines,\n",
    "            z=z_lines,\n",
    "            mode='lines',\n",
    "            name=\"xyz\",\n",
    "            marker=dict(color='#1f77b4')\n",
    "        )]\n",
    "    \n",
    "    \n",
    "    fig = go.Figure(data = plot_data)\n",
    "    fig.layout.scene.camera.projection.type = \"orthographic\"\n",
    "    fig.show()\n",
    "\n",
    "\n"
   ]
  },
  {
   "cell_type": "code",
   "execution_count": 58,
   "metadata": {},
   "outputs": [
    {
     "data": {
      "application/vnd.plotly.v1+json": {
       "config": {
        "plotlyServerURL": "https://plot.ly"
       },
       "data": [
        {
         "marker": {
          "color": "#1f77b4"
         },
         "mode": "markers+text",
         "name": "xyz",
         "text": [
          "0",
          "1",
          "2",
          "3",
          "4",
          "5",
          "6"
         ],
         "type": "scatter3d",
         "x": [
          1.4778658151626587,
          1.2509269714355469,
          0.13951723277568817,
          -0.0874219536781311,
          -1.3016263246536255,
          -1.5285660028457642,
          0.6531628966331482
         ],
         "y": [
          -0.5981960296630859,
          0.6850297451019287,
          -1.092093825340271,
          0.19113171100616455,
          -0.5953285694122314,
          0.6878970861434937,
          1.2693066596984863
         ],
         "z": [
          -10.742050170898438,
          -10.291923522949219,
          -10.008793830871582,
          -9.558666229248047,
          -12.151554107666016,
          -11.701427459716797,
          -12.25895881652832
         ]
        },
        {
         "marker": {
          "color": "#1f77b4"
         },
         "mode": "lines",
         "name": "xyz",
         "type": "scatter3d",
         "x": [
          1.4778658151626587,
          0.13951723277568817,
          null,
          0.13951723277568817,
          -1.3016263246536255,
          null,
          1.2509269714355469,
          0.6531628966331482,
          null,
          1.2509269714355469,
          -0.0874219536781311,
          null,
          -0.0874219536781311,
          -1.5285660028457642,
          null,
          -1.5285660028457642,
          0.6531628966331482,
          null,
          0.13951723277568817,
          -0.0874219536781311,
          null,
          -1.3016263246536255,
          -1.5285660028457642,
          null,
          1.4778658151626587,
          1.2509269714355469,
          null
         ],
         "y": [
          -0.5981960296630859,
          -1.092093825340271,
          null,
          -1.092093825340271,
          -0.5953285694122314,
          null,
          0.6850297451019287,
          1.2693066596984863,
          null,
          0.6850297451019287,
          0.19113171100616455,
          null,
          0.19113171100616455,
          0.6878970861434937,
          null,
          0.6878970861434937,
          1.2693066596984863,
          null,
          -1.092093825340271,
          0.19113171100616455,
          null,
          -0.5953285694122314,
          0.6878970861434937,
          null,
          -0.5981960296630859,
          0.6850297451019287,
          null
         ],
         "z": [
          -10.742050170898438,
          -10.008793830871582,
          null,
          -10.008793830871582,
          -12.151554107666016,
          null,
          -10.291923522949219,
          -12.25895881652832,
          null,
          -10.291923522949219,
          -9.558666229248047,
          null,
          -9.558666229248047,
          -11.701427459716797,
          null,
          -11.701427459716797,
          -12.25895881652832,
          null,
          -10.008793830871582,
          -9.558666229248047,
          null,
          -12.151554107666016,
          -11.701427459716797,
          null,
          -10.742050170898438,
          -10.291923522949219,
          null
         ]
        }
       ],
       "layout": {
        "scene": {
         "camera": {
          "projection": {
           "type": "orthographic"
          }
         }
        },
        "template": {
         "data": {
          "bar": [
           {
            "error_x": {
             "color": "#2a3f5f"
            },
            "error_y": {
             "color": "#2a3f5f"
            },
            "marker": {
             "line": {
              "color": "#E5ECF6",
              "width": 0.5
             }
            },
            "type": "bar"
           }
          ],
          "barpolar": [
           {
            "marker": {
             "line": {
              "color": "#E5ECF6",
              "width": 0.5
             }
            },
            "type": "barpolar"
           }
          ],
          "carpet": [
           {
            "aaxis": {
             "endlinecolor": "#2a3f5f",
             "gridcolor": "white",
             "linecolor": "white",
             "minorgridcolor": "white",
             "startlinecolor": "#2a3f5f"
            },
            "baxis": {
             "endlinecolor": "#2a3f5f",
             "gridcolor": "white",
             "linecolor": "white",
             "minorgridcolor": "white",
             "startlinecolor": "#2a3f5f"
            },
            "type": "carpet"
           }
          ],
          "choropleth": [
           {
            "colorbar": {
             "outlinewidth": 0,
             "ticks": ""
            },
            "type": "choropleth"
           }
          ],
          "contour": [
           {
            "colorbar": {
             "outlinewidth": 0,
             "ticks": ""
            },
            "colorscale": [
             [
              0,
              "#0d0887"
             ],
             [
              0.1111111111111111,
              "#46039f"
             ],
             [
              0.2222222222222222,
              "#7201a8"
             ],
             [
              0.3333333333333333,
              "#9c179e"
             ],
             [
              0.4444444444444444,
              "#bd3786"
             ],
             [
              0.5555555555555556,
              "#d8576b"
             ],
             [
              0.6666666666666666,
              "#ed7953"
             ],
             [
              0.7777777777777778,
              "#fb9f3a"
             ],
             [
              0.8888888888888888,
              "#fdca26"
             ],
             [
              1,
              "#f0f921"
             ]
            ],
            "type": "contour"
           }
          ],
          "contourcarpet": [
           {
            "colorbar": {
             "outlinewidth": 0,
             "ticks": ""
            },
            "type": "contourcarpet"
           }
          ],
          "heatmap": [
           {
            "colorbar": {
             "outlinewidth": 0,
             "ticks": ""
            },
            "colorscale": [
             [
              0,
              "#0d0887"
             ],
             [
              0.1111111111111111,
              "#46039f"
             ],
             [
              0.2222222222222222,
              "#7201a8"
             ],
             [
              0.3333333333333333,
              "#9c179e"
             ],
             [
              0.4444444444444444,
              "#bd3786"
             ],
             [
              0.5555555555555556,
              "#d8576b"
             ],
             [
              0.6666666666666666,
              "#ed7953"
             ],
             [
              0.7777777777777778,
              "#fb9f3a"
             ],
             [
              0.8888888888888888,
              "#fdca26"
             ],
             [
              1,
              "#f0f921"
             ]
            ],
            "type": "heatmap"
           }
          ],
          "heatmapgl": [
           {
            "colorbar": {
             "outlinewidth": 0,
             "ticks": ""
            },
            "colorscale": [
             [
              0,
              "#0d0887"
             ],
             [
              0.1111111111111111,
              "#46039f"
             ],
             [
              0.2222222222222222,
              "#7201a8"
             ],
             [
              0.3333333333333333,
              "#9c179e"
             ],
             [
              0.4444444444444444,
              "#bd3786"
             ],
             [
              0.5555555555555556,
              "#d8576b"
             ],
             [
              0.6666666666666666,
              "#ed7953"
             ],
             [
              0.7777777777777778,
              "#fb9f3a"
             ],
             [
              0.8888888888888888,
              "#fdca26"
             ],
             [
              1,
              "#f0f921"
             ]
            ],
            "type": "heatmapgl"
           }
          ],
          "histogram": [
           {
            "marker": {
             "colorbar": {
              "outlinewidth": 0,
              "ticks": ""
             }
            },
            "type": "histogram"
           }
          ],
          "histogram2d": [
           {
            "colorbar": {
             "outlinewidth": 0,
             "ticks": ""
            },
            "colorscale": [
             [
              0,
              "#0d0887"
             ],
             [
              0.1111111111111111,
              "#46039f"
             ],
             [
              0.2222222222222222,
              "#7201a8"
             ],
             [
              0.3333333333333333,
              "#9c179e"
             ],
             [
              0.4444444444444444,
              "#bd3786"
             ],
             [
              0.5555555555555556,
              "#d8576b"
             ],
             [
              0.6666666666666666,
              "#ed7953"
             ],
             [
              0.7777777777777778,
              "#fb9f3a"
             ],
             [
              0.8888888888888888,
              "#fdca26"
             ],
             [
              1,
              "#f0f921"
             ]
            ],
            "type": "histogram2d"
           }
          ],
          "histogram2dcontour": [
           {
            "colorbar": {
             "outlinewidth": 0,
             "ticks": ""
            },
            "colorscale": [
             [
              0,
              "#0d0887"
             ],
             [
              0.1111111111111111,
              "#46039f"
             ],
             [
              0.2222222222222222,
              "#7201a8"
             ],
             [
              0.3333333333333333,
              "#9c179e"
             ],
             [
              0.4444444444444444,
              "#bd3786"
             ],
             [
              0.5555555555555556,
              "#d8576b"
             ],
             [
              0.6666666666666666,
              "#ed7953"
             ],
             [
              0.7777777777777778,
              "#fb9f3a"
             ],
             [
              0.8888888888888888,
              "#fdca26"
             ],
             [
              1,
              "#f0f921"
             ]
            ],
            "type": "histogram2dcontour"
           }
          ],
          "mesh3d": [
           {
            "colorbar": {
             "outlinewidth": 0,
             "ticks": ""
            },
            "type": "mesh3d"
           }
          ],
          "parcoords": [
           {
            "line": {
             "colorbar": {
              "outlinewidth": 0,
              "ticks": ""
             }
            },
            "type": "parcoords"
           }
          ],
          "pie": [
           {
            "automargin": true,
            "type": "pie"
           }
          ],
          "scatter": [
           {
            "marker": {
             "colorbar": {
              "outlinewidth": 0,
              "ticks": ""
             }
            },
            "type": "scatter"
           }
          ],
          "scatter3d": [
           {
            "line": {
             "colorbar": {
              "outlinewidth": 0,
              "ticks": ""
             }
            },
            "marker": {
             "colorbar": {
              "outlinewidth": 0,
              "ticks": ""
             }
            },
            "type": "scatter3d"
           }
          ],
          "scattercarpet": [
           {
            "marker": {
             "colorbar": {
              "outlinewidth": 0,
              "ticks": ""
             }
            },
            "type": "scattercarpet"
           }
          ],
          "scattergeo": [
           {
            "marker": {
             "colorbar": {
              "outlinewidth": 0,
              "ticks": ""
             }
            },
            "type": "scattergeo"
           }
          ],
          "scattergl": [
           {
            "marker": {
             "colorbar": {
              "outlinewidth": 0,
              "ticks": ""
             }
            },
            "type": "scattergl"
           }
          ],
          "scattermapbox": [
           {
            "marker": {
             "colorbar": {
              "outlinewidth": 0,
              "ticks": ""
             }
            },
            "type": "scattermapbox"
           }
          ],
          "scatterpolar": [
           {
            "marker": {
             "colorbar": {
              "outlinewidth": 0,
              "ticks": ""
             }
            },
            "type": "scatterpolar"
           }
          ],
          "scatterpolargl": [
           {
            "marker": {
             "colorbar": {
              "outlinewidth": 0,
              "ticks": ""
             }
            },
            "type": "scatterpolargl"
           }
          ],
          "scatterternary": [
           {
            "marker": {
             "colorbar": {
              "outlinewidth": 0,
              "ticks": ""
             }
            },
            "type": "scatterternary"
           }
          ],
          "surface": [
           {
            "colorbar": {
             "outlinewidth": 0,
             "ticks": ""
            },
            "colorscale": [
             [
              0,
              "#0d0887"
             ],
             [
              0.1111111111111111,
              "#46039f"
             ],
             [
              0.2222222222222222,
              "#7201a8"
             ],
             [
              0.3333333333333333,
              "#9c179e"
             ],
             [
              0.4444444444444444,
              "#bd3786"
             ],
             [
              0.5555555555555556,
              "#d8576b"
             ],
             [
              0.6666666666666666,
              "#ed7953"
             ],
             [
              0.7777777777777778,
              "#fb9f3a"
             ],
             [
              0.8888888888888888,
              "#fdca26"
             ],
             [
              1,
              "#f0f921"
             ]
            ],
            "type": "surface"
           }
          ],
          "table": [
           {
            "cells": {
             "fill": {
              "color": "#EBF0F8"
             },
             "line": {
              "color": "white"
             }
            },
            "header": {
             "fill": {
              "color": "#C8D4E3"
             },
             "line": {
              "color": "white"
             }
            },
            "type": "table"
           }
          ]
         },
         "layout": {
          "annotationdefaults": {
           "arrowcolor": "#2a3f5f",
           "arrowhead": 0,
           "arrowwidth": 1
          },
          "coloraxis": {
           "colorbar": {
            "outlinewidth": 0,
            "ticks": ""
           }
          },
          "colorscale": {
           "diverging": [
            [
             0,
             "#8e0152"
            ],
            [
             0.1,
             "#c51b7d"
            ],
            [
             0.2,
             "#de77ae"
            ],
            [
             0.3,
             "#f1b6da"
            ],
            [
             0.4,
             "#fde0ef"
            ],
            [
             0.5,
             "#f7f7f7"
            ],
            [
             0.6,
             "#e6f5d0"
            ],
            [
             0.7,
             "#b8e186"
            ],
            [
             0.8,
             "#7fbc41"
            ],
            [
             0.9,
             "#4d9221"
            ],
            [
             1,
             "#276419"
            ]
           ],
           "sequential": [
            [
             0,
             "#0d0887"
            ],
            [
             0.1111111111111111,
             "#46039f"
            ],
            [
             0.2222222222222222,
             "#7201a8"
            ],
            [
             0.3333333333333333,
             "#9c179e"
            ],
            [
             0.4444444444444444,
             "#bd3786"
            ],
            [
             0.5555555555555556,
             "#d8576b"
            ],
            [
             0.6666666666666666,
             "#ed7953"
            ],
            [
             0.7777777777777778,
             "#fb9f3a"
            ],
            [
             0.8888888888888888,
             "#fdca26"
            ],
            [
             1,
             "#f0f921"
            ]
           ],
           "sequentialminus": [
            [
             0,
             "#0d0887"
            ],
            [
             0.1111111111111111,
             "#46039f"
            ],
            [
             0.2222222222222222,
             "#7201a8"
            ],
            [
             0.3333333333333333,
             "#9c179e"
            ],
            [
             0.4444444444444444,
             "#bd3786"
            ],
            [
             0.5555555555555556,
             "#d8576b"
            ],
            [
             0.6666666666666666,
             "#ed7953"
            ],
            [
             0.7777777777777778,
             "#fb9f3a"
            ],
            [
             0.8888888888888888,
             "#fdca26"
            ],
            [
             1,
             "#f0f921"
            ]
           ]
          },
          "colorway": [
           "#636efa",
           "#EF553B",
           "#00cc96",
           "#ab63fa",
           "#FFA15A",
           "#19d3f3",
           "#FF6692",
           "#B6E880",
           "#FF97FF",
           "#FECB52"
          ],
          "font": {
           "color": "#2a3f5f"
          },
          "geo": {
           "bgcolor": "white",
           "lakecolor": "white",
           "landcolor": "#E5ECF6",
           "showlakes": true,
           "showland": true,
           "subunitcolor": "white"
          },
          "hoverlabel": {
           "align": "left"
          },
          "hovermode": "closest",
          "mapbox": {
           "style": "light"
          },
          "paper_bgcolor": "white",
          "plot_bgcolor": "#E5ECF6",
          "polar": {
           "angularaxis": {
            "gridcolor": "white",
            "linecolor": "white",
            "ticks": ""
           },
           "bgcolor": "#E5ECF6",
           "radialaxis": {
            "gridcolor": "white",
            "linecolor": "white",
            "ticks": ""
           }
          },
          "scene": {
           "xaxis": {
            "backgroundcolor": "#E5ECF6",
            "gridcolor": "white",
            "gridwidth": 2,
            "linecolor": "white",
            "showbackground": true,
            "ticks": "",
            "zerolinecolor": "white"
           },
           "yaxis": {
            "backgroundcolor": "#E5ECF6",
            "gridcolor": "white",
            "gridwidth": 2,
            "linecolor": "white",
            "showbackground": true,
            "ticks": "",
            "zerolinecolor": "white"
           },
           "zaxis": {
            "backgroundcolor": "#E5ECF6",
            "gridcolor": "white",
            "gridwidth": 2,
            "linecolor": "white",
            "showbackground": true,
            "ticks": "",
            "zerolinecolor": "white"
           }
          },
          "shapedefaults": {
           "line": {
            "color": "#2a3f5f"
           }
          },
          "ternary": {
           "aaxis": {
            "gridcolor": "white",
            "linecolor": "white",
            "ticks": ""
           },
           "baxis": {
            "gridcolor": "white",
            "linecolor": "white",
            "ticks": ""
           },
           "bgcolor": "#E5ECF6",
           "caxis": {
            "gridcolor": "white",
            "linecolor": "white",
            "ticks": ""
           }
          },
          "title": {
           "x": 0.05
          },
          "xaxis": {
           "automargin": true,
           "gridcolor": "white",
           "linecolor": "white",
           "ticks": "",
           "title": {
            "standoff": 15
           },
           "zerolinecolor": "white",
           "zerolinewidth": 2
          },
          "yaxis": {
           "automargin": true,
           "gridcolor": "white",
           "linecolor": "white",
           "ticks": "",
           "title": {
            "standoff": 15
           },
           "zerolinecolor": "white",
           "zerolinewidth": 2
          }
         }
        }
       }
      },
      "text/html": [
       "<div>                            <div id=\"e43afcbe-376e-47ce-bbf4-b6f38c2cac24\" class=\"plotly-graph-div\" style=\"height:525px; width:100%;\"></div>            <script type=\"text/javascript\">                require([\"plotly\"], function(Plotly) {                    window.PLOTLYENV=window.PLOTLYENV || {};                                    if (document.getElementById(\"e43afcbe-376e-47ce-bbf4-b6f38c2cac24\")) {                    Plotly.newPlot(                        \"e43afcbe-376e-47ce-bbf4-b6f38c2cac24\",                        [{\"marker\": {\"color\": \"#1f77b4\"}, \"mode\": \"markers+text\", \"name\": \"xyz\", \"text\": [\"0\", \"1\", \"2\", \"3\", \"4\", \"5\", \"6\"], \"type\": \"scatter3d\", \"x\": [1.4778658151626587, 1.2509269714355469, 0.13951723277568817, -0.0874219536781311, -1.3016263246536255, -1.5285660028457642, 0.6531628966331482], \"y\": [-0.5981960296630859, 0.6850297451019287, -1.092093825340271, 0.19113171100616455, -0.5953285694122314, 0.6878970861434937, 1.2693066596984863], \"z\": [-10.742050170898438, -10.291923522949219, -10.008793830871582, -9.558666229248047, -12.151554107666016, -11.701427459716797, -12.25895881652832]}, {\"marker\": {\"color\": \"#1f77b4\"}, \"mode\": \"lines\", \"name\": \"xyz\", \"type\": \"scatter3d\", \"x\": [1.4778658151626587, 0.13951723277568817, null, 0.13951723277568817, -1.3016263246536255, null, 1.2509269714355469, 0.6531628966331482, null, 1.2509269714355469, -0.0874219536781311, null, -0.0874219536781311, -1.5285660028457642, null, -1.5285660028457642, 0.6531628966331482, null, 0.13951723277568817, -0.0874219536781311, null, -1.3016263246536255, -1.5285660028457642, null, 1.4778658151626587, 1.2509269714355469, null], \"y\": [-0.5981960296630859, -1.092093825340271, null, -1.092093825340271, -0.5953285694122314, null, 0.6850297451019287, 1.2693066596984863, null, 0.6850297451019287, 0.19113171100616455, null, 0.19113171100616455, 0.6878970861434937, null, 0.6878970861434937, 1.2693066596984863, null, -1.092093825340271, 0.19113171100616455, null, -0.5953285694122314, 0.6878970861434937, null, -0.5981960296630859, 0.6850297451019287, null], \"z\": [-10.742050170898438, -10.008793830871582, null, -10.008793830871582, -12.151554107666016, null, -10.291923522949219, -12.25895881652832, null, -10.291923522949219, -9.558666229248047, null, -9.558666229248047, -11.701427459716797, null, -11.701427459716797, -12.25895881652832, null, -10.008793830871582, -9.558666229248047, null, -12.151554107666016, -11.701427459716797, null, -10.742050170898438, -10.291923522949219, null]}],                        {\"scene\": {\"camera\": {\"projection\": {\"type\": \"orthographic\"}}}, \"template\": {\"data\": {\"bar\": [{\"error_x\": {\"color\": \"#2a3f5f\"}, \"error_y\": {\"color\": \"#2a3f5f\"}, \"marker\": {\"line\": {\"color\": \"#E5ECF6\", \"width\": 0.5}}, \"type\": \"bar\"}], \"barpolar\": [{\"marker\": {\"line\": {\"color\": \"#E5ECF6\", \"width\": 0.5}}, \"type\": \"barpolar\"}], \"carpet\": [{\"aaxis\": {\"endlinecolor\": \"#2a3f5f\", \"gridcolor\": \"white\", \"linecolor\": \"white\", \"minorgridcolor\": \"white\", \"startlinecolor\": \"#2a3f5f\"}, \"baxis\": {\"endlinecolor\": \"#2a3f5f\", \"gridcolor\": \"white\", \"linecolor\": \"white\", \"minorgridcolor\": \"white\", \"startlinecolor\": \"#2a3f5f\"}, \"type\": \"carpet\"}], \"choropleth\": [{\"colorbar\": {\"outlinewidth\": 0, \"ticks\": \"\"}, \"type\": \"choropleth\"}], \"contour\": [{\"colorbar\": {\"outlinewidth\": 0, \"ticks\": \"\"}, \"colorscale\": [[0.0, \"#0d0887\"], [0.1111111111111111, \"#46039f\"], [0.2222222222222222, \"#7201a8\"], [0.3333333333333333, \"#9c179e\"], [0.4444444444444444, \"#bd3786\"], [0.5555555555555556, \"#d8576b\"], [0.6666666666666666, \"#ed7953\"], [0.7777777777777778, \"#fb9f3a\"], [0.8888888888888888, \"#fdca26\"], [1.0, \"#f0f921\"]], \"type\": \"contour\"}], \"contourcarpet\": [{\"colorbar\": {\"outlinewidth\": 0, \"ticks\": \"\"}, \"type\": \"contourcarpet\"}], \"heatmap\": [{\"colorbar\": {\"outlinewidth\": 0, \"ticks\": \"\"}, \"colorscale\": [[0.0, \"#0d0887\"], [0.1111111111111111, \"#46039f\"], [0.2222222222222222, \"#7201a8\"], [0.3333333333333333, \"#9c179e\"], [0.4444444444444444, \"#bd3786\"], [0.5555555555555556, \"#d8576b\"], [0.6666666666666666, \"#ed7953\"], [0.7777777777777778, \"#fb9f3a\"], [0.8888888888888888, \"#fdca26\"], [1.0, \"#f0f921\"]], \"type\": \"heatmap\"}], \"heatmapgl\": [{\"colorbar\": {\"outlinewidth\": 0, \"ticks\": \"\"}, \"colorscale\": [[0.0, \"#0d0887\"], [0.1111111111111111, \"#46039f\"], [0.2222222222222222, \"#7201a8\"], [0.3333333333333333, \"#9c179e\"], [0.4444444444444444, \"#bd3786\"], [0.5555555555555556, \"#d8576b\"], [0.6666666666666666, \"#ed7953\"], [0.7777777777777778, \"#fb9f3a\"], [0.8888888888888888, \"#fdca26\"], [1.0, \"#f0f921\"]], \"type\": \"heatmapgl\"}], \"histogram\": [{\"marker\": {\"colorbar\": {\"outlinewidth\": 0, \"ticks\": \"\"}}, \"type\": \"histogram\"}], \"histogram2d\": [{\"colorbar\": {\"outlinewidth\": 0, \"ticks\": \"\"}, \"colorscale\": [[0.0, \"#0d0887\"], [0.1111111111111111, \"#46039f\"], [0.2222222222222222, \"#7201a8\"], [0.3333333333333333, \"#9c179e\"], [0.4444444444444444, \"#bd3786\"], [0.5555555555555556, \"#d8576b\"], [0.6666666666666666, \"#ed7953\"], [0.7777777777777778, \"#fb9f3a\"], [0.8888888888888888, \"#fdca26\"], [1.0, \"#f0f921\"]], \"type\": \"histogram2d\"}], \"histogram2dcontour\": [{\"colorbar\": {\"outlinewidth\": 0, \"ticks\": \"\"}, \"colorscale\": [[0.0, \"#0d0887\"], [0.1111111111111111, \"#46039f\"], [0.2222222222222222, \"#7201a8\"], [0.3333333333333333, \"#9c179e\"], [0.4444444444444444, \"#bd3786\"], [0.5555555555555556, \"#d8576b\"], [0.6666666666666666, \"#ed7953\"], [0.7777777777777778, \"#fb9f3a\"], [0.8888888888888888, \"#fdca26\"], [1.0, \"#f0f921\"]], \"type\": \"histogram2dcontour\"}], \"mesh3d\": [{\"colorbar\": {\"outlinewidth\": 0, \"ticks\": \"\"}, \"type\": \"mesh3d\"}], \"parcoords\": [{\"line\": {\"colorbar\": {\"outlinewidth\": 0, \"ticks\": \"\"}}, \"type\": \"parcoords\"}], \"pie\": [{\"automargin\": true, \"type\": \"pie\"}], \"scatter\": [{\"marker\": {\"colorbar\": {\"outlinewidth\": 0, \"ticks\": \"\"}}, \"type\": \"scatter\"}], \"scatter3d\": [{\"line\": {\"colorbar\": {\"outlinewidth\": 0, \"ticks\": \"\"}}, \"marker\": {\"colorbar\": {\"outlinewidth\": 0, \"ticks\": \"\"}}, \"type\": \"scatter3d\"}], \"scattercarpet\": [{\"marker\": {\"colorbar\": {\"outlinewidth\": 0, \"ticks\": \"\"}}, \"type\": \"scattercarpet\"}], \"scattergeo\": [{\"marker\": {\"colorbar\": {\"outlinewidth\": 0, \"ticks\": \"\"}}, \"type\": \"scattergeo\"}], \"scattergl\": [{\"marker\": {\"colorbar\": {\"outlinewidth\": 0, \"ticks\": \"\"}}, \"type\": \"scattergl\"}], \"scattermapbox\": [{\"marker\": {\"colorbar\": {\"outlinewidth\": 0, \"ticks\": \"\"}}, \"type\": \"scattermapbox\"}], \"scatterpolar\": [{\"marker\": {\"colorbar\": {\"outlinewidth\": 0, \"ticks\": \"\"}}, \"type\": \"scatterpolar\"}], \"scatterpolargl\": [{\"marker\": {\"colorbar\": {\"outlinewidth\": 0, \"ticks\": \"\"}}, \"type\": \"scatterpolargl\"}], \"scatterternary\": [{\"marker\": {\"colorbar\": {\"outlinewidth\": 0, \"ticks\": \"\"}}, \"type\": \"scatterternary\"}], \"surface\": [{\"colorbar\": {\"outlinewidth\": 0, \"ticks\": \"\"}, \"colorscale\": [[0.0, \"#0d0887\"], [0.1111111111111111, \"#46039f\"], [0.2222222222222222, \"#7201a8\"], [0.3333333333333333, \"#9c179e\"], [0.4444444444444444, \"#bd3786\"], [0.5555555555555556, \"#d8576b\"], [0.6666666666666666, \"#ed7953\"], [0.7777777777777778, \"#fb9f3a\"], [0.8888888888888888, \"#fdca26\"], [1.0, \"#f0f921\"]], \"type\": \"surface\"}], \"table\": [{\"cells\": {\"fill\": {\"color\": \"#EBF0F8\"}, \"line\": {\"color\": \"white\"}}, \"header\": {\"fill\": {\"color\": \"#C8D4E3\"}, \"line\": {\"color\": \"white\"}}, \"type\": \"table\"}]}, \"layout\": {\"annotationdefaults\": {\"arrowcolor\": \"#2a3f5f\", \"arrowhead\": 0, \"arrowwidth\": 1}, \"coloraxis\": {\"colorbar\": {\"outlinewidth\": 0, \"ticks\": \"\"}}, \"colorscale\": {\"diverging\": [[0, \"#8e0152\"], [0.1, \"#c51b7d\"], [0.2, \"#de77ae\"], [0.3, \"#f1b6da\"], [0.4, \"#fde0ef\"], [0.5, \"#f7f7f7\"], [0.6, \"#e6f5d0\"], [0.7, \"#b8e186\"], [0.8, \"#7fbc41\"], [0.9, \"#4d9221\"], [1, \"#276419\"]], \"sequential\": [[0.0, \"#0d0887\"], [0.1111111111111111, \"#46039f\"], [0.2222222222222222, \"#7201a8\"], [0.3333333333333333, \"#9c179e\"], [0.4444444444444444, \"#bd3786\"], [0.5555555555555556, \"#d8576b\"], [0.6666666666666666, \"#ed7953\"], [0.7777777777777778, \"#fb9f3a\"], [0.8888888888888888, \"#fdca26\"], [1.0, \"#f0f921\"]], \"sequentialminus\": [[0.0, \"#0d0887\"], [0.1111111111111111, \"#46039f\"], [0.2222222222222222, \"#7201a8\"], [0.3333333333333333, \"#9c179e\"], [0.4444444444444444, \"#bd3786\"], [0.5555555555555556, \"#d8576b\"], [0.6666666666666666, \"#ed7953\"], [0.7777777777777778, \"#fb9f3a\"], [0.8888888888888888, \"#fdca26\"], [1.0, \"#f0f921\"]]}, \"colorway\": [\"#636efa\", \"#EF553B\", \"#00cc96\", \"#ab63fa\", \"#FFA15A\", \"#19d3f3\", \"#FF6692\", \"#B6E880\", \"#FF97FF\", \"#FECB52\"], \"font\": {\"color\": \"#2a3f5f\"}, \"geo\": {\"bgcolor\": \"white\", \"lakecolor\": \"white\", \"landcolor\": \"#E5ECF6\", \"showlakes\": true, \"showland\": true, \"subunitcolor\": \"white\"}, \"hoverlabel\": {\"align\": \"left\"}, \"hovermode\": \"closest\", \"mapbox\": {\"style\": \"light\"}, \"paper_bgcolor\": \"white\", \"plot_bgcolor\": \"#E5ECF6\", \"polar\": {\"angularaxis\": {\"gridcolor\": \"white\", \"linecolor\": \"white\", \"ticks\": \"\"}, \"bgcolor\": \"#E5ECF6\", \"radialaxis\": {\"gridcolor\": \"white\", \"linecolor\": \"white\", \"ticks\": \"\"}}, \"scene\": {\"xaxis\": {\"backgroundcolor\": \"#E5ECF6\", \"gridcolor\": \"white\", \"gridwidth\": 2, \"linecolor\": \"white\", \"showbackground\": true, \"ticks\": \"\", \"zerolinecolor\": \"white\"}, \"yaxis\": {\"backgroundcolor\": \"#E5ECF6\", \"gridcolor\": \"white\", \"gridwidth\": 2, \"linecolor\": \"white\", \"showbackground\": true, \"ticks\": \"\", \"zerolinecolor\": \"white\"}, \"zaxis\": {\"backgroundcolor\": \"#E5ECF6\", \"gridcolor\": \"white\", \"gridwidth\": 2, \"linecolor\": \"white\", \"showbackground\": true, \"ticks\": \"\", \"zerolinecolor\": \"white\"}}, \"shapedefaults\": {\"line\": {\"color\": \"#2a3f5f\"}}, \"ternary\": {\"aaxis\": {\"gridcolor\": \"white\", \"linecolor\": \"white\", \"ticks\": \"\"}, \"baxis\": {\"gridcolor\": \"white\", \"linecolor\": \"white\", \"ticks\": \"\"}, \"bgcolor\": \"#E5ECF6\", \"caxis\": {\"gridcolor\": \"white\", \"linecolor\": \"white\", \"ticks\": \"\"}}, \"title\": {\"x\": 0.05}, \"xaxis\": {\"automargin\": true, \"gridcolor\": \"white\", \"linecolor\": \"white\", \"ticks\": \"\", \"title\": {\"standoff\": 15}, \"zerolinecolor\": \"white\", \"zerolinewidth\": 2}, \"yaxis\": {\"automargin\": true, \"gridcolor\": \"white\", \"linecolor\": \"white\", \"ticks\": \"\", \"title\": {\"standoff\": 15}, \"zerolinecolor\": \"white\", \"zerolinewidth\": 2}}}},                        {\"responsive\": true}                    ).then(function(){\n",
       "                            \n",
       "var gd = document.getElementById('e43afcbe-376e-47ce-bbf4-b6f38c2cac24');\n",
       "var x = new MutationObserver(function (mutations, observer) {{\n",
       "        var display = window.getComputedStyle(gd).display;\n",
       "        if (!display || display === 'none') {{\n",
       "            console.log([gd, 'removed!']);\n",
       "            Plotly.purge(gd);\n",
       "            observer.disconnect();\n",
       "        }}\n",
       "}});\n",
       "\n",
       "// Listen for the removal of the full notebook cells\n",
       "var notebookContainer = gd.closest('#notebook-container');\n",
       "if (notebookContainer) {{\n",
       "    x.observe(notebookContainer, {childList: true});\n",
       "}}\n",
       "\n",
       "// Listen for the clearing of the current output cell\n",
       "var outputEl = gd.closest('.output');\n",
       "if (outputEl) {{\n",
       "    x.observe(outputEl, {childList: true});\n",
       "}}\n",
       "\n",
       "                        })                };                });            </script>        </div>"
      ]
     },
     "metadata": {},
     "output_type": "display_data"
    }
   ],
   "source": [
    "k = 2\n",
    "plot3Ds(c7['xyz'][k], c7['pairs'][k])"
   ]
  },
  {
   "cell_type": "markdown",
   "metadata": {},
   "source": [
    "# Identify optimal weights in loss 4\n",
    "Search over grid. \n"
   ]
  },
  {
   "cell_type": "code",
   "execution_count": 77,
   "metadata": {},
   "outputs": [],
   "source": [
    "from loss4opt import loss4\n",
    "from scipy import optimize"
   ]
  },
  {
   "cell_type": "code",
   "execution_count": 92,
   "metadata": {},
   "outputs": [
    {
     "name": "stdout",
     "output_type": "stream",
     "text": [
      "w_plan 0.01 Done\n",
      "w_plan 1.8272727272727272 Done\n",
      "w_plan 3.644545454545454 Done\n",
      "w_plan 5.461818181818181 Done\n",
      "w_plan 7.279090909090908 Done\n",
      "w_plan 9.096363636363636 Done\n",
      "w_plan 10.913636363636362 Done\n",
      "w_plan 12.73090909090909 Done\n",
      "w_plan 14.548181818181817 Done\n",
      "w_plan 16.365454545454547 Done\n",
      "w_plan 18.182727272727274 Done\n",
      "w_plan 20.0 Done\n"
     ]
    }
   ],
   "source": [
    "k = np.random.randint(0, len(everything['xyz'], 1))\n",
    "xy = np.array(everything['xyz'][k])[:, :2]\n",
    "faces = everything['faces'][k]\n",
    "sym_triples = everything['sym_triples'][k]\n",
    "triples = everything['triples'][k]\n",
    "\n",
    "bounds = [[1,1.01]] + [[0, 10]]*(xy.shape[0]-1)\n",
    "\n",
    "n_plan = 12\n",
    "n_comp = 10\n",
    "w_plans = np.linspace(.01,20,n_plan)\n",
    "w_comps = np.linspace(.001, 1, n_comp)\n",
    "sym_dev_surf = np.zeros((n_plan, n_comp))\n",
    "plan_dev_surf = np.zeros((n_plan, n_comp))\n",
    "for i, w_plan in enumerate(w_plans):\n",
    "    for j, w_comp in enumerate(w_comps):\n",
    "        opt_result = optimize.shgo(lambda z: loss4(z, xy, sym_triples, faces, w_plan=w_plan, w_comp=w_comp), \n",
    "                                   bounds)\n",
    "        dct = loss4(opt_result['x'], xy, sym_triples, faces, w_plan=w_plan, w_comp=w_comp, components=True)\n",
    "        dfs = sos(xyz, sym_triples, faces, triples, return_dfs = True, print_all = False)\n",
    "        sym_dev_surf[i,j] = np.mean(np.abs(dfs['SYMMETRY']['diff']))\n",
    "        dev_planarity = 0\n",
    "        for key in dfs[\"FACES\"].keys():\n",
    "            dev_planarity += 360 - dfs['FACES'][key].loc[\"Total\", :].item()\n",
    "        plan_dev_surf[i,j] = dev_planarity\n",
    "    print(\"w_plan {} Done\".format(w_plan))"
   ]
  },
  {
   "cell_type": "code",
   "execution_count": null,
   "metadata": {},
   "outputs": [],
   "source": []
  },
  {
   "cell_type": "code",
   "execution_count": 93,
   "metadata": {},
   "outputs": [
    {
     "data": {
      "application/vnd.plotly.v1+json": {
       "config": {
        "plotlyServerURL": "https://plot.ly"
       },
       "data": [
        {
         "type": "surface",
         "x": [
          0.01,
          1.8272727272727272,
          3.644545454545454,
          5.461818181818181,
          7.279090909090908,
          9.096363636363636,
          10.913636363636362,
          12.73090909090909,
          14.548181818181817,
          16.365454545454547,
          18.182727272727274,
          20
         ],
         "y": [
          0.001,
          0.112,
          0.223,
          0.334,
          0.445,
          0.556,
          0.667,
          0.778,
          0.889,
          1
         ],
         "z": [
          [
           0.015164358348529415,
           0.03368500224845467,
           0.03380838930790401,
           0.038074874013732385,
           0.04108864671462304,
           0.04311613688503679,
           0.04458049055303079,
           0.0456904837169619,
           0.04656211270412379,
           0.04726535083383933
          ],
          [
           0.03899064714714043,
           0.04704546113540445,
           0.008835482676724443,
           0.00959936014026783,
           0.009599384113024287,
           0.009599295555079592,
           0.009599384097621483,
           0.009599383800669051,
           0.009599383786245051,
           0.009600608579471582
          ],
          [
           3.130761482203427e-08,
           0.047157663497813744,
           0.002249124748246917,
           0.009599332208409694,
           0.009599383082173967,
           0.009599405091762972,
           0.009599383146027412,
           0.00959938684311433,
           0.009599383196708045,
           0.009599404719809301
          ],
          [
           3.528965646205728e-09,
           0.0003149888927128105,
           0.002392768394594345,
           0.009599377630056728,
           0.009599324080851155,
           0.009599207497481277,
           0.00959938417972719,
           0.009599384600038148,
           0.009599390113728842,
           0.009599386186293912
          ],
          [
           1.83598272990978e-08,
           3.0010436804887654e-09,
           0.00020038646752383013,
           0.004133666505201589,
           0.009599385620415814,
           0.009599383359662973,
           0.009599195677395032,
           0.009617081811455428,
           0.009599331188019287,
           0.009599385191264794
          ],
          [
           2.2905608021661042e-09,
           0.018915780723516885,
           0.0028819206334550597,
           0.005022464173040068,
           0.0046577059357121725,
           0.009599224106578578,
           0.009599367503687476,
           0.009599384087292885,
           0.009599373554489853,
           0.009599965981885793
          ],
          [
           3.4439905406082897e-09,
           0.014348901890365844,
           0.00371559311249402,
           0.003680089056853858,
           0.00455159569213074,
           0.009599384072626033,
           0.009599383110610154,
           0.009599384460788559,
           0.00959938297900806,
           0.009599383772970604
          ],
          [
           1.1392366092995853e-08,
           0.01879176175152175,
           9.666628388514625e-05,
           0.0037492193193229876,
           0.004785193431789718,
           0.005396035435101028,
           0.00959938350179637,
           0.00959946013728895,
           0.009599383563492579,
           0.009599384512580267
          ],
          [
           5.614963575207857e-09,
           0.010455664784790222,
           0.00029751942226028516,
           0.003555178263908035,
           0.004554613618609021,
           0.0051680725489158565,
           0.009599383262003864,
           0.009599367862221002,
           0.009599387111118858,
           0.009599383556082721
          ],
          [
           2.1446157496826814e-09,
           0.003545933859999063,
           6.392972169206816e-05,
           0.0030985195616787743,
           0.004138633844782186,
           0.0049081574153044686,
           0.005133392462017936,
           0.009599264014951472,
           0.009599383602847978,
           0.009599384142432422
          ],
          [
           2.0474952196576625e-08,
           0.010521482356348966,
           8.756038270998016e-06,
           0.011755105697178204,
           0.00414040788317399,
           0.004986898154852341,
           0.005401608316483109,
           0.00959938341882618,
           0.009599383133777343,
           0.009599383299240441
          ],
          [
           1.2182412030934174e-08,
           0.010047989187573115,
           0.000173342696684259,
           0.0024292705691593658,
           0.003981805487225609,
           0.004796019874432106,
           0.005199981670207684,
           0.004522368171872001,
           0.009599384622251707,
           0.009599383259855343
          ]
         ]
        }
       ],
       "layout": {
        "template": {
         "data": {
          "bar": [
           {
            "error_x": {
             "color": "#2a3f5f"
            },
            "error_y": {
             "color": "#2a3f5f"
            },
            "marker": {
             "line": {
              "color": "#E5ECF6",
              "width": 0.5
             }
            },
            "type": "bar"
           }
          ],
          "barpolar": [
           {
            "marker": {
             "line": {
              "color": "#E5ECF6",
              "width": 0.5
             }
            },
            "type": "barpolar"
           }
          ],
          "carpet": [
           {
            "aaxis": {
             "endlinecolor": "#2a3f5f",
             "gridcolor": "white",
             "linecolor": "white",
             "minorgridcolor": "white",
             "startlinecolor": "#2a3f5f"
            },
            "baxis": {
             "endlinecolor": "#2a3f5f",
             "gridcolor": "white",
             "linecolor": "white",
             "minorgridcolor": "white",
             "startlinecolor": "#2a3f5f"
            },
            "type": "carpet"
           }
          ],
          "choropleth": [
           {
            "colorbar": {
             "outlinewidth": 0,
             "ticks": ""
            },
            "type": "choropleth"
           }
          ],
          "contour": [
           {
            "colorbar": {
             "outlinewidth": 0,
             "ticks": ""
            },
            "colorscale": [
             [
              0,
              "#0d0887"
             ],
             [
              0.1111111111111111,
              "#46039f"
             ],
             [
              0.2222222222222222,
              "#7201a8"
             ],
             [
              0.3333333333333333,
              "#9c179e"
             ],
             [
              0.4444444444444444,
              "#bd3786"
             ],
             [
              0.5555555555555556,
              "#d8576b"
             ],
             [
              0.6666666666666666,
              "#ed7953"
             ],
             [
              0.7777777777777778,
              "#fb9f3a"
             ],
             [
              0.8888888888888888,
              "#fdca26"
             ],
             [
              1,
              "#f0f921"
             ]
            ],
            "type": "contour"
           }
          ],
          "contourcarpet": [
           {
            "colorbar": {
             "outlinewidth": 0,
             "ticks": ""
            },
            "type": "contourcarpet"
           }
          ],
          "heatmap": [
           {
            "colorbar": {
             "outlinewidth": 0,
             "ticks": ""
            },
            "colorscale": [
             [
              0,
              "#0d0887"
             ],
             [
              0.1111111111111111,
              "#46039f"
             ],
             [
              0.2222222222222222,
              "#7201a8"
             ],
             [
              0.3333333333333333,
              "#9c179e"
             ],
             [
              0.4444444444444444,
              "#bd3786"
             ],
             [
              0.5555555555555556,
              "#d8576b"
             ],
             [
              0.6666666666666666,
              "#ed7953"
             ],
             [
              0.7777777777777778,
              "#fb9f3a"
             ],
             [
              0.8888888888888888,
              "#fdca26"
             ],
             [
              1,
              "#f0f921"
             ]
            ],
            "type": "heatmap"
           }
          ],
          "heatmapgl": [
           {
            "colorbar": {
             "outlinewidth": 0,
             "ticks": ""
            },
            "colorscale": [
             [
              0,
              "#0d0887"
             ],
             [
              0.1111111111111111,
              "#46039f"
             ],
             [
              0.2222222222222222,
              "#7201a8"
             ],
             [
              0.3333333333333333,
              "#9c179e"
             ],
             [
              0.4444444444444444,
              "#bd3786"
             ],
             [
              0.5555555555555556,
              "#d8576b"
             ],
             [
              0.6666666666666666,
              "#ed7953"
             ],
             [
              0.7777777777777778,
              "#fb9f3a"
             ],
             [
              0.8888888888888888,
              "#fdca26"
             ],
             [
              1,
              "#f0f921"
             ]
            ],
            "type": "heatmapgl"
           }
          ],
          "histogram": [
           {
            "marker": {
             "colorbar": {
              "outlinewidth": 0,
              "ticks": ""
             }
            },
            "type": "histogram"
           }
          ],
          "histogram2d": [
           {
            "colorbar": {
             "outlinewidth": 0,
             "ticks": ""
            },
            "colorscale": [
             [
              0,
              "#0d0887"
             ],
             [
              0.1111111111111111,
              "#46039f"
             ],
             [
              0.2222222222222222,
              "#7201a8"
             ],
             [
              0.3333333333333333,
              "#9c179e"
             ],
             [
              0.4444444444444444,
              "#bd3786"
             ],
             [
              0.5555555555555556,
              "#d8576b"
             ],
             [
              0.6666666666666666,
              "#ed7953"
             ],
             [
              0.7777777777777778,
              "#fb9f3a"
             ],
             [
              0.8888888888888888,
              "#fdca26"
             ],
             [
              1,
              "#f0f921"
             ]
            ],
            "type": "histogram2d"
           }
          ],
          "histogram2dcontour": [
           {
            "colorbar": {
             "outlinewidth": 0,
             "ticks": ""
            },
            "colorscale": [
             [
              0,
              "#0d0887"
             ],
             [
              0.1111111111111111,
              "#46039f"
             ],
             [
              0.2222222222222222,
              "#7201a8"
             ],
             [
              0.3333333333333333,
              "#9c179e"
             ],
             [
              0.4444444444444444,
              "#bd3786"
             ],
             [
              0.5555555555555556,
              "#d8576b"
             ],
             [
              0.6666666666666666,
              "#ed7953"
             ],
             [
              0.7777777777777778,
              "#fb9f3a"
             ],
             [
              0.8888888888888888,
              "#fdca26"
             ],
             [
              1,
              "#f0f921"
             ]
            ],
            "type": "histogram2dcontour"
           }
          ],
          "mesh3d": [
           {
            "colorbar": {
             "outlinewidth": 0,
             "ticks": ""
            },
            "type": "mesh3d"
           }
          ],
          "parcoords": [
           {
            "line": {
             "colorbar": {
              "outlinewidth": 0,
              "ticks": ""
             }
            },
            "type": "parcoords"
           }
          ],
          "pie": [
           {
            "automargin": true,
            "type": "pie"
           }
          ],
          "scatter": [
           {
            "marker": {
             "colorbar": {
              "outlinewidth": 0,
              "ticks": ""
             }
            },
            "type": "scatter"
           }
          ],
          "scatter3d": [
           {
            "line": {
             "colorbar": {
              "outlinewidth": 0,
              "ticks": ""
             }
            },
            "marker": {
             "colorbar": {
              "outlinewidth": 0,
              "ticks": ""
             }
            },
            "type": "scatter3d"
           }
          ],
          "scattercarpet": [
           {
            "marker": {
             "colorbar": {
              "outlinewidth": 0,
              "ticks": ""
             }
            },
            "type": "scattercarpet"
           }
          ],
          "scattergeo": [
           {
            "marker": {
             "colorbar": {
              "outlinewidth": 0,
              "ticks": ""
             }
            },
            "type": "scattergeo"
           }
          ],
          "scattergl": [
           {
            "marker": {
             "colorbar": {
              "outlinewidth": 0,
              "ticks": ""
             }
            },
            "type": "scattergl"
           }
          ],
          "scattermapbox": [
           {
            "marker": {
             "colorbar": {
              "outlinewidth": 0,
              "ticks": ""
             }
            },
            "type": "scattermapbox"
           }
          ],
          "scatterpolar": [
           {
            "marker": {
             "colorbar": {
              "outlinewidth": 0,
              "ticks": ""
             }
            },
            "type": "scatterpolar"
           }
          ],
          "scatterpolargl": [
           {
            "marker": {
             "colorbar": {
              "outlinewidth": 0,
              "ticks": ""
             }
            },
            "type": "scatterpolargl"
           }
          ],
          "scatterternary": [
           {
            "marker": {
             "colorbar": {
              "outlinewidth": 0,
              "ticks": ""
             }
            },
            "type": "scatterternary"
           }
          ],
          "surface": [
           {
            "colorbar": {
             "outlinewidth": 0,
             "ticks": ""
            },
            "colorscale": [
             [
              0,
              "#0d0887"
             ],
             [
              0.1111111111111111,
              "#46039f"
             ],
             [
              0.2222222222222222,
              "#7201a8"
             ],
             [
              0.3333333333333333,
              "#9c179e"
             ],
             [
              0.4444444444444444,
              "#bd3786"
             ],
             [
              0.5555555555555556,
              "#d8576b"
             ],
             [
              0.6666666666666666,
              "#ed7953"
             ],
             [
              0.7777777777777778,
              "#fb9f3a"
             ],
             [
              0.8888888888888888,
              "#fdca26"
             ],
             [
              1,
              "#f0f921"
             ]
            ],
            "type": "surface"
           }
          ],
          "table": [
           {
            "cells": {
             "fill": {
              "color": "#EBF0F8"
             },
             "line": {
              "color": "white"
             }
            },
            "header": {
             "fill": {
              "color": "#C8D4E3"
             },
             "line": {
              "color": "white"
             }
            },
            "type": "table"
           }
          ]
         },
         "layout": {
          "annotationdefaults": {
           "arrowcolor": "#2a3f5f",
           "arrowhead": 0,
           "arrowwidth": 1
          },
          "coloraxis": {
           "colorbar": {
            "outlinewidth": 0,
            "ticks": ""
           }
          },
          "colorscale": {
           "diverging": [
            [
             0,
             "#8e0152"
            ],
            [
             0.1,
             "#c51b7d"
            ],
            [
             0.2,
             "#de77ae"
            ],
            [
             0.3,
             "#f1b6da"
            ],
            [
             0.4,
             "#fde0ef"
            ],
            [
             0.5,
             "#f7f7f7"
            ],
            [
             0.6,
             "#e6f5d0"
            ],
            [
             0.7,
             "#b8e186"
            ],
            [
             0.8,
             "#7fbc41"
            ],
            [
             0.9,
             "#4d9221"
            ],
            [
             1,
             "#276419"
            ]
           ],
           "sequential": [
            [
             0,
             "#0d0887"
            ],
            [
             0.1111111111111111,
             "#46039f"
            ],
            [
             0.2222222222222222,
             "#7201a8"
            ],
            [
             0.3333333333333333,
             "#9c179e"
            ],
            [
             0.4444444444444444,
             "#bd3786"
            ],
            [
             0.5555555555555556,
             "#d8576b"
            ],
            [
             0.6666666666666666,
             "#ed7953"
            ],
            [
             0.7777777777777778,
             "#fb9f3a"
            ],
            [
             0.8888888888888888,
             "#fdca26"
            ],
            [
             1,
             "#f0f921"
            ]
           ],
           "sequentialminus": [
            [
             0,
             "#0d0887"
            ],
            [
             0.1111111111111111,
             "#46039f"
            ],
            [
             0.2222222222222222,
             "#7201a8"
            ],
            [
             0.3333333333333333,
             "#9c179e"
            ],
            [
             0.4444444444444444,
             "#bd3786"
            ],
            [
             0.5555555555555556,
             "#d8576b"
            ],
            [
             0.6666666666666666,
             "#ed7953"
            ],
            [
             0.7777777777777778,
             "#fb9f3a"
            ],
            [
             0.8888888888888888,
             "#fdca26"
            ],
            [
             1,
             "#f0f921"
            ]
           ]
          },
          "colorway": [
           "#636efa",
           "#EF553B",
           "#00cc96",
           "#ab63fa",
           "#FFA15A",
           "#19d3f3",
           "#FF6692",
           "#B6E880",
           "#FF97FF",
           "#FECB52"
          ],
          "font": {
           "color": "#2a3f5f"
          },
          "geo": {
           "bgcolor": "white",
           "lakecolor": "white",
           "landcolor": "#E5ECF6",
           "showlakes": true,
           "showland": true,
           "subunitcolor": "white"
          },
          "hoverlabel": {
           "align": "left"
          },
          "hovermode": "closest",
          "mapbox": {
           "style": "light"
          },
          "paper_bgcolor": "white",
          "plot_bgcolor": "#E5ECF6",
          "polar": {
           "angularaxis": {
            "gridcolor": "white",
            "linecolor": "white",
            "ticks": ""
           },
           "bgcolor": "#E5ECF6",
           "radialaxis": {
            "gridcolor": "white",
            "linecolor": "white",
            "ticks": ""
           }
          },
          "scene": {
           "xaxis": {
            "backgroundcolor": "#E5ECF6",
            "gridcolor": "white",
            "gridwidth": 2,
            "linecolor": "white",
            "showbackground": true,
            "ticks": "",
            "zerolinecolor": "white"
           },
           "yaxis": {
            "backgroundcolor": "#E5ECF6",
            "gridcolor": "white",
            "gridwidth": 2,
            "linecolor": "white",
            "showbackground": true,
            "ticks": "",
            "zerolinecolor": "white"
           },
           "zaxis": {
            "backgroundcolor": "#E5ECF6",
            "gridcolor": "white",
            "gridwidth": 2,
            "linecolor": "white",
            "showbackground": true,
            "ticks": "",
            "zerolinecolor": "white"
           }
          },
          "shapedefaults": {
           "line": {
            "color": "#2a3f5f"
           }
          },
          "ternary": {
           "aaxis": {
            "gridcolor": "white",
            "linecolor": "white",
            "ticks": ""
           },
           "baxis": {
            "gridcolor": "white",
            "linecolor": "white",
            "ticks": ""
           },
           "bgcolor": "#E5ECF6",
           "caxis": {
            "gridcolor": "white",
            "linecolor": "white",
            "ticks": ""
           }
          },
          "title": {
           "x": 0.05
          },
          "xaxis": {
           "automargin": true,
           "gridcolor": "white",
           "linecolor": "white",
           "ticks": "",
           "title": {
            "standoff": 15
           },
           "zerolinecolor": "white",
           "zerolinewidth": 2
          },
          "yaxis": {
           "automargin": true,
           "gridcolor": "white",
           "linecolor": "white",
           "ticks": "",
           "title": {
            "standoff": 15
           },
           "zerolinecolor": "white",
           "zerolinewidth": 2
          }
         }
        }
       }
      },
      "text/html": [
       "<div>                            <div id=\"0a2ac893-8605-4b0f-ac49-5ef8e5aac201\" class=\"plotly-graph-div\" style=\"height:525px; width:100%;\"></div>            <script type=\"text/javascript\">                require([\"plotly\"], function(Plotly) {                    window.PLOTLYENV=window.PLOTLYENV || {};                                    if (document.getElementById(\"0a2ac893-8605-4b0f-ac49-5ef8e5aac201\")) {                    Plotly.newPlot(                        \"0a2ac893-8605-4b0f-ac49-5ef8e5aac201\",                        [{\"type\": \"surface\", \"x\": [0.01, 1.8272727272727272, 3.644545454545454, 5.461818181818181, 7.279090909090908, 9.096363636363636, 10.913636363636362, 12.73090909090909, 14.548181818181817, 16.365454545454547, 18.182727272727274, 20.0], \"y\": [0.001, 0.112, 0.223, 0.334, 0.445, 0.556, 0.667, 0.778, 0.889, 1.0], \"z\": [[0.015164358348529415, 0.03368500224845467, 0.03380838930790401, 0.038074874013732385, 0.04108864671462304, 0.04311613688503679, 0.04458049055303079, 0.0456904837169619, 0.04656211270412379, 0.04726535083383933], [0.03899064714714043, 0.04704546113540445, 0.008835482676724443, 0.00959936014026783, 0.009599384113024287, 0.009599295555079592, 0.009599384097621483, 0.009599383800669051, 0.009599383786245051, 0.009600608579471582], [3.130761482203427e-08, 0.047157663497813744, 0.002249124748246917, 0.009599332208409694, 0.009599383082173967, 0.009599405091762972, 0.009599383146027412, 0.00959938684311433, 0.009599383196708045, 0.009599404719809301], [3.528965646205728e-09, 0.0003149888927128105, 0.002392768394594345, 0.009599377630056728, 0.009599324080851155, 0.009599207497481277, 0.00959938417972719, 0.009599384600038148, 0.009599390113728842, 0.009599386186293912], [1.83598272990978e-08, 3.0010436804887654e-09, 0.00020038646752383013, 0.004133666505201589, 0.009599385620415814, 0.009599383359662973, 0.009599195677395032, 0.009617081811455428, 0.009599331188019287, 0.009599385191264794], [2.2905608021661042e-09, 0.018915780723516885, 0.0028819206334550597, 0.005022464173040068, 0.0046577059357121725, 0.009599224106578578, 0.009599367503687476, 0.009599384087292885, 0.009599373554489853, 0.009599965981885793], [3.4439905406082897e-09, 0.014348901890365844, 0.00371559311249402, 0.003680089056853858, 0.00455159569213074, 0.009599384072626033, 0.009599383110610154, 0.009599384460788559, 0.00959938297900806, 0.009599383772970604], [1.1392366092995853e-08, 0.01879176175152175, 9.666628388514625e-05, 0.0037492193193229876, 0.004785193431789718, 0.005396035435101028, 0.00959938350179637, 0.00959946013728895, 0.009599383563492579, 0.009599384512580267], [5.614963575207857e-09, 0.010455664784790222, 0.00029751942226028516, 0.003555178263908035, 0.004554613618609021, 0.0051680725489158565, 0.009599383262003864, 0.009599367862221002, 0.009599387111118858, 0.009599383556082721], [2.1446157496826814e-09, 0.003545933859999063, 6.392972169206816e-05, 0.0030985195616787743, 0.004138633844782186, 0.0049081574153044686, 0.005133392462017936, 0.009599264014951472, 0.009599383602847978, 0.009599384142432422], [2.0474952196576625e-08, 0.010521482356348966, 8.756038270998016e-06, 0.011755105697178204, 0.00414040788317399, 0.004986898154852341, 0.005401608316483109, 0.00959938341882618, 0.009599383133777343, 0.009599383299240441], [1.2182412030934174e-08, 0.010047989187573115, 0.000173342696684259, 0.0024292705691593658, 0.003981805487225609, 0.004796019874432106, 0.005199981670207684, 0.004522368171872001, 0.009599384622251707, 0.009599383259855343]]}],                        {\"template\": {\"data\": {\"bar\": [{\"error_x\": {\"color\": \"#2a3f5f\"}, \"error_y\": {\"color\": \"#2a3f5f\"}, \"marker\": {\"line\": {\"color\": \"#E5ECF6\", \"width\": 0.5}}, \"type\": \"bar\"}], \"barpolar\": [{\"marker\": {\"line\": {\"color\": \"#E5ECF6\", \"width\": 0.5}}, \"type\": \"barpolar\"}], \"carpet\": [{\"aaxis\": {\"endlinecolor\": \"#2a3f5f\", \"gridcolor\": \"white\", \"linecolor\": \"white\", \"minorgridcolor\": \"white\", \"startlinecolor\": \"#2a3f5f\"}, \"baxis\": {\"endlinecolor\": \"#2a3f5f\", \"gridcolor\": \"white\", \"linecolor\": \"white\", \"minorgridcolor\": \"white\", \"startlinecolor\": \"#2a3f5f\"}, \"type\": \"carpet\"}], \"choropleth\": [{\"colorbar\": {\"outlinewidth\": 0, \"ticks\": \"\"}, \"type\": \"choropleth\"}], \"contour\": [{\"colorbar\": {\"outlinewidth\": 0, \"ticks\": \"\"}, \"colorscale\": [[0.0, \"#0d0887\"], [0.1111111111111111, \"#46039f\"], [0.2222222222222222, \"#7201a8\"], [0.3333333333333333, \"#9c179e\"], [0.4444444444444444, \"#bd3786\"], [0.5555555555555556, \"#d8576b\"], [0.6666666666666666, \"#ed7953\"], [0.7777777777777778, \"#fb9f3a\"], [0.8888888888888888, \"#fdca26\"], [1.0, \"#f0f921\"]], \"type\": \"contour\"}], \"contourcarpet\": [{\"colorbar\": {\"outlinewidth\": 0, \"ticks\": \"\"}, \"type\": \"contourcarpet\"}], \"heatmap\": [{\"colorbar\": {\"outlinewidth\": 0, \"ticks\": \"\"}, \"colorscale\": [[0.0, \"#0d0887\"], [0.1111111111111111, \"#46039f\"], [0.2222222222222222, \"#7201a8\"], [0.3333333333333333, \"#9c179e\"], [0.4444444444444444, \"#bd3786\"], [0.5555555555555556, \"#d8576b\"], [0.6666666666666666, \"#ed7953\"], [0.7777777777777778, \"#fb9f3a\"], [0.8888888888888888, \"#fdca26\"], [1.0, \"#f0f921\"]], \"type\": \"heatmap\"}], \"heatmapgl\": [{\"colorbar\": {\"outlinewidth\": 0, \"ticks\": \"\"}, \"colorscale\": [[0.0, \"#0d0887\"], [0.1111111111111111, \"#46039f\"], [0.2222222222222222, \"#7201a8\"], [0.3333333333333333, \"#9c179e\"], [0.4444444444444444, \"#bd3786\"], [0.5555555555555556, \"#d8576b\"], [0.6666666666666666, \"#ed7953\"], [0.7777777777777778, \"#fb9f3a\"], [0.8888888888888888, \"#fdca26\"], [1.0, \"#f0f921\"]], \"type\": \"heatmapgl\"}], \"histogram\": [{\"marker\": {\"colorbar\": {\"outlinewidth\": 0, \"ticks\": \"\"}}, \"type\": \"histogram\"}], \"histogram2d\": [{\"colorbar\": {\"outlinewidth\": 0, \"ticks\": \"\"}, \"colorscale\": [[0.0, \"#0d0887\"], [0.1111111111111111, \"#46039f\"], [0.2222222222222222, \"#7201a8\"], [0.3333333333333333, \"#9c179e\"], [0.4444444444444444, \"#bd3786\"], [0.5555555555555556, \"#d8576b\"], [0.6666666666666666, \"#ed7953\"], [0.7777777777777778, \"#fb9f3a\"], [0.8888888888888888, \"#fdca26\"], [1.0, \"#f0f921\"]], \"type\": \"histogram2d\"}], \"histogram2dcontour\": [{\"colorbar\": {\"outlinewidth\": 0, \"ticks\": \"\"}, \"colorscale\": [[0.0, \"#0d0887\"], [0.1111111111111111, \"#46039f\"], [0.2222222222222222, \"#7201a8\"], [0.3333333333333333, \"#9c179e\"], [0.4444444444444444, \"#bd3786\"], [0.5555555555555556, \"#d8576b\"], [0.6666666666666666, \"#ed7953\"], [0.7777777777777778, \"#fb9f3a\"], [0.8888888888888888, \"#fdca26\"], [1.0, \"#f0f921\"]], \"type\": \"histogram2dcontour\"}], \"mesh3d\": [{\"colorbar\": {\"outlinewidth\": 0, \"ticks\": \"\"}, \"type\": \"mesh3d\"}], \"parcoords\": [{\"line\": {\"colorbar\": {\"outlinewidth\": 0, \"ticks\": \"\"}}, \"type\": \"parcoords\"}], \"pie\": [{\"automargin\": true, \"type\": \"pie\"}], \"scatter\": [{\"marker\": {\"colorbar\": {\"outlinewidth\": 0, \"ticks\": \"\"}}, \"type\": \"scatter\"}], \"scatter3d\": [{\"line\": {\"colorbar\": {\"outlinewidth\": 0, \"ticks\": \"\"}}, \"marker\": {\"colorbar\": {\"outlinewidth\": 0, \"ticks\": \"\"}}, \"type\": \"scatter3d\"}], \"scattercarpet\": [{\"marker\": {\"colorbar\": {\"outlinewidth\": 0, \"ticks\": \"\"}}, \"type\": \"scattercarpet\"}], \"scattergeo\": [{\"marker\": {\"colorbar\": {\"outlinewidth\": 0, \"ticks\": \"\"}}, \"type\": \"scattergeo\"}], \"scattergl\": [{\"marker\": {\"colorbar\": {\"outlinewidth\": 0, \"ticks\": \"\"}}, \"type\": \"scattergl\"}], \"scattermapbox\": [{\"marker\": {\"colorbar\": {\"outlinewidth\": 0, \"ticks\": \"\"}}, \"type\": \"scattermapbox\"}], \"scatterpolar\": [{\"marker\": {\"colorbar\": {\"outlinewidth\": 0, \"ticks\": \"\"}}, \"type\": \"scatterpolar\"}], \"scatterpolargl\": [{\"marker\": {\"colorbar\": {\"outlinewidth\": 0, \"ticks\": \"\"}}, \"type\": \"scatterpolargl\"}], \"scatterternary\": [{\"marker\": {\"colorbar\": {\"outlinewidth\": 0, \"ticks\": \"\"}}, \"type\": \"scatterternary\"}], \"surface\": [{\"colorbar\": {\"outlinewidth\": 0, \"ticks\": \"\"}, \"colorscale\": [[0.0, \"#0d0887\"], [0.1111111111111111, \"#46039f\"], [0.2222222222222222, \"#7201a8\"], [0.3333333333333333, \"#9c179e\"], [0.4444444444444444, \"#bd3786\"], [0.5555555555555556, \"#d8576b\"], [0.6666666666666666, \"#ed7953\"], [0.7777777777777778, \"#fb9f3a\"], [0.8888888888888888, \"#fdca26\"], [1.0, \"#f0f921\"]], \"type\": \"surface\"}], \"table\": [{\"cells\": {\"fill\": {\"color\": \"#EBF0F8\"}, \"line\": {\"color\": \"white\"}}, \"header\": {\"fill\": {\"color\": \"#C8D4E3\"}, \"line\": {\"color\": \"white\"}}, \"type\": \"table\"}]}, \"layout\": {\"annotationdefaults\": {\"arrowcolor\": \"#2a3f5f\", \"arrowhead\": 0, \"arrowwidth\": 1}, \"coloraxis\": {\"colorbar\": {\"outlinewidth\": 0, \"ticks\": \"\"}}, \"colorscale\": {\"diverging\": [[0, \"#8e0152\"], [0.1, \"#c51b7d\"], [0.2, \"#de77ae\"], [0.3, \"#f1b6da\"], [0.4, \"#fde0ef\"], [0.5, \"#f7f7f7\"], [0.6, \"#e6f5d0\"], [0.7, \"#b8e186\"], [0.8, \"#7fbc41\"], [0.9, \"#4d9221\"], [1, \"#276419\"]], \"sequential\": [[0.0, \"#0d0887\"], [0.1111111111111111, \"#46039f\"], [0.2222222222222222, \"#7201a8\"], [0.3333333333333333, \"#9c179e\"], [0.4444444444444444, \"#bd3786\"], [0.5555555555555556, \"#d8576b\"], [0.6666666666666666, \"#ed7953\"], [0.7777777777777778, \"#fb9f3a\"], [0.8888888888888888, \"#fdca26\"], [1.0, \"#f0f921\"]], \"sequentialminus\": [[0.0, \"#0d0887\"], [0.1111111111111111, \"#46039f\"], [0.2222222222222222, \"#7201a8\"], [0.3333333333333333, \"#9c179e\"], [0.4444444444444444, \"#bd3786\"], [0.5555555555555556, \"#d8576b\"], [0.6666666666666666, \"#ed7953\"], [0.7777777777777778, \"#fb9f3a\"], [0.8888888888888888, \"#fdca26\"], [1.0, \"#f0f921\"]]}, \"colorway\": [\"#636efa\", \"#EF553B\", \"#00cc96\", \"#ab63fa\", \"#FFA15A\", \"#19d3f3\", \"#FF6692\", \"#B6E880\", \"#FF97FF\", \"#FECB52\"], \"font\": {\"color\": \"#2a3f5f\"}, \"geo\": {\"bgcolor\": \"white\", \"lakecolor\": \"white\", \"landcolor\": \"#E5ECF6\", \"showlakes\": true, \"showland\": true, \"subunitcolor\": \"white\"}, \"hoverlabel\": {\"align\": \"left\"}, \"hovermode\": \"closest\", \"mapbox\": {\"style\": \"light\"}, \"paper_bgcolor\": \"white\", \"plot_bgcolor\": \"#E5ECF6\", \"polar\": {\"angularaxis\": {\"gridcolor\": \"white\", \"linecolor\": \"white\", \"ticks\": \"\"}, \"bgcolor\": \"#E5ECF6\", \"radialaxis\": {\"gridcolor\": \"white\", \"linecolor\": \"white\", \"ticks\": \"\"}}, \"scene\": {\"xaxis\": {\"backgroundcolor\": \"#E5ECF6\", \"gridcolor\": \"white\", \"gridwidth\": 2, \"linecolor\": \"white\", \"showbackground\": true, \"ticks\": \"\", \"zerolinecolor\": \"white\"}, \"yaxis\": {\"backgroundcolor\": \"#E5ECF6\", \"gridcolor\": \"white\", \"gridwidth\": 2, \"linecolor\": \"white\", \"showbackground\": true, \"ticks\": \"\", \"zerolinecolor\": \"white\"}, \"zaxis\": {\"backgroundcolor\": \"#E5ECF6\", \"gridcolor\": \"white\", \"gridwidth\": 2, \"linecolor\": \"white\", \"showbackground\": true, \"ticks\": \"\", \"zerolinecolor\": \"white\"}}, \"shapedefaults\": {\"line\": {\"color\": \"#2a3f5f\"}}, \"ternary\": {\"aaxis\": {\"gridcolor\": \"white\", \"linecolor\": \"white\", \"ticks\": \"\"}, \"baxis\": {\"gridcolor\": \"white\", \"linecolor\": \"white\", \"ticks\": \"\"}, \"bgcolor\": \"#E5ECF6\", \"caxis\": {\"gridcolor\": \"white\", \"linecolor\": \"white\", \"ticks\": \"\"}}, \"title\": {\"x\": 0.05}, \"xaxis\": {\"automargin\": true, \"gridcolor\": \"white\", \"linecolor\": \"white\", \"ticks\": \"\", \"title\": {\"standoff\": 15}, \"zerolinecolor\": \"white\", \"zerolinewidth\": 2}, \"yaxis\": {\"automargin\": true, \"gridcolor\": \"white\", \"linecolor\": \"white\", \"ticks\": \"\", \"title\": {\"standoff\": 15}, \"zerolinecolor\": \"white\", \"zerolinewidth\": 2}}}},                        {\"responsive\": true}                    ).then(function(){\n",
       "                            \n",
       "var gd = document.getElementById('0a2ac893-8605-4b0f-ac49-5ef8e5aac201');\n",
       "var x = new MutationObserver(function (mutations, observer) {{\n",
       "        var display = window.getComputedStyle(gd).display;\n",
       "        if (!display || display === 'none') {{\n",
       "            console.log([gd, 'removed!']);\n",
       "            Plotly.purge(gd);\n",
       "            observer.disconnect();\n",
       "        }}\n",
       "}});\n",
       "\n",
       "// Listen for the removal of the full notebook cells\n",
       "var notebookContainer = gd.closest('#notebook-container');\n",
       "if (notebookContainer) {{\n",
       "    x.observe(notebookContainer, {childList: true});\n",
       "}}\n",
       "\n",
       "// Listen for the clearing of the current output cell\n",
       "var outputEl = gd.closest('.output');\n",
       "if (outputEl) {{\n",
       "    x.observe(outputEl, {childList: true});\n",
       "}}\n",
       "\n",
       "                        })                };                });            </script>        </div>"
      ]
     },
     "metadata": {},
     "output_type": "display_data"
    }
   ],
   "source": [
    "fig = go.Figure(go.Surface(\n",
    "    x = w_plans,\n",
    "    y = w_comps,\n",
    "    z = sym_dev_surf))\n",
    "fig.show()"
   ]
  },
  {
   "cell_type": "code",
   "execution_count": 94,
   "metadata": {},
   "outputs": [
    {
     "data": {
      "application/vnd.plotly.v1+json": {
       "config": {
        "plotlyServerURL": "https://plot.ly"
       },
       "data": [
        {
         "type": "surface",
         "x": [
          0.01,
          1.8272727272727272,
          3.644545454545454,
          5.461818181818181,
          7.279090909090908,
          9.096363636363636,
          10.913636363636362,
          12.73090909090909,
          14.548181818181817,
          16.365454545454547,
          18.182727272727274,
          20
         ],
         "y": [
          0.001,
          0.112,
          0.223,
          0.334,
          0.445,
          0.556,
          0.667,
          0.778,
          0.889,
          1
         ],
         "z": [
          [
           0.5775426264838929,
           0.6651021829505598,
           0.6652692890550328,
           0.6571475644486121,
           0.651368171564975,
           0.6474860054131475,
           0.6446865040566261,
           0.6425676122464464,
           0.6409058670566502,
           0.6395667307470566
          ],
          [
           0.0003699702782811176,
           0.0011792373119451146,
           0.0010701966656078016,
           0.0011848065820080145,
           0.001250945114657069,
           0.001295717518067442,
           0.0013284601682820123,
           0.0013528625210641845,
           0.0013723200691167746,
           0.0013711384422461538
          ],
          [
           3.264958356827051e-10,
           0.0011659507250875104,
           0.0002127753833956737,
           0.0010044655510359287,
           0.0010772591245796664,
           0.0011386361326723461,
           0.0011852623391376243,
           0.001221353413656701,
           0.0012510786446921216,
           0.001274351209840684
          ],
          [
           1.7406490185418493e-10,
           5.342450286228811e-05,
           0.00019902492983793528,
           0.0008619103367481889,
           0.0009551804518697048,
           0.0010230906689214286,
           0.0010773492016079393,
           0.001120348765734369,
           0.0011555560658458844,
           0.0011852275039264542
          ],
          [
           1.528877321597713e-10,
           1.2538697235552482e-06,
           0.00010094787866387444,
           0.00031303369498469826,
           0.0008612490712631912,
           0.0009341349635666984,
           0.0009916589335247552,
           0.0009863855149065191,
           0.0010770376350357385,
           0.0011103722141567198
          ],
          [
           1.528920906976681e-11,
           0.00037314466507867085,
           8.848298165456307e-05,
           0.0003339098537834012,
           0.00033351751317919675,
           0.0008615282742612068,
           0.0009198524034226469,
           0.0009700728478752732,
           0.001011549331291554,
           0.0010467712743575713
          ],
          [
           2.5668112904640092e-11,
           0.0003247066346730457,
           0.00018861058292268514,
           0.00023424793925259655,
           0.0003134865612406184,
           0.0008008972401606463,
           0.0008613478457186158,
           0.0009118614154811017,
           0.0009547027551789273,
           0.0009915685226556147
          ],
          [
           4.293170430217008e-11,
           0.00016563968269161012,
           7.58694606093573e-05,
           0.00021513587389474482,
           0.0003030130685656707,
           0.00036930125866765917,
           0.0008104566276600195,
           0.0008611428327360508,
           0.0009051667258464005,
           0.0009427872742530383
          ],
          [
           4.524912712207732e-11,
           0.0002317317101571338,
           7.420332783194905e-05,
           0.0001865223485096069,
           0.0002734436002170697,
           0.00033872189838913,
           0.0007655992633529943,
           0.0008176923366715648,
           0.0008614051677808715,
           0.0009000315970422936
          ],
          [
           1.2932441610466654e-11,
           1.132603641113501e-05,
           6.269488137731313e-05,
           0.0001650961799448681,
           0.000240375672647493,
           0.00031546650578442344,
           0.00034647016047275404,
           0.000777661409800532,
           0.0008223178279393627,
           0.0008614034636002108
          ],
          [
           1.3878585949209126e-11,
           0.00018870468868610244,
           5.7024736122535427e-05,
           0.00028960644821383294,
           0.0002278278689991297,
           0.00029878813619222457,
           0.0003415886297708282,
           0.0007423641474611041,
           0.0007870603479133369,
           0.0008264473768137977
          ],
          [
           1.2522008698572015e-11,
           0.00016775767633229064,
           5.7828468960882994e-05,
           0.0001296059719440942,
           0.00021014649525407956,
           0.0002743186043829214,
           0.0003199797288724179,
           0.00030465483664932443,
           0.0007551287498535347,
           0.0007946369079702265
          ]
         ]
        }
       ],
       "layout": {
        "template": {
         "data": {
          "bar": [
           {
            "error_x": {
             "color": "#2a3f5f"
            },
            "error_y": {
             "color": "#2a3f5f"
            },
            "marker": {
             "line": {
              "color": "#E5ECF6",
              "width": 0.5
             }
            },
            "type": "bar"
           }
          ],
          "barpolar": [
           {
            "marker": {
             "line": {
              "color": "#E5ECF6",
              "width": 0.5
             }
            },
            "type": "barpolar"
           }
          ],
          "carpet": [
           {
            "aaxis": {
             "endlinecolor": "#2a3f5f",
             "gridcolor": "white",
             "linecolor": "white",
             "minorgridcolor": "white",
             "startlinecolor": "#2a3f5f"
            },
            "baxis": {
             "endlinecolor": "#2a3f5f",
             "gridcolor": "white",
             "linecolor": "white",
             "minorgridcolor": "white",
             "startlinecolor": "#2a3f5f"
            },
            "type": "carpet"
           }
          ],
          "choropleth": [
           {
            "colorbar": {
             "outlinewidth": 0,
             "ticks": ""
            },
            "type": "choropleth"
           }
          ],
          "contour": [
           {
            "colorbar": {
             "outlinewidth": 0,
             "ticks": ""
            },
            "colorscale": [
             [
              0,
              "#0d0887"
             ],
             [
              0.1111111111111111,
              "#46039f"
             ],
             [
              0.2222222222222222,
              "#7201a8"
             ],
             [
              0.3333333333333333,
              "#9c179e"
             ],
             [
              0.4444444444444444,
              "#bd3786"
             ],
             [
              0.5555555555555556,
              "#d8576b"
             ],
             [
              0.6666666666666666,
              "#ed7953"
             ],
             [
              0.7777777777777778,
              "#fb9f3a"
             ],
             [
              0.8888888888888888,
              "#fdca26"
             ],
             [
              1,
              "#f0f921"
             ]
            ],
            "type": "contour"
           }
          ],
          "contourcarpet": [
           {
            "colorbar": {
             "outlinewidth": 0,
             "ticks": ""
            },
            "type": "contourcarpet"
           }
          ],
          "heatmap": [
           {
            "colorbar": {
             "outlinewidth": 0,
             "ticks": ""
            },
            "colorscale": [
             [
              0,
              "#0d0887"
             ],
             [
              0.1111111111111111,
              "#46039f"
             ],
             [
              0.2222222222222222,
              "#7201a8"
             ],
             [
              0.3333333333333333,
              "#9c179e"
             ],
             [
              0.4444444444444444,
              "#bd3786"
             ],
             [
              0.5555555555555556,
              "#d8576b"
             ],
             [
              0.6666666666666666,
              "#ed7953"
             ],
             [
              0.7777777777777778,
              "#fb9f3a"
             ],
             [
              0.8888888888888888,
              "#fdca26"
             ],
             [
              1,
              "#f0f921"
             ]
            ],
            "type": "heatmap"
           }
          ],
          "heatmapgl": [
           {
            "colorbar": {
             "outlinewidth": 0,
             "ticks": ""
            },
            "colorscale": [
             [
              0,
              "#0d0887"
             ],
             [
              0.1111111111111111,
              "#46039f"
             ],
             [
              0.2222222222222222,
              "#7201a8"
             ],
             [
              0.3333333333333333,
              "#9c179e"
             ],
             [
              0.4444444444444444,
              "#bd3786"
             ],
             [
              0.5555555555555556,
              "#d8576b"
             ],
             [
              0.6666666666666666,
              "#ed7953"
             ],
             [
              0.7777777777777778,
              "#fb9f3a"
             ],
             [
              0.8888888888888888,
              "#fdca26"
             ],
             [
              1,
              "#f0f921"
             ]
            ],
            "type": "heatmapgl"
           }
          ],
          "histogram": [
           {
            "marker": {
             "colorbar": {
              "outlinewidth": 0,
              "ticks": ""
             }
            },
            "type": "histogram"
           }
          ],
          "histogram2d": [
           {
            "colorbar": {
             "outlinewidth": 0,
             "ticks": ""
            },
            "colorscale": [
             [
              0,
              "#0d0887"
             ],
             [
              0.1111111111111111,
              "#46039f"
             ],
             [
              0.2222222222222222,
              "#7201a8"
             ],
             [
              0.3333333333333333,
              "#9c179e"
             ],
             [
              0.4444444444444444,
              "#bd3786"
             ],
             [
              0.5555555555555556,
              "#d8576b"
             ],
             [
              0.6666666666666666,
              "#ed7953"
             ],
             [
              0.7777777777777778,
              "#fb9f3a"
             ],
             [
              0.8888888888888888,
              "#fdca26"
             ],
             [
              1,
              "#f0f921"
             ]
            ],
            "type": "histogram2d"
           }
          ],
          "histogram2dcontour": [
           {
            "colorbar": {
             "outlinewidth": 0,
             "ticks": ""
            },
            "colorscale": [
             [
              0,
              "#0d0887"
             ],
             [
              0.1111111111111111,
              "#46039f"
             ],
             [
              0.2222222222222222,
              "#7201a8"
             ],
             [
              0.3333333333333333,
              "#9c179e"
             ],
             [
              0.4444444444444444,
              "#bd3786"
             ],
             [
              0.5555555555555556,
              "#d8576b"
             ],
             [
              0.6666666666666666,
              "#ed7953"
             ],
             [
              0.7777777777777778,
              "#fb9f3a"
             ],
             [
              0.8888888888888888,
              "#fdca26"
             ],
             [
              1,
              "#f0f921"
             ]
            ],
            "type": "histogram2dcontour"
           }
          ],
          "mesh3d": [
           {
            "colorbar": {
             "outlinewidth": 0,
             "ticks": ""
            },
            "type": "mesh3d"
           }
          ],
          "parcoords": [
           {
            "line": {
             "colorbar": {
              "outlinewidth": 0,
              "ticks": ""
             }
            },
            "type": "parcoords"
           }
          ],
          "pie": [
           {
            "automargin": true,
            "type": "pie"
           }
          ],
          "scatter": [
           {
            "marker": {
             "colorbar": {
              "outlinewidth": 0,
              "ticks": ""
             }
            },
            "type": "scatter"
           }
          ],
          "scatter3d": [
           {
            "line": {
             "colorbar": {
              "outlinewidth": 0,
              "ticks": ""
             }
            },
            "marker": {
             "colorbar": {
              "outlinewidth": 0,
              "ticks": ""
             }
            },
            "type": "scatter3d"
           }
          ],
          "scattercarpet": [
           {
            "marker": {
             "colorbar": {
              "outlinewidth": 0,
              "ticks": ""
             }
            },
            "type": "scattercarpet"
           }
          ],
          "scattergeo": [
           {
            "marker": {
             "colorbar": {
              "outlinewidth": 0,
              "ticks": ""
             }
            },
            "type": "scattergeo"
           }
          ],
          "scattergl": [
           {
            "marker": {
             "colorbar": {
              "outlinewidth": 0,
              "ticks": ""
             }
            },
            "type": "scattergl"
           }
          ],
          "scattermapbox": [
           {
            "marker": {
             "colorbar": {
              "outlinewidth": 0,
              "ticks": ""
             }
            },
            "type": "scattermapbox"
           }
          ],
          "scatterpolar": [
           {
            "marker": {
             "colorbar": {
              "outlinewidth": 0,
              "ticks": ""
             }
            },
            "type": "scatterpolar"
           }
          ],
          "scatterpolargl": [
           {
            "marker": {
             "colorbar": {
              "outlinewidth": 0,
              "ticks": ""
             }
            },
            "type": "scatterpolargl"
           }
          ],
          "scatterternary": [
           {
            "marker": {
             "colorbar": {
              "outlinewidth": 0,
              "ticks": ""
             }
            },
            "type": "scatterternary"
           }
          ],
          "surface": [
           {
            "colorbar": {
             "outlinewidth": 0,
             "ticks": ""
            },
            "colorscale": [
             [
              0,
              "#0d0887"
             ],
             [
              0.1111111111111111,
              "#46039f"
             ],
             [
              0.2222222222222222,
              "#7201a8"
             ],
             [
              0.3333333333333333,
              "#9c179e"
             ],
             [
              0.4444444444444444,
              "#bd3786"
             ],
             [
              0.5555555555555556,
              "#d8576b"
             ],
             [
              0.6666666666666666,
              "#ed7953"
             ],
             [
              0.7777777777777778,
              "#fb9f3a"
             ],
             [
              0.8888888888888888,
              "#fdca26"
             ],
             [
              1,
              "#f0f921"
             ]
            ],
            "type": "surface"
           }
          ],
          "table": [
           {
            "cells": {
             "fill": {
              "color": "#EBF0F8"
             },
             "line": {
              "color": "white"
             }
            },
            "header": {
             "fill": {
              "color": "#C8D4E3"
             },
             "line": {
              "color": "white"
             }
            },
            "type": "table"
           }
          ]
         },
         "layout": {
          "annotationdefaults": {
           "arrowcolor": "#2a3f5f",
           "arrowhead": 0,
           "arrowwidth": 1
          },
          "coloraxis": {
           "colorbar": {
            "outlinewidth": 0,
            "ticks": ""
           }
          },
          "colorscale": {
           "diverging": [
            [
             0,
             "#8e0152"
            ],
            [
             0.1,
             "#c51b7d"
            ],
            [
             0.2,
             "#de77ae"
            ],
            [
             0.3,
             "#f1b6da"
            ],
            [
             0.4,
             "#fde0ef"
            ],
            [
             0.5,
             "#f7f7f7"
            ],
            [
             0.6,
             "#e6f5d0"
            ],
            [
             0.7,
             "#b8e186"
            ],
            [
             0.8,
             "#7fbc41"
            ],
            [
             0.9,
             "#4d9221"
            ],
            [
             1,
             "#276419"
            ]
           ],
           "sequential": [
            [
             0,
             "#0d0887"
            ],
            [
             0.1111111111111111,
             "#46039f"
            ],
            [
             0.2222222222222222,
             "#7201a8"
            ],
            [
             0.3333333333333333,
             "#9c179e"
            ],
            [
             0.4444444444444444,
             "#bd3786"
            ],
            [
             0.5555555555555556,
             "#d8576b"
            ],
            [
             0.6666666666666666,
             "#ed7953"
            ],
            [
             0.7777777777777778,
             "#fb9f3a"
            ],
            [
             0.8888888888888888,
             "#fdca26"
            ],
            [
             1,
             "#f0f921"
            ]
           ],
           "sequentialminus": [
            [
             0,
             "#0d0887"
            ],
            [
             0.1111111111111111,
             "#46039f"
            ],
            [
             0.2222222222222222,
             "#7201a8"
            ],
            [
             0.3333333333333333,
             "#9c179e"
            ],
            [
             0.4444444444444444,
             "#bd3786"
            ],
            [
             0.5555555555555556,
             "#d8576b"
            ],
            [
             0.6666666666666666,
             "#ed7953"
            ],
            [
             0.7777777777777778,
             "#fb9f3a"
            ],
            [
             0.8888888888888888,
             "#fdca26"
            ],
            [
             1,
             "#f0f921"
            ]
           ]
          },
          "colorway": [
           "#636efa",
           "#EF553B",
           "#00cc96",
           "#ab63fa",
           "#FFA15A",
           "#19d3f3",
           "#FF6692",
           "#B6E880",
           "#FF97FF",
           "#FECB52"
          ],
          "font": {
           "color": "#2a3f5f"
          },
          "geo": {
           "bgcolor": "white",
           "lakecolor": "white",
           "landcolor": "#E5ECF6",
           "showlakes": true,
           "showland": true,
           "subunitcolor": "white"
          },
          "hoverlabel": {
           "align": "left"
          },
          "hovermode": "closest",
          "mapbox": {
           "style": "light"
          },
          "paper_bgcolor": "white",
          "plot_bgcolor": "#E5ECF6",
          "polar": {
           "angularaxis": {
            "gridcolor": "white",
            "linecolor": "white",
            "ticks": ""
           },
           "bgcolor": "#E5ECF6",
           "radialaxis": {
            "gridcolor": "white",
            "linecolor": "white",
            "ticks": ""
           }
          },
          "scene": {
           "xaxis": {
            "backgroundcolor": "#E5ECF6",
            "gridcolor": "white",
            "gridwidth": 2,
            "linecolor": "white",
            "showbackground": true,
            "ticks": "",
            "zerolinecolor": "white"
           },
           "yaxis": {
            "backgroundcolor": "#E5ECF6",
            "gridcolor": "white",
            "gridwidth": 2,
            "linecolor": "white",
            "showbackground": true,
            "ticks": "",
            "zerolinecolor": "white"
           },
           "zaxis": {
            "backgroundcolor": "#E5ECF6",
            "gridcolor": "white",
            "gridwidth": 2,
            "linecolor": "white",
            "showbackground": true,
            "ticks": "",
            "zerolinecolor": "white"
           }
          },
          "shapedefaults": {
           "line": {
            "color": "#2a3f5f"
           }
          },
          "ternary": {
           "aaxis": {
            "gridcolor": "white",
            "linecolor": "white",
            "ticks": ""
           },
           "baxis": {
            "gridcolor": "white",
            "linecolor": "white",
            "ticks": ""
           },
           "bgcolor": "#E5ECF6",
           "caxis": {
            "gridcolor": "white",
            "linecolor": "white",
            "ticks": ""
           }
          },
          "title": {
           "x": 0.05
          },
          "xaxis": {
           "automargin": true,
           "gridcolor": "white",
           "linecolor": "white",
           "ticks": "",
           "title": {
            "standoff": 15
           },
           "zerolinecolor": "white",
           "zerolinewidth": 2
          },
          "yaxis": {
           "automargin": true,
           "gridcolor": "white",
           "linecolor": "white",
           "ticks": "",
           "title": {
            "standoff": 15
           },
           "zerolinecolor": "white",
           "zerolinewidth": 2
          }
         }
        }
       }
      },
      "text/html": [
       "<div>                            <div id=\"65e22531-d722-45e6-b9a8-47164428b137\" class=\"plotly-graph-div\" style=\"height:525px; width:100%;\"></div>            <script type=\"text/javascript\">                require([\"plotly\"], function(Plotly) {                    window.PLOTLYENV=window.PLOTLYENV || {};                                    if (document.getElementById(\"65e22531-d722-45e6-b9a8-47164428b137\")) {                    Plotly.newPlot(                        \"65e22531-d722-45e6-b9a8-47164428b137\",                        [{\"type\": \"surface\", \"x\": [0.01, 1.8272727272727272, 3.644545454545454, 5.461818181818181, 7.279090909090908, 9.096363636363636, 10.913636363636362, 12.73090909090909, 14.548181818181817, 16.365454545454547, 18.182727272727274, 20.0], \"y\": [0.001, 0.112, 0.223, 0.334, 0.445, 0.556, 0.667, 0.778, 0.889, 1.0], \"z\": [[0.5775426264838929, 0.6651021829505598, 0.6652692890550328, 0.6571475644486121, 0.651368171564975, 0.6474860054131475, 0.6446865040566261, 0.6425676122464464, 0.6409058670566502, 0.6395667307470566], [0.0003699702782811176, 0.0011792373119451146, 0.0010701966656078016, 0.0011848065820080145, 0.001250945114657069, 0.001295717518067442, 0.0013284601682820123, 0.0013528625210641845, 0.0013723200691167746, 0.0013711384422461538], [3.264958356827051e-10, 0.0011659507250875104, 0.0002127753833956737, 0.0010044655510359287, 0.0010772591245796664, 0.0011386361326723461, 0.0011852623391376243, 0.001221353413656701, 0.0012510786446921216, 0.001274351209840684], [1.7406490185418493e-10, 5.342450286228811e-05, 0.00019902492983793528, 0.0008619103367481889, 0.0009551804518697048, 0.0010230906689214286, 0.0010773492016079393, 0.001120348765734369, 0.0011555560658458844, 0.0011852275039264542], [1.528877321597713e-10, 1.2538697235552482e-06, 0.00010094787866387444, 0.00031303369498469826, 0.0008612490712631912, 0.0009341349635666984, 0.0009916589335247552, 0.0009863855149065191, 0.0010770376350357385, 0.0011103722141567198], [1.528920906976681e-11, 0.00037314466507867085, 8.848298165456307e-05, 0.0003339098537834012, 0.00033351751317919675, 0.0008615282742612068, 0.0009198524034226469, 0.0009700728478752732, 0.001011549331291554, 0.0010467712743575713], [2.5668112904640092e-11, 0.0003247066346730457, 0.00018861058292268514, 0.00023424793925259655, 0.0003134865612406184, 0.0008008972401606463, 0.0008613478457186158, 0.0009118614154811017, 0.0009547027551789273, 0.0009915685226556147], [4.293170430217008e-11, 0.00016563968269161012, 7.58694606093573e-05, 0.00021513587389474482, 0.0003030130685656707, 0.00036930125866765917, 0.0008104566276600195, 0.0008611428327360508, 0.0009051667258464005, 0.0009427872742530383], [4.524912712207732e-11, 0.0002317317101571338, 7.420332783194905e-05, 0.0001865223485096069, 0.0002734436002170697, 0.00033872189838913, 0.0007655992633529943, 0.0008176923366715648, 0.0008614051677808715, 0.0009000315970422936], [1.2932441610466654e-11, 1.132603641113501e-05, 6.269488137731313e-05, 0.0001650961799448681, 0.000240375672647493, 0.00031546650578442344, 0.00034647016047275404, 0.000777661409800532, 0.0008223178279393627, 0.0008614034636002108], [1.3878585949209126e-11, 0.00018870468868610244, 5.7024736122535427e-05, 0.00028960644821383294, 0.0002278278689991297, 0.00029878813619222457, 0.0003415886297708282, 0.0007423641474611041, 0.0007870603479133369, 0.0008264473768137977], [1.2522008698572015e-11, 0.00016775767633229064, 5.7828468960882994e-05, 0.0001296059719440942, 0.00021014649525407956, 0.0002743186043829214, 0.0003199797288724179, 0.00030465483664932443, 0.0007551287498535347, 0.0007946369079702265]]}],                        {\"template\": {\"data\": {\"bar\": [{\"error_x\": {\"color\": \"#2a3f5f\"}, \"error_y\": {\"color\": \"#2a3f5f\"}, \"marker\": {\"line\": {\"color\": \"#E5ECF6\", \"width\": 0.5}}, \"type\": \"bar\"}], \"barpolar\": [{\"marker\": {\"line\": {\"color\": \"#E5ECF6\", \"width\": 0.5}}, \"type\": \"barpolar\"}], \"carpet\": [{\"aaxis\": {\"endlinecolor\": \"#2a3f5f\", \"gridcolor\": \"white\", \"linecolor\": \"white\", \"minorgridcolor\": \"white\", \"startlinecolor\": \"#2a3f5f\"}, \"baxis\": {\"endlinecolor\": \"#2a3f5f\", \"gridcolor\": \"white\", \"linecolor\": \"white\", \"minorgridcolor\": \"white\", \"startlinecolor\": \"#2a3f5f\"}, \"type\": \"carpet\"}], \"choropleth\": [{\"colorbar\": {\"outlinewidth\": 0, \"ticks\": \"\"}, \"type\": \"choropleth\"}], \"contour\": [{\"colorbar\": {\"outlinewidth\": 0, \"ticks\": \"\"}, \"colorscale\": [[0.0, \"#0d0887\"], [0.1111111111111111, \"#46039f\"], [0.2222222222222222, \"#7201a8\"], [0.3333333333333333, \"#9c179e\"], [0.4444444444444444, \"#bd3786\"], [0.5555555555555556, \"#d8576b\"], [0.6666666666666666, \"#ed7953\"], [0.7777777777777778, \"#fb9f3a\"], [0.8888888888888888, \"#fdca26\"], [1.0, \"#f0f921\"]], \"type\": \"contour\"}], \"contourcarpet\": [{\"colorbar\": {\"outlinewidth\": 0, \"ticks\": \"\"}, \"type\": \"contourcarpet\"}], \"heatmap\": [{\"colorbar\": {\"outlinewidth\": 0, \"ticks\": \"\"}, \"colorscale\": [[0.0, \"#0d0887\"], [0.1111111111111111, \"#46039f\"], [0.2222222222222222, \"#7201a8\"], [0.3333333333333333, \"#9c179e\"], [0.4444444444444444, \"#bd3786\"], [0.5555555555555556, \"#d8576b\"], [0.6666666666666666, \"#ed7953\"], [0.7777777777777778, \"#fb9f3a\"], [0.8888888888888888, \"#fdca26\"], [1.0, \"#f0f921\"]], \"type\": \"heatmap\"}], \"heatmapgl\": [{\"colorbar\": {\"outlinewidth\": 0, \"ticks\": \"\"}, \"colorscale\": [[0.0, \"#0d0887\"], [0.1111111111111111, \"#46039f\"], [0.2222222222222222, \"#7201a8\"], [0.3333333333333333, \"#9c179e\"], [0.4444444444444444, \"#bd3786\"], [0.5555555555555556, \"#d8576b\"], [0.6666666666666666, \"#ed7953\"], [0.7777777777777778, \"#fb9f3a\"], [0.8888888888888888, \"#fdca26\"], [1.0, \"#f0f921\"]], \"type\": \"heatmapgl\"}], \"histogram\": [{\"marker\": {\"colorbar\": {\"outlinewidth\": 0, \"ticks\": \"\"}}, \"type\": \"histogram\"}], \"histogram2d\": [{\"colorbar\": {\"outlinewidth\": 0, \"ticks\": \"\"}, \"colorscale\": [[0.0, \"#0d0887\"], [0.1111111111111111, \"#46039f\"], [0.2222222222222222, \"#7201a8\"], [0.3333333333333333, \"#9c179e\"], [0.4444444444444444, \"#bd3786\"], [0.5555555555555556, \"#d8576b\"], [0.6666666666666666, \"#ed7953\"], [0.7777777777777778, \"#fb9f3a\"], [0.8888888888888888, \"#fdca26\"], [1.0, \"#f0f921\"]], \"type\": \"histogram2d\"}], \"histogram2dcontour\": [{\"colorbar\": {\"outlinewidth\": 0, \"ticks\": \"\"}, \"colorscale\": [[0.0, \"#0d0887\"], [0.1111111111111111, \"#46039f\"], [0.2222222222222222, \"#7201a8\"], [0.3333333333333333, \"#9c179e\"], [0.4444444444444444, \"#bd3786\"], [0.5555555555555556, \"#d8576b\"], [0.6666666666666666, \"#ed7953\"], [0.7777777777777778, \"#fb9f3a\"], [0.8888888888888888, \"#fdca26\"], [1.0, \"#f0f921\"]], \"type\": \"histogram2dcontour\"}], \"mesh3d\": [{\"colorbar\": {\"outlinewidth\": 0, \"ticks\": \"\"}, \"type\": \"mesh3d\"}], \"parcoords\": [{\"line\": {\"colorbar\": {\"outlinewidth\": 0, \"ticks\": \"\"}}, \"type\": \"parcoords\"}], \"pie\": [{\"automargin\": true, \"type\": \"pie\"}], \"scatter\": [{\"marker\": {\"colorbar\": {\"outlinewidth\": 0, \"ticks\": \"\"}}, \"type\": \"scatter\"}], \"scatter3d\": [{\"line\": {\"colorbar\": {\"outlinewidth\": 0, \"ticks\": \"\"}}, \"marker\": {\"colorbar\": {\"outlinewidth\": 0, \"ticks\": \"\"}}, \"type\": \"scatter3d\"}], \"scattercarpet\": [{\"marker\": {\"colorbar\": {\"outlinewidth\": 0, \"ticks\": \"\"}}, \"type\": \"scattercarpet\"}], \"scattergeo\": [{\"marker\": {\"colorbar\": {\"outlinewidth\": 0, \"ticks\": \"\"}}, \"type\": \"scattergeo\"}], \"scattergl\": [{\"marker\": {\"colorbar\": {\"outlinewidth\": 0, \"ticks\": \"\"}}, \"type\": \"scattergl\"}], \"scattermapbox\": [{\"marker\": {\"colorbar\": {\"outlinewidth\": 0, \"ticks\": \"\"}}, \"type\": \"scattermapbox\"}], \"scatterpolar\": [{\"marker\": {\"colorbar\": {\"outlinewidth\": 0, \"ticks\": \"\"}}, \"type\": \"scatterpolar\"}], \"scatterpolargl\": [{\"marker\": {\"colorbar\": {\"outlinewidth\": 0, \"ticks\": \"\"}}, \"type\": \"scatterpolargl\"}], \"scatterternary\": [{\"marker\": {\"colorbar\": {\"outlinewidth\": 0, \"ticks\": \"\"}}, \"type\": \"scatterternary\"}], \"surface\": [{\"colorbar\": {\"outlinewidth\": 0, \"ticks\": \"\"}, \"colorscale\": [[0.0, \"#0d0887\"], [0.1111111111111111, \"#46039f\"], [0.2222222222222222, \"#7201a8\"], [0.3333333333333333, \"#9c179e\"], [0.4444444444444444, \"#bd3786\"], [0.5555555555555556, \"#d8576b\"], [0.6666666666666666, \"#ed7953\"], [0.7777777777777778, \"#fb9f3a\"], [0.8888888888888888, \"#fdca26\"], [1.0, \"#f0f921\"]], \"type\": \"surface\"}], \"table\": [{\"cells\": {\"fill\": {\"color\": \"#EBF0F8\"}, \"line\": {\"color\": \"white\"}}, \"header\": {\"fill\": {\"color\": \"#C8D4E3\"}, \"line\": {\"color\": \"white\"}}, \"type\": \"table\"}]}, \"layout\": {\"annotationdefaults\": {\"arrowcolor\": \"#2a3f5f\", \"arrowhead\": 0, \"arrowwidth\": 1}, \"coloraxis\": {\"colorbar\": {\"outlinewidth\": 0, \"ticks\": \"\"}}, \"colorscale\": {\"diverging\": [[0, \"#8e0152\"], [0.1, \"#c51b7d\"], [0.2, \"#de77ae\"], [0.3, \"#f1b6da\"], [0.4, \"#fde0ef\"], [0.5, \"#f7f7f7\"], [0.6, \"#e6f5d0\"], [0.7, \"#b8e186\"], [0.8, \"#7fbc41\"], [0.9, \"#4d9221\"], [1, \"#276419\"]], \"sequential\": [[0.0, \"#0d0887\"], [0.1111111111111111, \"#46039f\"], [0.2222222222222222, \"#7201a8\"], [0.3333333333333333, \"#9c179e\"], [0.4444444444444444, \"#bd3786\"], [0.5555555555555556, \"#d8576b\"], [0.6666666666666666, \"#ed7953\"], [0.7777777777777778, \"#fb9f3a\"], [0.8888888888888888, \"#fdca26\"], [1.0, \"#f0f921\"]], \"sequentialminus\": [[0.0, \"#0d0887\"], [0.1111111111111111, \"#46039f\"], [0.2222222222222222, \"#7201a8\"], [0.3333333333333333, \"#9c179e\"], [0.4444444444444444, \"#bd3786\"], [0.5555555555555556, \"#d8576b\"], [0.6666666666666666, \"#ed7953\"], [0.7777777777777778, \"#fb9f3a\"], [0.8888888888888888, \"#fdca26\"], [1.0, \"#f0f921\"]]}, \"colorway\": [\"#636efa\", \"#EF553B\", \"#00cc96\", \"#ab63fa\", \"#FFA15A\", \"#19d3f3\", \"#FF6692\", \"#B6E880\", \"#FF97FF\", \"#FECB52\"], \"font\": {\"color\": \"#2a3f5f\"}, \"geo\": {\"bgcolor\": \"white\", \"lakecolor\": \"white\", \"landcolor\": \"#E5ECF6\", \"showlakes\": true, \"showland\": true, \"subunitcolor\": \"white\"}, \"hoverlabel\": {\"align\": \"left\"}, \"hovermode\": \"closest\", \"mapbox\": {\"style\": \"light\"}, \"paper_bgcolor\": \"white\", \"plot_bgcolor\": \"#E5ECF6\", \"polar\": {\"angularaxis\": {\"gridcolor\": \"white\", \"linecolor\": \"white\", \"ticks\": \"\"}, \"bgcolor\": \"#E5ECF6\", \"radialaxis\": {\"gridcolor\": \"white\", \"linecolor\": \"white\", \"ticks\": \"\"}}, \"scene\": {\"xaxis\": {\"backgroundcolor\": \"#E5ECF6\", \"gridcolor\": \"white\", \"gridwidth\": 2, \"linecolor\": \"white\", \"showbackground\": true, \"ticks\": \"\", \"zerolinecolor\": \"white\"}, \"yaxis\": {\"backgroundcolor\": \"#E5ECF6\", \"gridcolor\": \"white\", \"gridwidth\": 2, \"linecolor\": \"white\", \"showbackground\": true, \"ticks\": \"\", \"zerolinecolor\": \"white\"}, \"zaxis\": {\"backgroundcolor\": \"#E5ECF6\", \"gridcolor\": \"white\", \"gridwidth\": 2, \"linecolor\": \"white\", \"showbackground\": true, \"ticks\": \"\", \"zerolinecolor\": \"white\"}}, \"shapedefaults\": {\"line\": {\"color\": \"#2a3f5f\"}}, \"ternary\": {\"aaxis\": {\"gridcolor\": \"white\", \"linecolor\": \"white\", \"ticks\": \"\"}, \"baxis\": {\"gridcolor\": \"white\", \"linecolor\": \"white\", \"ticks\": \"\"}, \"bgcolor\": \"#E5ECF6\", \"caxis\": {\"gridcolor\": \"white\", \"linecolor\": \"white\", \"ticks\": \"\"}}, \"title\": {\"x\": 0.05}, \"xaxis\": {\"automargin\": true, \"gridcolor\": \"white\", \"linecolor\": \"white\", \"ticks\": \"\", \"title\": {\"standoff\": 15}, \"zerolinecolor\": \"white\", \"zerolinewidth\": 2}, \"yaxis\": {\"automargin\": true, \"gridcolor\": \"white\", \"linecolor\": \"white\", \"ticks\": \"\", \"title\": {\"standoff\": 15}, \"zerolinecolor\": \"white\", \"zerolinewidth\": 2}}}},                        {\"responsive\": true}                    ).then(function(){\n",
       "                            \n",
       "var gd = document.getElementById('65e22531-d722-45e6-b9a8-47164428b137');\n",
       "var x = new MutationObserver(function (mutations, observer) {{\n",
       "        var display = window.getComputedStyle(gd).display;\n",
       "        if (!display || display === 'none') {{\n",
       "            console.log([gd, 'removed!']);\n",
       "            Plotly.purge(gd);\n",
       "            observer.disconnect();\n",
       "        }}\n",
       "}});\n",
       "\n",
       "// Listen for the removal of the full notebook cells\n",
       "var notebookContainer = gd.closest('#notebook-container');\n",
       "if (notebookContainer) {{\n",
       "    x.observe(notebookContainer, {childList: true});\n",
       "}}\n",
       "\n",
       "// Listen for the clearing of the current output cell\n",
       "var outputEl = gd.closest('.output');\n",
       "if (outputEl) {{\n",
       "    x.observe(outputEl, {childList: true});\n",
       "}}\n",
       "\n",
       "                        })                };                });            </script>        </div>"
      ]
     },
     "metadata": {},
     "output_type": "display_data"
    }
   ],
   "source": [
    "fig = go.Figure(go.Surface(\n",
    "    x = w_plans,\n",
    "    y = w_comps,\n",
    "    z = plan_dev_surf))\n",
    "fig.show()"
   ]
  },
  {
   "cell_type": "code",
   "execution_count": 95,
   "metadata": {},
   "outputs": [
    {
     "name": "stdout",
     "output_type": "stream",
     "text": [
      "(array([11]), array([0]))\n",
      "(array([9]), array([0]))\n"
     ]
    }
   ],
   "source": [
    "print(np.where(plan_dev_surf == plan_dev_surf.min()))\n",
    "print(np.where(sym_dev_surf == sym_dev_surf.min()))"
   ]
  },
  {
   "cell_type": "code",
   "execution_count": 91,
   "metadata": {
    "scrolled": true
   },
   "outputs": [
    {
     "data": {
      "text/plain": [
       "array([[5.29320156e-02, 5.77034386e-02, 6.00319705e-02, 6.03058443e-02,\n",
       "        6.05016551e-02, 6.07804803e-02, 6.10626018e-02, 6.12629330e-02,\n",
       "        6.13938568e-02, 6.21543493e-02],\n",
       "       [8.49168882e-09, 1.11010674e-08, 5.30540475e-06, 2.89535529e-03,\n",
       "        3.36727937e-02, 5.15758765e-02, 6.67119920e-02, 7.78447674e-02,\n",
       "        8.66182296e-02, 9.37081626e-02],\n",
       "       [1.02812325e-06, 1.05057483e-08, 9.93237112e-03, 3.99368351e-04,\n",
       "        2.77565361e-02, 3.93699311e-02, 5.29224503e-02, 6.40516637e-02,\n",
       "        7.30476698e-02, 8.03419653e-02],\n",
       "       [1.77230298e-07, 1.04024675e-08, 9.78933039e-03, 1.02150251e-02,\n",
       "        1.27965186e-02, 1.98434373e-02, 3.90769988e-02, 5.41014705e-02,\n",
       "        6.29496892e-02, 7.03894730e-02],\n",
       "       [1.99182953e-06, 2.64842489e-07, 9.54406755e-03, 9.97716232e-03,\n",
       "        1.21910668e-02, 1.50371058e-02, 2.06133717e-02, 2.50274287e-02,\n",
       "        5.52342563e-02, 6.23991391e-02],\n",
       "       [7.43133399e-08, 1.05285052e-08, 9.43375428e-03, 9.86449018e-03,\n",
       "        1.68783325e-02, 2.60652109e-02, 1.77938942e-02, 2.26136187e-02,\n",
       "        2.67329671e-02, 2.99292609e-02],\n",
       "       [7.47171624e-09, 5.70568091e-05, 7.29778520e-02, 9.73113023e-03,\n",
       "        1.54789429e-02, 2.45961564e-02, 3.13434510e-02, 3.72972730e-02,\n",
       "        4.34982344e-02, 2.77284198e-02],\n",
       "       [8.66132405e-09, 5.68384403e-04, 1.96771668e-03, 9.62077856e-03,\n",
       "        1.46625534e-02, 2.25500715e-02, 2.91267505e-02, 3.48852599e-02,\n",
       "        3.97483317e-02, 4.61743819e-02],\n",
       "       [8.47307446e-07, 1.00537311e-03, 2.26281148e-03, 9.53415774e-03,\n",
       "        1.26121289e-02, 2.15570814e-02, 2.78498452e-02, 3.31143101e-02,\n",
       "        3.77091023e-02, 4.26789488e-02],\n",
       "       [1.47222056e-08, 1.40024641e-03, 2.71832886e-03, 9.46174276e-03,\n",
       "        1.00001500e-02, 2.07282145e-02, 2.70607111e-02, 3.19058494e-02,\n",
       "        3.63266242e-02, 4.02467399e-02],\n",
       "       [2.47457163e-06, 1.68311194e-03, 2.69514547e-03, 9.46217104e-03,\n",
       "        9.66154714e-03, 1.99731783e-02, 2.59676313e-02, 3.08483981e-02,\n",
       "        3.57136034e-02, 3.89554659e-02],\n",
       "       [1.04886786e-07, 1.96429325e-03, 3.01981094e-03, 7.42842617e-02,\n",
       "        9.58715438e-03, 1.94307698e-02, 2.51886755e-02, 2.97582060e-02,\n",
       "        3.40376509e-02, 3.78539892e-02]])"
      ]
     },
     "execution_count": 91,
     "metadata": {},
     "output_type": "execute_result"
    }
   ],
   "source": [
    "sym_dev_surf"
   ]
  },
  {
   "cell_type": "markdown",
   "metadata": {},
   "source": [
    "# PLOT: True slant angle vs. estimated slant angle  "
   ]
  },
  {
   "cell_type": "code",
   "execution_count": 24,
   "metadata": {},
   "outputs": [
    {
     "data": {
      "text/plain": [
       "[<matplotlib.lines.Line2D at 0x7fa45c936110>]"
      ]
     },
     "execution_count": 24,
     "metadata": {},
     "output_type": "execute_result"
    },
    {
     "data": {
      "image/png": "[encoded data removed]",
      "text/plain": [
       "<Figure size 432x288 with 1 Axes>"
      ]
     },
     "metadata": {
      "needs_background": "light"
     },
     "output_type": "display_data"
    }
   ],
   "source": [
    "true_SAs = []\n",
    "est_SAs = []\n",
    "for k in range(len(everything['uid'])):\n",
    "    if type(everything[\"true_slant_angle\"][k]) != float and type(everything['loss4results'][k]) != float:\n",
    "        if everything[\"true_slant_angle\"][k]['fun'] <= 1e-10:\n",
    "            true_SAs += [np.degrees(everything[\"true_slant_angle\"][k]['x'][0])]\n",
    "            est_SAs += [np.degrees(everything['loss4results'][k]['x'])]\n",
    "\n",
    "est_SAs = np.hstack(est_SAs)\n",
    "\n",
    "plt.scatter(true_SAs, est_SAs, alpha=.5)\n",
    "plt.xlabel(\"True Slant Angle\")\n",
    "plt.ylabel(\"Estimated Slant Angle\")\n",
    "plt.plot([0,90], [0,90], 'r--')\n",
    "#plt.savefig(\"./plots/slant_angle.png\")\n",
    "#plt.show()"
   ]
  },
  {
   "cell_type": "markdown",
   "metadata": {},
   "source": [
    "### PLOT: True slant angle vs. estimated slant angle AVERAGE"
   ]
  },
  {
   "cell_type": "code",
   "execution_count": 25,
   "metadata": {},
   "outputs": [
    {
     "name": "stderr",
     "output_type": "stream",
     "text": [
      "/Library/Frameworks/Python.framework/Versions/3.7/lib/python3.7/site-packages/numpy/core/fromnumeric.py:3373: RuntimeWarning: Mean of empty slice.\n",
      "  out=out, **kwargs)\n",
      "/Library/Frameworks/Python.framework/Versions/3.7/lib/python3.7/site-packages/numpy/core/_methods.py:170: RuntimeWarning: invalid value encountered in double_scalars\n",
      "  ret = ret.dtype.type(ret / rcount)\n"
     ]
    },
    {
     "data": {
      "text/plain": [
       "(-4.5, 94.5, -4.5, 94.5)"
      ]
     },
     "execution_count": 25,
     "metadata": {},
     "output_type": "execute_result"
    },
    {
     "data": {
      "image/png": "[encoded data removed]",
      "text/plain": [
       "<Figure size 432x288 with 1 Axes>"
      ]
     },
     "metadata": {
      "needs_background": "light"
     },
     "output_type": "display_data"
    }
   ],
   "source": [
    "true_SAs = []\n",
    "est_SAs = []\n",
    "for k in range(len(everything['uid'])):\n",
    "    if type(everything[\"true_slant_angle\"][k]) != float and type(everything['loss4results'][k]) != float:\n",
    "        if everything[\"true_slant_angle\"][k]['fun'] <= 1e-10:\n",
    "            true_SAs += [np.degrees(everything[\"true_slant_angle\"][k]['x'][0])]\n",
    "            est_SAs += [np.degrees(everything['loss4results'][k]['x'])]\n",
    "\n",
    "est_SAs = np.hstack(est_SAs)\n",
    "true_SAs = np.array(true_SAs)\n",
    "step_size = 5\n",
    "angles = np.arange(0, 90 + step_size, step_size)\n",
    "avg_x = []\n",
    "avg_y = []\n",
    "for k in range(len(angles) - 1):\n",
    "    lower = angles[k]\n",
    "    upper = angles[k+1]\n",
    "    avg_x += [(lower + upper)/2]\n",
    "    avg_y += [np.mean(est_SAs[(true_SAs >= lower) & (true_SAs < upper)])]\n",
    "\n",
    "avg_x = np.hstack(avg_x)\n",
    "avg_y = np.hstack(avg_y)\n",
    "\n",
    "\n",
    "plt.scatter(avg_x, avg_y, alpha=.5)\n",
    "plt.plot(avg_x, avg_y, alpha=.5)\n",
    "plt.plot([0,90], [0,90], '--')\n",
    "plt.xlabel(\"True Slant Angle\")\n",
    "plt.ylabel(\"Estimated Slant Angle\")\n",
    "plt.title(\"Averaged over {} degrees\".format(step_size))\n",
    "plt.axis('equal')\n",
    "#plt.savefig(\"./plots/slant_angle_avg{}.png\".format(step_size))\n",
    "#plt.show()"
   ]
  },
  {
   "cell_type": "markdown",
   "metadata": {},
   "source": [
    "# PLOT: Z-value depth range on loss5 & loss4 \n",
    "It would appear that the tetrahedrons tend to be more stretched out than the convex hulls. Loss5 is the compactness of a single non-planar tetrahedron. Loss4 gives the compactness of the convex hull of the 7 xyz points. "
   ]
  },
  {
   "cell_type": "code",
   "execution_count": 15,
   "metadata": {},
   "outputs": [],
   "source": [
    "from optimize import loss4\n",
    "zrange4 = []\n",
    "zrange5 = []\n",
    "theta_loss4 = []\n",
    "theta_loss5 = []\n",
    "for k in range(len(everything['uid'])):\n",
    "    if type(everything[\"loss4results\"][k]) != float and type(everything['loss5results'][k]) != float:\n",
    "        loss4z = everything['loss4xyz'][k][:, 2]\n",
    "        zrange4 += [max(loss4z) - min(loss4z)]\n",
    "        loss5theta = everything['loss5results'][k]['x'].item()\n",
    "        theta_loss5 += [np.degrees(loss5theta)]\n",
    "        theta_loss4 += [np.degrees(everything['loss4results'][k]['x'].item())]\n",
    "        xy = np.array(everything['xyz_rotated'][k])[:, :2]\n",
    "        faces = everything['faces'][k]\n",
    "        pairs = everything['mpl'][k]\n",
    "        loss5dct = loss4(loss5theta, xy, faces, pairs, get_xyz=True)\n",
    "        loss5z = loss5dct['xyz'][:, 2]\n",
    "        zrange5 += [max(loss5z) - min(loss5z)]\n",
    "        \n"
   ]
  },
  {
   "cell_type": "code",
   "execution_count": 33,
   "metadata": {},
   "outputs": [
    {
     "data": {
      "text/plain": [
       "[<matplotlib.lines.Line2D at 0x7ff30c26acd0>]"
      ]
     },
     "execution_count": 33,
     "metadata": {},
     "output_type": "execute_result"
    },
    {
     "data": {
      "image/png": "[encoded data removed]",
      "text/plain": [
       "<Figure size 1080x360 with 3 Axes>"
      ]
     },
     "metadata": {
      "needs_background": "light"
     },
     "output_type": "display_data"
    }
   ],
   "source": [
    "fig, (ax1, ax2, ax3) = plt.subplots(1,3, figsize = (15,5))\n",
    "\n",
    "ax3.scatter(zrange4, zrange5, alpha = .1)\n",
    "ax3.axis(\"equal\")\n",
    "ax3.set_title(\"Range in Depth\")\n",
    "ax3.set_xlabel(\"Depth Range, compactness of convex hull\")\n",
    "ax3.set_ylabel(\"Depth Range, compactness of single Tetrahedron\")\n",
    "ax3.plot([0,10], [0,10], 'r--')\n",
    "\n",
    "ax1.hist(zrange5, density = True, alpha = .3, label = \"Tetrahedron\")\n",
    "ax1.hist(zrange4, density = True, alpha = .3, label = \"Convex Hull\")\n",
    "ax1.set_title(\"Z range for loss4 & loss5\")\n",
    "ax1.legend()\n",
    "\n",
    "ax2.scatter(theta_loss4, theta_loss5)\n",
    "ax2.set_xlabel(\"recovered slant angle convex hull\")\n",
    "ax2.set_ylabel(\"recovered slant angle single tetrahedron\")\n",
    "ax2.plot([0,90], [0,90], 'r--')"
   ]
  },
  {
   "cell_type": "code",
   "execution_count": 95,
   "metadata": {},
   "outputs": [
    {
     "data": {
      "text/plain": [
       "array([0.99077616])"
      ]
     },
     "execution_count": 95,
     "metadata": {},
     "output_type": "execute_result"
    }
   ],
   "source": [
    "from collections import Counter\n",
    "Counter(np.array(everything['triples_less'][8]).ravel())\n",
    "everything['loss5results'][k]['x']"
   ]
  },
  {
   "cell_type": "code",
   "execution_count": 96,
   "metadata": {},
   "outputs": [
    {
     "data": {
      "text/plain": [
       "Text(0.5, 1.0, 'min @ 0.9907761643260364')"
      ]
     },
     "execution_count": 96,
     "metadata": {},
     "output_type": "execute_result"
    },
    {
     "data": {
      "image/png": "[encoded data removed]",
      "text/plain": [
       "<Figure size 432x288 with 1 Axes>"
      ]
     },
     "metadata": {
      "needs_background": "light"
     },
     "output_type": "display_data"
    }
   ],
   "source": [
    "from optimize import loss5\n",
    "k = 4\n",
    "thetas = np.linspace(1e-8,np.pi/2- 1e-8, 1000)\n",
    "xy = np.array(everything['xyz_rotated'][k])[:, :2]\n",
    "pairs = everything['mpl'][k]\n",
    "l5 = [loss5(t, xy, pairs, get_xyz=False) for t in thetas]\n",
    "plt.plot(thetas, l5)\n",
    "plt.xlabel(\"theta (radians)\")\n",
    "plt.ylabel(\"compactness\")\n",
    "plt.title(\"min @ {}\".format(everything['loss5results'][k]['x'].item()))"
   ]
  },
  {
   "cell_type": "markdown",
   "metadata": {},
   "source": [
    "# PLOT: Dissimilarity measure (y) defined in Y.Li, (2011) vs true slant angle (x)"
   ]
  },
  {
   "cell_type": "code",
   "execution_count": 26,
   "metadata": {},
   "outputs": [
    {
     "data": {
      "text/plain": [
       "Text(0, 0.5, 'Dissimilarity')"
      ]
     },
     "execution_count": 26,
     "metadata": {},
     "output_type": "execute_result"
    },
    {
     "data": {
      "image/png": "[encoded data removed]",
      "text/plain": [
       "<Figure size 432x288 with 1 Axes>"
      ]
     },
     "metadata": {
      "needs_background": "light"
     },
     "output_type": "display_data"
    }
   ],
   "source": [
    "true_SAs = []\n",
    "dissimilarity = []\n",
    "for k in range(len(everything['uid'])):\n",
    "    if type(everything[\"true_slant_angle\"][k]) != float and type(everything['loss4results'][k]) != float:\n",
    "        if everything[\"true_slant_angle\"][k]['fun'] <= 1e-10:\n",
    "            alpha1 = everything[\"true_slant_angle\"][k]['x'][0]\n",
    "            alpha2 = everything['loss4results'][k]['x']\n",
    "            true_SAs += [np.degrees(alpha1)]\n",
    "            en = np.cos(alpha1)/np.cos(alpha2)\n",
    "            em = np.sin(alpha1)/np.sin(alpha2)\n",
    "            d = np.log2(np.abs(en/em))\n",
    "            dissimilarity += [d]\n",
    "\n",
    "\n",
    "\n",
    "\n",
    "dissimilarity = np.hstack(dissimilarity)\n",
    "\n",
    "plt.scatter(true_SAs, dissimilarity, alpha=.5)\n",
    "plt.xlabel(\"True Slant Angle\")\n",
    "plt.ylabel(\"Dissimilarity\")\n",
    "# plt.savefig(\"./plots/dissimilarity.png\")\n",
    "# plt.show()\n"
   ]
  },
  {
   "cell_type": "markdown",
   "metadata": {},
   "source": [
    "### PLOT: Histograms of true vs estimated slant angle"
   ]
  },
  {
   "cell_type": "code",
   "execution_count": 27,
   "metadata": {},
   "outputs": [
    {
     "data": {
      "text/plain": [
       "Text(0.5, 1.0, 'Estimated Slant Angle')"
      ]
     },
     "execution_count": 27,
     "metadata": {},
     "output_type": "execute_result"
    },
    {
     "data": {
      "image/png": "[encoded data removed]",
      "text/plain": [
       "<Figure size 792x360 with 2 Axes>"
      ]
     },
     "metadata": {
      "needs_background": "light"
     },
     "output_type": "display_data"
    }
   ],
   "source": [
    "true_SAs = []\n",
    "est_SAs = []\n",
    "for k in range(len(everything['uid'])):\n",
    "    if type(everything[\"true_slant_angle\"][k]) != float and type(everything['loss4results'][k]) != float:\n",
    "        true_SAs += [np.degrees(everything[\"true_slant_angle\"][k]['x'][0])]\n",
    "        est_SAs += [np.degrees(everything['loss4results'][k]['x'])]\n",
    "\n",
    "est_SAs = np.hstack(est_SAs)\n",
    "\n",
    "\n",
    "fig, (ax1, ax2) = plt.subplots(1,2, figsize = (11, 5), sharey=True)\n",
    "ax1.hist(true_SAs)\n",
    "ax1.set_xlabel(\"Angle (Degrees)\")\n",
    "ax1.set_ylabel(\"Frequency\")\n",
    "ax1.set_title(\"True Slant Angle\")\n",
    "#ax1.set_ylim([0, 900])\n",
    "\n",
    "ax2.hist(est_SAs)\n",
    "ax2.set_xlabel(\"Angle (Degrees)\")\n",
    "ax2.set_ylabel(\"Frequency\")\n",
    "ax2.set_title(\"Estimated Slant Angle\")\n",
    "\n"
   ]
  },
  {
   "cell_type": "markdown",
   "metadata": {},
   "source": [
    "### PLOT: Dissimilarity measure (y) defined in Y.Li, (2011) vs true slant angle (x) AVERAGE"
   ]
  },
  {
   "cell_type": "code",
   "execution_count": 28,
   "metadata": {},
   "outputs": [
    {
     "data": {
      "text/plain": [
       "Text(0, 0.5, 'Dissimilarity')"
      ]
     },
     "execution_count": 28,
     "metadata": {},
     "output_type": "execute_result"
    },
    {
     "data": {
      "image/png": "[encoded data removed]",
      "text/plain": [
       "<Figure size 432x288 with 1 Axes>"
      ]
     },
     "metadata": {
      "needs_background": "light"
     },
     "output_type": "display_data"
    }
   ],
   "source": [
    "true_SAs = []\n",
    "dissimilarity = []\n",
    "for k in range(len(everything['uid'])):\n",
    "    if type(everything[\"true_slant_angle\"][k]) != float and type(everything['loss4results'][k]) != float:\n",
    "        if everything[\"true_slant_angle\"][k]['fun'] <= 1e-10:\n",
    "            alpha1 = everything[\"true_slant_angle\"][k]['x'][0]\n",
    "            alpha2 = everything['loss4results'][k]['x']\n",
    "            true_SAs += [np.degrees(alpha1)]\n",
    "            en = np.cos(alpha1)/np.cos(alpha2)\n",
    "            em = np.sin(alpha1)/np.sin(alpha2)\n",
    "            d = np.log2(np.abs(en/em))\n",
    "            dissimilarity += [d]\n",
    "\n",
    "\n",
    "dissimilarity = np.hstack(dissimilarity)\n",
    "true_SAs = np.array(true_SAs)\n",
    "step_size = 10\n",
    "angles = np.arange(0, 90 + step_size, step_size)\n",
    "avg_x = []\n",
    "avg_y = []\n",
    "for k in range(len(angles) - 1):\n",
    "    lower = angles[k]\n",
    "    upper = angles[k+1]\n",
    "    avg_x += [(lower + upper)/2]\n",
    "    avg_y += [np.mean(dissimilarity[(true_SAs >= lower) & (true_SAs < upper)])]\n",
    "\n",
    "avg_x = np.hstack(avg_x)\n",
    "avg_y = np.hstack(avg_y)\n",
    "\n",
    "plt.scatter(avg_x, avg_y, alpha=.5)\n",
    "plt.plot(avg_x, avg_y, alpha=.5)\n",
    "plt.xlabel(\"True Slant Angle\")\n",
    "plt.ylabel(\"Dissimilarity\")"
   ]
  },
  {
   "cell_type": "markdown",
   "metadata": {},
   "source": [
    "### PLOT: Add Noise to input 2D shape, see how recovered slant angle changes"
   ]
  },
  {
   "cell_type": "code",
   "execution_count": 22,
   "metadata": {},
   "outputs": [
    {
     "name": "stdout",
     "output_type": "stream",
     "text": [
      "sd = 0.01 completed\n",
      "sd = 0.048 completed\n",
      "sd = 0.086 completed\n",
      "sd = 0.12399999999999999 completed\n",
      "sd = 0.162 completed\n",
      "sd = 0.2 completed\n"
     ]
    },
    {
     "data": {
      "text/plain": [
       "Text(0.5, 0.98, 'n objects = 10, sds = [0.01  0.048 0.086 0.124 0.162 0.2  ], n samples = 11')"
      ]
     },
     "execution_count": 22,
     "metadata": {},
     "output_type": "execute_result"
    },
    {
     "data": {
      "image/png": "[encoded data removed]",
      "text/plain": [
       "<Figure size 792x360 with 2 Axes>"
      ]
     },
     "metadata": {
      "needs_background": "light"
     },
     "output_type": "display_data"
    }
   ],
   "source": [
    "from scipy.optimize import minimize\n",
    "from optimize import loss4\n",
    "\n",
    "n = len(everything[\"uid\"])\n",
    "n_objects = 10\n",
    "n_samples = 11\n",
    "n_sds = 6\n",
    "obj_inds = np.random.randint(0, n, n_objects)\n",
    "sds = np.linspace(.01, .2, n_sds)\n",
    "df = np.empty((len(sds), n_samples, n_objects))\n",
    "df[:] = np.NaN\n",
    "eps = 1e-12\n",
    "bounds_theta = [[0 + eps, np.pi/2 - eps]]\n",
    "\n",
    "\n",
    "for i, sd in enumerate(sds):\n",
    "    for j, idx in enumerate(obj_inds):\n",
    "        xyz = everything[\"xyz_rotated\"][idx]\n",
    "        if type(xyz) == float:\n",
    "            continue\n",
    "        mpl = everything[\"mpl\"][idx]\n",
    "        faces = everything[\"faces\"][idx]\n",
    "        xy = xyz[:, :2]\n",
    "        if len(mpl) == 3:\n",
    "            for k in range(n_samples):\n",
    "                noise2d = sd * np.random.randn(xy.shape[0], xy.shape[1])\n",
    "                xy_new = xy + noise2d\n",
    "                opt_results = minimize(lambda alpha: loss4(alpha, xy_new, faces, mpl), \n",
    "                    x0 = 1, \n",
    "                    bounds = bounds_theta)\n",
    "                sa = opt_results['x']\n",
    "                df[i,k,j] = np.degrees(sa)\n",
    "\n",
    "    print(\"sd = {} completed\".format(sd))\n",
    "\n",
    "\n",
    "## df dimensions: sd[i] x sample[k] x object[j]\n",
    "## care about deviation from true slant angle\n",
    "\n",
    "DEVS = []\n",
    "for i in range(n_sds):\n",
    "    deviations = []\n",
    "    for k, idx in enumerate(obj_inds):\n",
    "        true_sa = everything['loss4results'][idx]\n",
    "        if not np.isnan(df[i, 0, k]) and type(true_sa) is not float: \n",
    "            true_sa = np.degrees(true_sa['x'].item())\n",
    "            d = df[i, :, k] - true_sa\n",
    "            deviations += [d]\n",
    "    deviations = np.hstack(deviations)\n",
    "    DEVS += [deviations]\n",
    "\n",
    "\n",
    "\n",
    "fig, (ax1, ax2) = plt.subplots(1,2, figsize = (11, 5))\n",
    "\n",
    "# Real Data\n",
    "x_devs = []\n",
    "for i, dev in enumerate(DEVS):\n",
    "    x_devs += [sds[i]]*len(dev)\n",
    "ax1.scatter(x_devs , np.hstack(DEVS), alpha = .5)\n",
    "ax1.set_xlabel(\"SD of Noise Added to 2D input\")\n",
    "ax1.set_ylabel(\"Recovered slant angle deviations\")\n",
    "\n",
    "#standard deviations\n",
    "stds = np.hstack([np.std(d) for d in DEVS])\n",
    "ax2.plot(sds, stds)\n",
    "ax2.scatter(sds, stds)\n",
    "ax2.set_xlabel(\"SD of Noise Added to 2D input\")\n",
    "ax2.set_ylabel(\"SD of recovered slant angle deviations\")\n",
    "\n",
    "plt.suptitle(\"n objects = {}, sds = {}, n samples = {}\".format(n_objects, np.round(sds, 3), n_samples))\n",
    "# plt.savefig(\"./plots/noise2d.png\")\n",
    "# plt.show()\n",
    "\n"
   ]
  },
  {
   "cell_type": "code",
   "execution_count": 29,
   "metadata": {},
   "outputs": [
    {
     "name": "stdout",
     "output_type": "stream",
     "text": [
      "220\n"
     ]
    },
    {
     "data": {
      "text/plain": [
       "(array([27., 40., 45., 47., 23., 23.,  4.,  4.,  4.,  3.]),\n",
       " array([ 2.48552815,  4.92071983,  7.35591152,  9.7911032 , 12.22629489,\n",
       "        14.66148657, 17.09667825, 19.53186994, 21.96706162, 24.4022533 ,\n",
       "        26.83744499]),\n",
       " <BarContainer object of 10 artists>)"
      ]
     },
     "execution_count": 29,
     "metadata": {},
     "output_type": "execute_result"
    },
    {
     "data": {
      "image/png": "[encoded data removed]",
      "text/plain": [
       "<Figure size 432x288 with 1 Axes>"
      ]
     },
     "metadata": {
      "needs_background": "light"
     },
     "output_type": "display_data"
    }
   ],
   "source": [
    "### # random scratch work. \n",
    "nan_idx = []\n",
    "loss = {}\n",
    "for i in range(len(everything['uid'])):\n",
    "    sa_summary = everything['true_slant_angle'][i] \n",
    "    if type(sa_summary) is float:\n",
    "        nan_idx += [i]\n",
    "    else:\n",
    "        loss[i] = sa_summary['fun']\n",
    "\n",
    "bad_minimization = [key for key in loss.keys() if loss[key] > 1e-8]\n",
    "print(len(bad_minimization))\n",
    "plt.hist([loss[key] for key in bad_minimization])"
   ]
  },
  {
   "cell_type": "code",
   "execution_count": 124,
   "metadata": {},
   "outputs": [
    {
     "name": "stdout",
     "output_type": "stream",
     "text": [
      "[   0    8   11   16   20   23   26   29   32   36   38   41   46   51\n",
      "   56   60   63   65   69   72   75   81   84   86   87   92   95   97\n",
      "   99  103  108  111  115  119  124  130  133  135  137  140  146  148\n",
      "  152  156  160  165  169  171  176  178  181  185  188  195  198  201\n",
      "  206  209  214  218  221  225  228  232  235  238  242  247  252  257\n",
      "  260  264  270  272  276  280  284  287  289  291  295  297  301  305\n",
      "  308  311  313  319  324  326  330  334  339  342  347  352  355  360\n",
      "  363  367  370  373  377  382  385  386  390  393  398  403  404  406\n",
      "  411  414  415  417  419  423  428  432  435  440  445  454  458  460\n",
      "  469  477  483  486  489  493  495  502  506  510  515  519  523  525\n",
      "  531  539  542  545  549  551  555  561  564  567  571  572  577  578\n",
      "  586  588  589  593  597  601  602  606  613  620  623  625  630  632\n",
      "  639  641  644  648  653  657  662  668  672  677  680  686  688  693\n",
      "  696  698  701  702  706  711  712  714  717  719  724  731  736  741\n",
      "  746  750  756  761  765  769  771  774  778  781  783  788  791  795\n",
      "  800  803  809  812  815  818  823  827  829  832  836  838  841  845\n",
      "  853  855  858  862  866  875  878  882  887  892  898  904  909  912\n",
      "  916  919  922  927  929  931  935  938  940  944  947  948  952  962\n",
      "  968  971  974  978  981  986  991  993  997 1001 1006 1011 1013 1015\n",
      " 1018 1022 1025 1027 1030 1032 1038 1042 1047 1050 1052 1055 1058 1068\n",
      " 1071 1077 1080 1084 1089 1091 1093 1095 1099 1103 1107 1111 1114 1117\n",
      " 1121 1125 1127 1131 1135 1139 1141 1144 1148 1152 1161 1163 1168 1172\n",
      " 1177 1181 1196 1200 1205 1209 1211 1214 1218 1221 1222 1225 1229 1234\n",
      " 1238 1240 1245 1248 1251 1255 1259 1262 1268 1273 1276 1280 1285 1288\n",
      " 1292 1295 1298 1302 1309 1313 1318 1325 1328 1331 1336 1342 1345 1347\n",
      " 1350 1351 1354 1356 1358 1359 1362 1367 1371 1378 1383 1389 1394 1396\n",
      " 1399 1407 1409 1413 1417 1422 1425 1429 1439 1442 1447 1450 1455 1456\n",
      " 1463 1466 1472 1474 1478 1483 1485 1489 1492 1496 1498 1501 1504 1507\n",
      " 1511 1513 1516 1521 1526 1530 1535 1539 1543 1546 1548 1551 1555 1558\n",
      " 1563 1569 1572 1577 1582 1585 1588 1591 1594 1604 1606 1609 1611 1616\n",
      " 1621 1625 1628 1633 1638 1641]\n",
      "[3, 3, 0, 3, 0, 3, 3, 3, 0, 0, 3, 3, 0, 3, 3, 3, 0, 0, 0, 0, 3, 0, 3, 3, 3, 0, 0, 3, 3, 3, 0, 3, 3, 0, 3, 3, 3, 3, 3, 3, 3, 3, 3, 0, 3, 0, 0, 3, 0, 3, 3, 3, 0, 3, 0, 0, 3, 0, 0, 3, 3, 0, 3, 0, 3, 3, 3, 3, 0, 3, 0, 3, 3, 3, 3, 3, 3, 3, 3, 0, 3, 3, 3, 3, 3, 3, 0, 3, 3, 3, 3, 3, 3, 3, 3, 3, 0, 0, 0, 0, 3, 0, 3, 0, 3, 3, 3, 3, 3, 0, 3, 3, 0, 3, 3, 3, 0, 3, 3, 3, 3, 3, 0, 3, 0, 3, 3, 0, 3, 0, 3, 3, 3, 3, 0, 3, 0, 3, 3, 3, 3, 3, 3, 3, 3, 0, 0, 3, 3, 3, 0, 3, 3, 3, 3, 3, 3, 3, 3, 3, 3, 3, 3, 3, 3, 0, 3, 3, 3, 0, 0, 0, 3, 3, 3, 3, 0, 3, 3, 3, 3, 0, 3, 0, 3, 3, 3, 3, 3, 0, 0, 3, 3, 3, 3, 0, 0, 3, 3, 3, 0, 3, 0, 3, 3, 3, 3, 0, 0, 3, 3, 3, 3, 3, 3, 3, 3, 3, 3, 3, 3, 3, 3, 3, 0, 3, 0, 0, 3, 0, 3, 3, 3, 3, 3, 3, 0, 3, 3, 0, 3, 3, 3, 3, 3, 3, 0, 3, 3, 3, 3, 3, 3, 3, 3, 3, 3, 3, 3, 3, 3, 3, 0, 0, 3, 3, 0, 3, 3, 3, 0, 0, 3, 0, 3, 3, 3, 3, 0, 3, 0, 3, 3, 3, 3, 3, 3, 3, 3, 0, 3, 3, 3, 3, 3, 3, 0, 3, 3, 3, 3, 3, 3, 3, 3, 3, 3, 3, 3, 3, 0, 3, 3, 3, 3, 0, 3, 3, 3, 3, 3, 0, 3, 0, 3, 3, 3, 3, 0, 0, 3, 0, 3, 3, 3, 3, 0, 3, 3, 3, 3, 3, 3, 0, 3, 3, 3, 3, 0, 3, 0, 3, 0, 3, 3, 3, 3, 3, 3, 3, 3, 3, 3, 3, 0, 3, 3, 3, 3, 3, 0, 3, 3, 3, 0, 3, 0, 3, 3, 3, 3, 3, 3, 3, 3, 3, 3, 3, 3, 3, 0, 3, 3, 3, 0, 0, 3, 3, 0, 0, 3, 0, 3, 3, 0, 3, 3, 3, 3, 0, 3, 3, 3, 3, 3, 0, 3, 3, 3, 0, 3, 3, 0, 3, 3, 3]\n"
     ]
    }
   ],
   "source": [
    "from collections import Counter\n",
    "idxs = np.where(np.isclose(63.5592, true_SAs))[0]\n",
    "print(idxs)\n",
    "print([len(everything['mpl'][k]) for k in idxs])"
   ]
  },
  {
   "cell_type": "code",
   "execution_count": 184,
   "metadata": {},
   "outputs": [
    {
     "data": {
      "image/png": "[encoded data removed]",
      "text/plain": [
       "<Figure size 432x288 with 1 Axes>"
      ]
     },
     "metadata": {
      "needs_background": "light"
     },
     "output_type": "display_data"
    }
   ],
   "source": [
    "k = 1148\n",
    "\n",
    "def p2c(k):\n",
    "    plt.scatter(everything['xyz_rotated'][k][:, 0], everything['xyz_rotated'][k][:, 1], label = 'rotated', color = 'b')\n",
    "    plt.axis(\"equal\")\n",
    "    for p in everything['pairs'][k]:\n",
    "        x = [everything['xyz_rotated'][k][p[0], 0], everything['xyz_rotated'][k][p[1], 0]]\n",
    "        y = [everything['xyz_rotated'][k][p[0], 1], everything['xyz_rotated'][k][p[1], 1]]\n",
    "        plt.plot(x,y, 'b')\n",
    "    plt.scatter(np.array(everything['xyz'][k])[:, 0], np.array(everything['xyz'][k])[:, 1], label = 'original', color = 'r')\n",
    "    for p in everything['pairs'][k]:\n",
    "        x = [np.array(everything['xyz'][k])[p[0], 0], np.array(everything['xyz'][k])[p[1], 0]]\n",
    "        y = [np.array(everything['xyz'][k])[p[0], 1], np.array(everything['xyz'][k])[p[1], 1]]\n",
    "        plt.plot(x,y, 'r')\n",
    "    plt.legend()\n",
    "\n",
    "\n",
    "\n",
    "p2c(1148)"
   ]
  },
  {
   "cell_type": "code",
   "execution_count": null,
   "metadata": {},
   "outputs": [],
   "source": []
  },
  {
   "cell_type": "code",
   "execution_count": null,
   "metadata": {},
   "outputs": [],
   "source": []
  },
  {
   "cell_type": "code",
   "execution_count": 131,
   "metadata": {},
   "outputs": [],
   "source": [
    "# update rotate_xyz\n",
    "def rotz(theta):\n",
    "    \"\"\"\n",
    "    Input: Theta in radians\n",
    "    Output: 3D rotation matrix about z axis \n",
    "    \"\"\"\n",
    "    ct = np.cos(theta)\n",
    "    st = np.sin(theta)\n",
    "    M = np.array([[ct, -st, 0], \n",
    "                [st, ct, 0], \n",
    "                [0,0,1]])\n",
    "    return M\n",
    "\n",
    "\n",
    "def rotate_xyz(xyz, mp):\n",
    "    \"\"\"\n",
    "    Inputs: xyz, matched points 1 (mp1), matched points 2 (mp2)\n",
    "    Output: rotated xyz\n",
    "    Rotate xyz so that symmetrical points have the same y value. This is so that \n",
    "    neural network has to learn one fewer step in the reconstruction process. \n",
    "    i.e. Z = f(x, angle of symmetry plane) if y's for symmetric pairs are equal. \n",
    "    \"\"\"\n",
    "\n",
    "    xyz = np.array(xyz)\n",
    "    #print(\"xyz original: \\n\", xyz)\n",
    "    avgxyz = np.mean(xyz, axis = 0)\n",
    "    xyzC = xyz - avgxyz\n",
    "    #print(\"xyz - mean(xyz)\\n\", xyzC)\n",
    "    i = mp[0][0]\n",
    "    j = mp[0][1]\n",
    "    xy1 = xyzC[i, :2]\n",
    "    xy2 = xyzC[j, :2]\n",
    "    h = np.array([1,0])\n",
    "    v = xy2 - xy1\n",
    "    theta = np.arccos(np.dot(h,v)/np.linalg.norm(v))\n",
    "    if v[1] > 0:\n",
    "        M = rotz(-theta)\n",
    "    else:\n",
    "        M = rotz(theta)\n",
    "    xyzR = (M @ xyzC.T).T \n",
    "    #print(\"after rotation z is the same:\\n\", xyzR)\n",
    "    xyzR = xyzR + avgxyz\n",
    "    #print(\"now we add the avg back in and: \\n\", xyzR)\n",
    "    return xyzR\n",
    "\n"
   ]
  },
  {
   "cell_type": "code",
   "execution_count": 114,
   "metadata": {},
   "outputs": [
    {
     "data": {
      "image/png": "[encoded data removed]",
      "text/plain": [
       "<Figure size 432x288 with 1 Axes>"
      ]
     },
     "metadata": {
      "needs_background": "light"
     },
     "output_type": "display_data"
    }
   ],
   "source": [
    "def p2c2(xyz, xyzR, pairs):\n",
    "    xyz = np.array(xyz)\n",
    "    xyzR = np.array(xyzR)\n",
    "    plt.scatter(xyzR[:, 0], xyzR[:, 1], label = 'rotated', color = 'g')\n",
    "    plt.axis('equal')\n",
    "    for p in pairs:\n",
    "        x = [xyzR[p[0], 0], xyzR[p[1], 0]]\n",
    "        y = [xyzR[p[0], 1], xyzR[p[1], 1]]\n",
    "        plt.plot(x,y, 'g')\n",
    "    plt.scatter(xyz[:, 0], xyz[:, 1], label = 'original', color = 'y')\n",
    "    plt.axis('equal')\n",
    "    for p in pairs:\n",
    "        x = [xyz[p[0], 0], xyz[p[1], 0]]\n",
    "        y = [xyz[p[0], 1], xyz[p[1], 1]]\n",
    "        plt.plot(x,y, 'y')\n",
    "    plt.legend()\n",
    "\n",
    "p2c2(testxyz, testxyzr, pairs)"
   ]
  },
  {
   "cell_type": "code",
   "execution_count": 183,
   "metadata": {},
   "outputs": [
    {
     "data": {
      "image/png": "[encoded data removed]",
      "text/plain": [
       "<Figure size 432x288 with 1 Axes>"
      ]
     },
     "metadata": {
      "needs_background": "light"
     },
     "output_type": "display_data"
    }
   ],
   "source": [
    "p2c(12)"
   ]
  },
  {
   "cell_type": "code",
   "execution_count": 185,
   "metadata": {},
   "outputs": [
    {
     "data": {
      "image/png": "[encoded data removed]",
      "text/plain": [
       "<Figure size 432x288 with 1 Axes>"
      ]
     },
     "metadata": {
      "needs_background": "light"
     },
     "output_type": "display_data"
    }
   ],
   "source": [
    "p2c(0)"
   ]
  },
  {
   "cell_type": "code",
   "execution_count": 203,
   "metadata": {},
   "outputs": [
    {
     "name": "stdout",
     "output_type": "stream",
     "text": [
      "[0, 12, 19, 29, 35, 39, 44, 49, 54, 60, 66, 70, 76, 82, 89, 99, 104, 109, 115, 120, 124, 135, 138, 141, 145, 151, 154, 158, 162, 173, 179, 183, 189, 195, 206, 213, 218, 223, 229, 235, 242, 247, 253, 257, 264, 270, 276, 283, 294, 296, 299, 304, 308, 319, 324, 330, 335, 341, 346, 350, 354, 359, 364, 370, 374, 380, 387, 393, 399, 405, 410, 416, 427, 432, 437, 443, 448, 455, 460, 466, 472, 478, 489, 494, 499, 505, 510, 520, 526, 530, 536, 541, 546, 553, 564, 570, 574, 579, 584, 590, 596, 601, 606, 613, 617, 618, 623, 628, 634, 640, 646, 651, 657, 662, 666, 671, 677, 683, 688, 696, 700, 706, 712, 723, 727, 732, 748, 764, 777, 782, 789, 795, 799, 810, 814, 819, 825, 830, 836, 841, 847, 866, 872, 877, 882, 887, 893, 901, 906, 911, 917, 922, 929, 932, 947, 951, 956, 962, 967, 972, 975, 980, 991, 998, 1005, 1010, 1016, 1020, 1033, 1037, 1043, 1048, 1053, 1059, 1065, 1076, 1085, 1091, 1095, 1102, 1106, 1111, 1115, 1118, 1124, 1129, 1133, 1138, 1143, 1149, 1152, 1157, 1163, 1177, 1184, 1190, 1197, 1209, 1216, 1222, 1228, 1233, 1238, 1244, 1249, 1252, 1254, 1266, 1271, 1279, 1284, 1288, 1298, 1303, 1308, 1314, 1322, 1327, 1331, 1336, 1342, 1347, 1351, 1356, 1370, 1374, 1379, 1383, 1388, 1402, 1408, 1412, 1417, 1423, 1432, 1439, 1445, 1451, 1456, 1461, 1466, 1471, 1474, 1478, 1483, 1488, 1492, 1498, 1501, 1506, 1511, 1526, 1532, 1541, 1548, 1552, 1558, 1565, 1571, 1574, 1579, 1584, 1589, 1602, 1607, 1612, 1617, 1627, 1632, 1635, 1641, 1646, 1655, 1661, 1666, 1671, 1676, 1681, 1684, 1699, 1703, 1710, 1716, 1723, 1728, 1733, 1736, 1741, 1745, 1750, 1755, 1759, 1763, 1769, 1774, 1779, 1783, 1788, 1794, 1800, 1804, 1810, 1819, 1826, 1837, 1841, 1853, 1859, 1866, 1872, 1896, 1902, 1909, 1914, 1916, 1921, 1927, 1931, 1938, 1944, 1951, 1956, 1962, 1966, 1975, 1979, 1983, 1988, 1993, 1996, 2003, 2011, 2016, 2021, 2028, 2034, 2039, 2044, 2049, 2055, 2067, 2072, 2079, 2093, 2098, 2101, 2108, 2120, 2123, 2126, 2131, 2134, 2138, 2144, 2151, 2154, 2158, 2163, 2168, 2179, 2186, 2198, 2204, 2208, 2214, 2228, 2232, 2237, 2242, 2247, 2252, 2256, 2267, 2272, 2277, 2283, 2289, 2292, 2302, 2306, 2312, 2318, 2324, 2330, 2335, 2340, 2347, 2353, 2358, 2363, 2368, 2371, 2375, 2379, 2383, 2393, 2399, 2406, 2411, 2417, 2422, 2428, 2431, 2437, 2443, 2448, 2454, 2461, 2467, 2473, 2479, 2484, 2489, 2494, 2498, 2509, 2519, 2524, 2528, 2534, 2541, 2546, 2550, 2557, 2563, 2568]\n"
     ]
    }
   ],
   "source": [
    "realids = []\n",
    "for i in range(len(everything['uid'])):\n",
    "    if type(everything[\"true_slant_angle\"][i]) is not float:\n",
    "        angle = np.degrees(everything[\"true_slant_angle\"][i]['x'][0])\n",
    "        if np.isclose(63.5592, angle):\n",
    "            realids += [i]\n",
    "\n",
    "print(realids)"
   ]
  },
  {
   "cell_type": "code",
   "execution_count": 214,
   "metadata": {},
   "outputs": [
    {
     "name": "stdout",
     "output_type": "stream",
     "text": [
      "Object 291, View 0\n",
      "[[0, 1], [3, 4], [5, 6]]\n",
      "[[ -0.27080392   1.35843854 -10.29270935]\n",
      " [  0.62763334   1.35843854 -10.73949432]\n",
      " [ -1.35247564  -0.65253915 -12.4678421 ]\n",
      " [ -0.52446591  -1.78644652 -10.80279827]\n",
      " [  0.37397135  -1.78644652 -11.24958229]\n",
      " [  0.08606399   0.33848439  -9.57508469]\n",
      " [  0.98450125   0.33848436 -10.02186871]]\n"
     ]
    },
    {
     "data": {
      "image/png": "[encoded data removed]",
      "text/plain": [
       "<Figure size 432x288 with 1 Axes>"
      ]
     },
     "metadata": {
      "needs_background": "light"
     },
     "output_type": "display_data"
    }
   ],
   "source": [
    "k = 1498\n",
    "p2c(k)\n",
    "print(everything['uid'][k])\n",
    "testxyz = everything['xyz'][k]\n",
    "mp = everything['mpl'][k]\n",
    "print(mp)\n",
    "pairs = everything['pairs'][k]\n",
    "testxyzr = rotate_xyz(testxyz, mp)\n",
    "print(testxyzr)\n",
    "p2c2(testxyz, testxyzr, pairs)"
   ]
  },
  {
   "cell_type": "code",
   "execution_count": 211,
   "metadata": {},
   "outputs": [
    {
     "name": "stdout",
     "output_type": "stream",
     "text": [
      "Object 5, View 0\n",
      "[[0, 1], [3, 4], [5, 6]]\n",
      "[[ -0.4871188    1.62801979 -10.58913326]\n",
      " [  0.60199253   1.62801979 -11.1307373 ]\n",
      " [ -1.39747449  -0.41943403 -12.41976738]\n",
      " [ -0.69978329  -1.63683607 -11.0167799 ]\n",
      " [  0.38932804  -1.63683607 -11.5583849 ]\n",
      " [  0.05446772   0.13748363  -9.50005722]\n",
      " [  1.14357904   0.13748361 -10.04166222]]\n"
     ]
    },
    {
     "data": {
      "image/png": "[encoded data removed]",
      "text/plain": [
       "<Figure size 432x288 with 1 Axes>"
      ]
     },
     "metadata": {
      "needs_background": "light"
     },
     "output_type": "display_data"
    }
   ],
   "source": [
    "k = 29\n",
    "p2c(k)\n",
    "print(everything['uid'][k])\n",
    "testxyz = everything['xyz'][k]\n",
    "mp = everything['mpl'][k]\n",
    "print(mp)\n",
    "pairs = everything['pairs'][k]\n",
    "testxyzr2 = rotate_xyz(testxyz, mp)\n",
    "print(testxyzr2)\n",
    "p2c2(testxyz, testxyzr2, pairs)"
   ]
  },
  {
   "cell_type": "code",
   "execution_count": 216,
   "metadata": {},
   "outputs": [
    {
     "data": {
      "text/plain": [
       "['Object 0, View 0',\n",
       " 'Object 2, View 0',\n",
       " 'Object 3, View 0',\n",
       " 'Object 5, View 0',\n",
       " 'Object 7, View 0',\n",
       " 'Object 8, View 0',\n",
       " 'Object 9, View 0',\n",
       " 'Object 10, View 0',\n",
       " 'Object 11, View 0',\n",
       " 'Object 12, View 0',\n",
       " 'Object 13, View 0',\n",
       " 'Object 14, View 0',\n",
       " 'Object 15, View 0',\n",
       " 'Object 16, View 0',\n",
       " 'Object 17, View 0',\n",
       " 'Object 19, View 0',\n",
       " 'Object 20, View 0',\n",
       " 'Object 21, View 0',\n",
       " 'Object 22, View 0',\n",
       " 'Object 23, View 0',\n",
       " 'Object 24, View 0',\n",
       " 'Object 26, View 0',\n",
       " 'Object 27, View 0',\n",
       " 'Object 28, View 0',\n",
       " 'Object 29, View 0',\n",
       " 'Object 30, View 0',\n",
       " 'Object 31, View 0',\n",
       " 'Object 32, View 0',\n",
       " 'Object 33, View 0',\n",
       " 'Object 35, View 0',\n",
       " 'Object 36, View 0',\n",
       " 'Object 37, View 0',\n",
       " 'Object 38, View 0',\n",
       " 'Object 39, View 0',\n",
       " 'Object 41, View 0',\n",
       " 'Object 42, View 0',\n",
       " 'Object 43, View 0',\n",
       " 'Object 44, View 0',\n",
       " 'Object 45, View 0',\n",
       " 'Object 46, View 0',\n",
       " 'Object 47, View 0',\n",
       " 'Object 48, View 0',\n",
       " 'Object 49, View 0',\n",
       " 'Object 50, View 0',\n",
       " 'Object 51, View 0',\n",
       " 'Object 52, View 0',\n",
       " 'Object 53, View 0',\n",
       " 'Object 54, View 0',\n",
       " 'Object 57, View 0',\n",
       " 'Object 58, View 0',\n",
       " 'Object 59, View 0',\n",
       " 'Object 60, View 0',\n",
       " 'Object 61, View 0',\n",
       " 'Object 63, View 0',\n",
       " 'Object 64, View 0',\n",
       " 'Object 65, View 0',\n",
       " 'Object 66, View 0',\n",
       " 'Object 67, View 0',\n",
       " 'Object 68, View 0',\n",
       " 'Object 69, View 0',\n",
       " 'Object 70, View 0',\n",
       " 'Object 71, View 0',\n",
       " 'Object 72, View 0',\n",
       " 'Object 73, View 0',\n",
       " 'Object 74, View 0',\n",
       " 'Object 75, View 0',\n",
       " 'Object 76, View 0',\n",
       " 'Object 77, View 0',\n",
       " 'Object 78, View 0',\n",
       " 'Object 79, View 0',\n",
       " 'Object 80, View 0',\n",
       " 'Object 81, View 0',\n",
       " 'Object 83, View 0',\n",
       " 'Object 84, View 0',\n",
       " 'Object 85, View 0',\n",
       " 'Object 86, View 0',\n",
       " 'Object 87, View 0',\n",
       " 'Object 88, View 0',\n",
       " 'Object 89, View 0',\n",
       " 'Object 90, View 0',\n",
       " 'Object 91, View 0',\n",
       " 'Object 92, View 0',\n",
       " 'Object 94, View 0',\n",
       " 'Object 95, View 0',\n",
       " 'Object 96, View 0',\n",
       " 'Object 97, View 0',\n",
       " 'Object 98, View 0',\n",
       " 'Object 100, View 0',\n",
       " 'Object 101, View 0',\n",
       " 'Object 102, View 0',\n",
       " 'Object 103, View 0',\n",
       " 'Object 104, View 0',\n",
       " 'Object 105, View 0',\n",
       " 'Object 106, View 0',\n",
       " 'Object 108, View 0',\n",
       " 'Object 109, View 0',\n",
       " 'Object 110, View 0',\n",
       " 'Object 111, View 0',\n",
       " 'Object 112, View 0',\n",
       " 'Object 113, View 0',\n",
       " 'Object 114, View 0',\n",
       " 'Object 115, View 0',\n",
       " 'Object 116, View 0',\n",
       " 'Object 117, View 0',\n",
       " 'Object 118, View 0',\n",
       " 'Object 119, View 0',\n",
       " 'Object 120, View 0',\n",
       " 'Object 121, View 0',\n",
       " 'Object 122, View 0',\n",
       " 'Object 123, View 0',\n",
       " 'Object 124, View 0',\n",
       " 'Object 125, View 0',\n",
       " 'Object 126, View 0',\n",
       " 'Object 127, View 0',\n",
       " 'Object 128, View 0',\n",
       " 'Object 129, View 0',\n",
       " 'Object 130, View 0',\n",
       " 'Object 131, View 0',\n",
       " 'Object 132, View 0',\n",
       " 'Object 134, View 0',\n",
       " 'Object 135, View 0',\n",
       " 'Object 136, View 0',\n",
       " 'Object 137, View 0',\n",
       " 'Object 139, View 0',\n",
       " 'Object 140, View 0',\n",
       " 'Object 141, View 0',\n",
       " 'Object 144, View 0',\n",
       " 'Object 147, View 0',\n",
       " 'Object 149, View 0',\n",
       " 'Object 150, View 0',\n",
       " 'Object 151, View 0',\n",
       " 'Object 152, View 0',\n",
       " 'Object 153, View 0',\n",
       " 'Object 155, View 0',\n",
       " 'Object 156, View 0',\n",
       " 'Object 157, View 0',\n",
       " 'Object 158, View 0',\n",
       " 'Object 159, View 0',\n",
       " 'Object 160, View 0',\n",
       " 'Object 161, View 0',\n",
       " 'Object 162, View 0',\n",
       " 'Object 166, View 0',\n",
       " 'Object 167, View 0',\n",
       " 'Object 168, View 0',\n",
       " 'Object 169, View 0',\n",
       " 'Object 170, View 0',\n",
       " 'Object 171, View 0',\n",
       " 'Object 173, View 0',\n",
       " 'Object 174, View 0',\n",
       " 'Object 175, View 0',\n",
       " 'Object 176, View 0',\n",
       " 'Object 177, View 0',\n",
       " 'Object 178, View 0',\n",
       " 'Object 179, View 0',\n",
       " 'Object 182, View 0',\n",
       " 'Object 183, View 0',\n",
       " 'Object 184, View 0',\n",
       " 'Object 185, View 0',\n",
       " 'Object 186, View 0',\n",
       " 'Object 187, View 0',\n",
       " 'Object 188, View 0',\n",
       " 'Object 189, View 0',\n",
       " 'Object 191, View 0',\n",
       " 'Object 192, View 0',\n",
       " 'Object 193, View 0',\n",
       " 'Object 194, View 0',\n",
       " 'Object 195, View 0',\n",
       " 'Object 196, View 0',\n",
       " 'Object 199, View 0',\n",
       " 'Object 200, View 0',\n",
       " 'Object 201, View 0',\n",
       " 'Object 202, View 0',\n",
       " 'Object 203, View 0',\n",
       " 'Object 204, View 0',\n",
       " 'Object 205, View 0',\n",
       " 'Object 207, View 0',\n",
       " 'Object 209, View 0',\n",
       " 'Object 210, View 0',\n",
       " 'Object 211, View 0',\n",
       " 'Object 212, View 0',\n",
       " 'Object 213, View 0',\n",
       " 'Object 214, View 0',\n",
       " 'Object 215, View 0',\n",
       " 'Object 216, View 0',\n",
       " 'Object 217, View 0',\n",
       " 'Object 218, View 0',\n",
       " 'Object 219, View 0',\n",
       " 'Object 220, View 0',\n",
       " 'Object 221, View 0',\n",
       " 'Object 222, View 0',\n",
       " 'Object 223, View 0',\n",
       " 'Object 224, View 0',\n",
       " 'Object 225, View 0',\n",
       " 'Object 228, View 0',\n",
       " 'Object 229, View 0',\n",
       " 'Object 230, View 0',\n",
       " 'Object 231, View 0',\n",
       " 'Object 233, View 0',\n",
       " 'Object 234, View 0',\n",
       " 'Object 235, View 0',\n",
       " 'Object 236, View 0',\n",
       " 'Object 237, View 0',\n",
       " 'Object 238, View 0',\n",
       " 'Object 239, View 0',\n",
       " 'Object 240, View 0',\n",
       " 'Object 241, View 0',\n",
       " 'Object 242, View 0',\n",
       " 'Object 244, View 0',\n",
       " 'Object 245, View 0',\n",
       " 'Object 247, View 0',\n",
       " 'Object 248, View 0',\n",
       " 'Object 249, View 0',\n",
       " 'Object 251, View 0',\n",
       " 'Object 252, View 0',\n",
       " 'Object 253, View 0',\n",
       " 'Object 254, View 0',\n",
       " 'Object 256, View 0',\n",
       " 'Object 257, View 0',\n",
       " 'Object 258, View 0',\n",
       " 'Object 259, View 0',\n",
       " 'Object 260, View 0',\n",
       " 'Object 261, View 0',\n",
       " 'Object 262, View 0',\n",
       " 'Object 263, View 0',\n",
       " 'Object 265, View 0',\n",
       " 'Object 266, View 0',\n",
       " 'Object 267, View 0',\n",
       " 'Object 268, View 0',\n",
       " 'Object 269, View 0',\n",
       " 'Object 272, View 0',\n",
       " 'Object 273, View 0',\n",
       " 'Object 274, View 0',\n",
       " 'Object 275, View 0',\n",
       " 'Object 276, View 0',\n",
       " 'Object 278, View 0',\n",
       " 'Object 279, View 0',\n",
       " 'Object 280, View 0',\n",
       " 'Object 281, View 0',\n",
       " 'Object 282, View 0',\n",
       " 'Object 283, View 0',\n",
       " 'Object 284, View 0',\n",
       " 'Object 285, View 0',\n",
       " 'Object 286, View 0',\n",
       " 'Object 287, View 0',\n",
       " 'Object 288, View 0',\n",
       " 'Object 289, View 0',\n",
       " 'Object 290, View 0',\n",
       " 'Object 291, View 0',\n",
       " 'Object 292, View 0',\n",
       " 'Object 293, View 0',\n",
       " 'Object 294, View 0',\n",
       " 'Object 297, View 0',\n",
       " 'Object 298, View 0',\n",
       " 'Object 300, View 0',\n",
       " 'Object 301, View 0',\n",
       " 'Object 302, View 0',\n",
       " 'Object 303, View 0',\n",
       " 'Object 304, View 0',\n",
       " 'Object 305, View 0',\n",
       " 'Object 306, View 0',\n",
       " 'Object 307, View 0',\n",
       " 'Object 308, View 0',\n",
       " 'Object 309, View 0',\n",
       " 'Object 312, View 0',\n",
       " 'Object 313, View 0',\n",
       " 'Object 314, View 0',\n",
       " 'Object 315, View 0',\n",
       " 'Object 317, View 0',\n",
       " 'Object 318, View 0',\n",
       " 'Object 319, View 0',\n",
       " 'Object 320, View 0',\n",
       " 'Object 321, View 0',\n",
       " 'Object 323, View 0',\n",
       " 'Object 324, View 0',\n",
       " 'Object 325, View 0',\n",
       " 'Object 326, View 0',\n",
       " 'Object 327, View 0',\n",
       " 'Object 328, View 0',\n",
       " 'Object 329, View 0',\n",
       " 'Object 332, View 0',\n",
       " 'Object 333, View 0',\n",
       " 'Object 334, View 0',\n",
       " 'Object 335, View 0',\n",
       " 'Object 336, View 0',\n",
       " 'Object 337, View 0',\n",
       " 'Object 338, View 0',\n",
       " 'Object 339, View 0',\n",
       " 'Object 340, View 0',\n",
       " 'Object 341, View 0',\n",
       " 'Object 342, View 0',\n",
       " 'Object 343, View 0',\n",
       " 'Object 344, View 0',\n",
       " 'Object 345, View 0',\n",
       " 'Object 346, View 0',\n",
       " 'Object 347, View 0',\n",
       " 'Object 348, View 0',\n",
       " 'Object 349, View 0',\n",
       " 'Object 350, View 0',\n",
       " 'Object 351, View 0',\n",
       " 'Object 352, View 0',\n",
       " 'Object 353, View 0',\n",
       " 'Object 354, View 0',\n",
       " 'Object 356, View 0',\n",
       " 'Object 357, View 0',\n",
       " 'Object 359, View 0',\n",
       " 'Object 360, View 0',\n",
       " 'Object 362, View 0',\n",
       " 'Object 363, View 0',\n",
       " 'Object 364, View 0',\n",
       " 'Object 365, View 0',\n",
       " 'Object 369, View 0',\n",
       " 'Object 370, View 0',\n",
       " 'Object 371, View 0',\n",
       " 'Object 372, View 0',\n",
       " 'Object 373, View 0',\n",
       " 'Object 374, View 0',\n",
       " 'Object 375, View 0',\n",
       " 'Object 376, View 0',\n",
       " 'Object 377, View 0',\n",
       " 'Object 378, View 0',\n",
       " 'Object 379, View 0',\n",
       " 'Object 380, View 0',\n",
       " 'Object 381, View 0',\n",
       " 'Object 382, View 0',\n",
       " 'Object 384, View 0',\n",
       " 'Object 385, View 0',\n",
       " 'Object 386, View 0',\n",
       " 'Object 387, View 0',\n",
       " 'Object 388, View 0',\n",
       " 'Object 389, View 0',\n",
       " 'Object 390, View 0',\n",
       " 'Object 392, View 0',\n",
       " 'Object 393, View 0',\n",
       " 'Object 394, View 0',\n",
       " 'Object 395, View 0',\n",
       " 'Object 396, View 0',\n",
       " 'Object 397, View 0',\n",
       " 'Object 398, View 0',\n",
       " 'Object 399, View 0',\n",
       " 'Object 400, View 0',\n",
       " 'Object 402, View 0',\n",
       " 'Object 403, View 0',\n",
       " 'Object 404, View 0',\n",
       " 'Object 407, View 0',\n",
       " 'Object 408, View 0',\n",
       " 'Object 409, View 0',\n",
       " 'Object 410, View 0',\n",
       " 'Object 412, View 0',\n",
       " 'Object 413, View 0',\n",
       " 'Object 414, View 0',\n",
       " 'Object 415, View 0',\n",
       " 'Object 416, View 0',\n",
       " 'Object 417, View 0',\n",
       " 'Object 418, View 0',\n",
       " 'Object 419, View 0',\n",
       " 'Object 420, View 0',\n",
       " 'Object 421, View 0',\n",
       " 'Object 422, View 0',\n",
       " 'Object 423, View 0',\n",
       " 'Object 425, View 0',\n",
       " 'Object 426, View 0',\n",
       " 'Object 428, View 0',\n",
       " 'Object 429, View 0',\n",
       " 'Object 430, View 0',\n",
       " 'Object 431, View 0',\n",
       " 'Object 434, View 0',\n",
       " 'Object 435, View 0',\n",
       " 'Object 436, View 0',\n",
       " 'Object 437, View 0',\n",
       " 'Object 438, View 0',\n",
       " 'Object 439, View 0',\n",
       " 'Object 440, View 0',\n",
       " 'Object 442, View 0',\n",
       " 'Object 443, View 0',\n",
       " 'Object 444, View 0',\n",
       " 'Object 445, View 0',\n",
       " 'Object 446, View 0',\n",
       " 'Object 447, View 0',\n",
       " 'Object 449, View 0',\n",
       " 'Object 450, View 0',\n",
       " 'Object 451, View 0',\n",
       " 'Object 452, View 0',\n",
       " 'Object 453, View 0',\n",
       " 'Object 454, View 0',\n",
       " 'Object 455, View 0',\n",
       " 'Object 456, View 0',\n",
       " 'Object 457, View 0',\n",
       " 'Object 458, View 0',\n",
       " 'Object 459, View 0',\n",
       " 'Object 460, View 0',\n",
       " 'Object 461, View 0',\n",
       " 'Object 462, View 0',\n",
       " 'Object 463, View 0',\n",
       " 'Object 464, View 0',\n",
       " 'Object 465, View 0',\n",
       " 'Object 467, View 0',\n",
       " 'Object 468, View 0',\n",
       " 'Object 469, View 0',\n",
       " 'Object 470, View 0',\n",
       " 'Object 471, View 0',\n",
       " 'Object 472, View 0',\n",
       " 'Object 473, View 0',\n",
       " 'Object 474, View 0',\n",
       " 'Object 475, View 0',\n",
       " 'Object 476, View 0',\n",
       " 'Object 477, View 0',\n",
       " 'Object 478, View 0',\n",
       " 'Object 479, View 0',\n",
       " 'Object 480, View 0',\n",
       " 'Object 481, View 0',\n",
       " 'Object 482, View 0',\n",
       " 'Object 483, View 0',\n",
       " 'Object 484, View 0',\n",
       " 'Object 485, View 0',\n",
       " 'Object 486, View 0',\n",
       " 'Object 488, View 0',\n",
       " 'Object 490, View 0',\n",
       " 'Object 491, View 0',\n",
       " 'Object 492, View 0',\n",
       " 'Object 493, View 0',\n",
       " 'Object 494, View 0',\n",
       " 'Object 495, View 0',\n",
       " 'Object 496, View 0',\n",
       " 'Object 497, View 0',\n",
       " 'Object 498, View 0',\n",
       " 'Object 499, View 0']"
      ]
     },
     "execution_count": 216,
     "metadata": {},
     "output_type": "execute_result"
    }
   ],
   "source": [
    "[everything['uid'][k] for k in realids] # original view always has the exact same symmetry plane? "
   ]
  },
  {
   "cell_type": "code",
   "execution_count": 137,
   "metadata": {},
   "outputs": [],
   "source": [
    "def slant_angle_error(theta, z, xyzR, mpl):\n",
    "    L = 0\n",
    "    for mp in mpl:\n",
    "        x0 = xyzR[mp[0], 0]\n",
    "        z0 = xyzR[mp[0], 2] + z\n",
    "        x1 = xyzR[mp[1], 0]\n",
    "        z1 = xyzR[mp[1], 2] + z\n",
    "        est_z0 = (x1 - x0 * np.cos(2*theta))/np.sin(2*theta)\n",
    "        est_z1 = (x0 - x1 * np.cos(2*theta))/np.sin(2*theta)\n",
    "        L += (z0 - est_z0)**2 + (z1 - est_z1)**2\n",
    "    return L\n",
    "\n",
    "# with open('./data/everything.pickle', 'rb') as f:\n",
    "#     everything = pickle.load(f)\n",
    "\n",
    "\n",
    "eps = 1e-16\n",
    "bounds_theta = [[0 + eps, np.pi/2 - eps], [-20,20]]\n",
    "tsa = []\n",
    "for k in range(len(everything['uid'])):\n",
    "    xyzR = everything[\"xyz_rotated\"][k]\n",
    "    mpl = everything[\"mpl\"][k]\n",
    "    if len(mpl) == 3:\n",
    "        opt_results = minimize(lambda x: slant_angle_error(x[0], x[1], xyzR, mpl), \n",
    "                                bounds=bounds_theta, \n",
    "                                x0 = [1, 12])\n",
    "        tsa += [opt_results]\n",
    "    else:\n",
    "        tsa += [np.NaN]\n",
    "\n",
    "#everything[\"true_slant_angle\"] = tsa\n",
    "\n",
    "# with open('./data/everything.pickle', 'wb') as handle:\n",
    "#     pickle.dump(everything, handle, protocol=pickle.HIGHEST_PROTOCOL)\n"
   ]
  },
  {
   "cell_type": "code",
   "execution_count": 178,
   "metadata": {},
   "outputs": [
    {
     "data": {
      "text/plain": [
       "      fun: 3.1718627274735783e-13\n",
       " hess_inv: <2x2 LbfgsInvHessProduct with dtype=float64>\n",
       "      jac: array([1.58296963e-07, 4.02142770e-08])\n",
       "  message: 'CONVERGENCE: NORM_OF_PROJECTED_GRADIENT_<=_PGTOL'\n",
       "     nfev: 30\n",
       "      nit: 7\n",
       "     njev: 10\n",
       "   status: 0\n",
       "  success: True\n",
       "        x: array([ 1.10931899, 11.76456256])"
      ]
     },
     "execution_count": 178,
     "metadata": {},
     "output_type": "execute_result"
    }
   ],
   "source": [
    "tsa[12]"
   ]
  },
  {
   "cell_type": "code",
   "execution_count": 179,
   "metadata": {},
   "outputs": [
    {
     "data": {
      "text/plain": [
       "63.559296458362894"
      ]
     },
     "execution_count": 179,
     "metadata": {},
     "output_type": "execute_result"
    }
   ],
   "source": [
    "np.degrees(tsa[12]['x'][0])"
   ]
  },
  {
   "cell_type": "code",
   "execution_count": 227,
   "metadata": {},
   "outputs": [],
   "source": [
    "real = []\n",
    "fun = []\n",
    "idx = []\n",
    "for i in range(len(tsa)):\n",
    "    if type(tsa[i]) is not float:\n",
    "        idx += [i]\n",
    "        fun += [tsa[i]['fun']]\n",
    "        real += [np.degrees(tsa[i]['x'][0])]"
   ]
  },
  {
   "cell_type": "code",
   "execution_count": 243,
   "metadata": {},
   "outputs": [
    {
     "name": "stdout",
     "output_type": "stream",
     "text": [
      "Object 244, View 2\n",
      "[[0, 1], [2, 3], [4, 5]]\n",
      "[[ -0.45971309  -1.05105212 -10.62609482]\n",
      " [ -0.24704208  -1.05105212 -12.01764679]\n",
      " [  0.97247737  -0.0507713  -10.40721321]\n",
      " [  1.18514862  -0.05077158 -11.79876518]\n",
      " [ -0.31066472   0.84484736 -10.60331631]\n",
      " [ -0.09799383   0.84484756 -11.99486732]\n",
      " [ -0.98618445   0.18171984 -10.70655632]]\n"
     ]
    },
    {
     "data": {
      "image/png": "[encoded data removed]",
      "text/plain": [
       "<Figure size 432x288 with 1 Axes>"
      ]
     },
     "metadata": {
      "needs_background": "light"
     },
     "output_type": "display_data"
    }
   ],
   "source": [
    "k = 1268\n",
    "p2c(k)\n",
    "print(everything['uid'][k])\n",
    "testxyz = everything['xyz'][k]\n",
    "mp = everything['mpl'][k]\n",
    "print(mp)\n",
    "pairs = everything['pairs'][k]\n",
    "testxyzr2 = rotate_xyz(testxyz, mp)\n",
    "print(testxyzr2)\n",
    "p2c2(testxyz, testxyzr2, pairs)\n",
    "plt.savefig(\"./plots/small_sa.png\")"
   ]
  },
  {
   "cell_type": "code",
   "execution_count": 247,
   "metadata": {},
   "outputs": [
    {
     "name": "stdout",
     "output_type": "stream",
     "text": [
      "Object 70, View 3\n",
      "[[0, 1], [2, 3], [4, 5]]\n",
      "[[ -0.61578147  -1.10669422 -10.40240479]\n",
      " [  0.84123035  -1.10669422 -10.50580883]\n",
      " [ -0.58664515   0.27046937  -9.99186134]\n",
      " [  0.87036638   0.27046975 -10.09526539]\n",
      " [ -0.64562466   1.10068324 -10.82290363]\n",
      " [  0.8113869    1.10068366 -10.92630768]\n",
      " [ -0.74835254  -0.8130521  -12.2703867 ]]\n"
     ]
    },
    {
     "data": {
      "image/png": "[encoded data removed]",
      "text/plain": [
       "<Figure size 432x288 with 1 Axes>"
      ]
     },
     "metadata": {
      "needs_background": "light"
     },
     "output_type": "display_data"
    }
   ],
   "source": [
    "k = 356\n",
    "p2c(k)\n",
    "print(everything['uid'][k])\n",
    "testxyz = everything['xyz'][k]\n",
    "mp = everything['mpl'][k]\n",
    "print(mp)\n",
    "pairs = everything['pairs'][k]\n",
    "testxyzr2 = rotate_xyz(testxyz, mp)\n",
    "print(testxyzr2)\n",
    "p2c2(testxyz, testxyzr2, pairs)\n",
    "plt.savefig(\"./plots/large_sa.png\")"
   ]
  },
  {
   "cell_type": "code",
   "execution_count": 241,
   "metadata": {},
   "outputs": [
    {
     "name": "stdout",
     "output_type": "stream",
     "text": [
      "(array([255]),)\n",
      "356\n"
     ]
    }
   ],
   "source": [
    "real = np.hstack(real)\n",
    "print(np.where(real == real.max()))\n",
    "print(idx[255])"
   ]
  },
  {
   "cell_type": "code",
   "execution_count": 237,
   "metadata": {},
   "outputs": [
    {
     "data": {
      "text/plain": [
       "      fun: -0.004327327094459942\n",
       " hess_inv: <1x1 LbfgsInvHessProduct with dtype=float64>\n",
       "      jac: array([6.51258561e-06])\n",
       "  message: 'CONVERGENCE: NORM_OF_PROJECTED_GRADIENT_<=_PGTOL'\n",
       "     nfev: 26\n",
       "      nit: 4\n",
       "     njev: 13\n",
       "   status: 0\n",
       "  success: True\n",
       "        x: array([0.16508714])"
      ]
     },
     "execution_count": 237,
     "metadata": {},
     "output_type": "execute_result"
    }
   ],
   "source": [
    "everything['loss4results'][idx[917]]"
   ]
  },
  {
   "cell_type": "code",
   "execution_count": 228,
   "metadata": {},
   "outputs": [
    {
     "data": {
      "text/plain": [
       "(array([  3.,   4.,   7.,   5.,   8.,  12.,   3.,  17.,  16.,  10.,  19.,\n",
       "         14.,  18.,  21.,  21.,  18.,  21.,  22.,  34.,  38.,  33.,  30.,\n",
       "         40.,  44.,  53.,  59.,  75.,  51.,  60.,  49.,  38.,  50.,  47.,\n",
       "         38.,  44., 454.,  52.,  32.,  29.,  38.,  34.,  32.,  25.,  36.,\n",
       "         22.,  28.,  18.,  26.,  17.,   7.]),\n",
       " array([ 8.68928636, 10.23431037, 11.77933437, 13.32435838, 14.86938239,\n",
       "        16.4144064 , 17.9594304 , 19.50445441, 21.04947842, 22.59450243,\n",
       "        24.13952643, 25.68455044, 27.22957445, 28.77459845, 30.31962246,\n",
       "        31.86464647, 33.40967048, 34.95469448, 36.49971849, 38.0447425 ,\n",
       "        39.5897665 , 41.13479051, 42.67981452, 44.22483853, 45.76986253,\n",
       "        47.31488654, 48.85991055, 50.40493456, 51.94995856, 53.49498257,\n",
       "        55.04000658, 56.58503058, 58.13005459, 59.6750786 , 61.22010261,\n",
       "        62.76512661, 64.31015062, 65.85517463, 67.40019863, 68.94522264,\n",
       "        70.49024665, 72.03527066, 73.58029466, 75.12531867, 76.67034268,\n",
       "        78.21536669, 79.76039069, 81.3054147 , 82.85043871, 84.39546271,\n",
       "        85.94048672]),\n",
       " <BarContainer object of 50 artists>)"
      ]
     },
     "execution_count": 228,
     "metadata": {},
     "output_type": "execute_result"
    },
    {
     "data": {
      "image/png": "[encoded data removed]",
      "text/plain": [
       "<Figure size 432x288 with 1 Axes>"
      ]
     },
     "metadata": {
      "needs_background": "light"
     },
     "output_type": "display_data"
    }
   ],
   "source": [
    "plt.hist(real, bins = 50)"
   ]
  },
  {
   "cell_type": "code",
   "execution_count": 189,
   "metadata": {},
   "outputs": [
    {
     "name": "stdout",
     "output_type": "stream",
     "text": [
      "[0, 12, 19, 29, 35, 39, 44, 49, 54, 60, 66, 70, 76, 82, 89, 99, 104, 109, 115, 120, 124, 135, 138, 141, 145, 151, 154, 158, 162, 173, 179, 183, 189, 195, 206, 213, 218, 223, 229, 235, 242, 247, 253, 257, 264, 270, 276, 283, 294, 296, 299, 304, 308, 319, 324, 330, 335, 341, 346, 350, 354, 359, 364, 370, 374, 380, 387, 393, 399, 405, 410, 416, 427, 432, 437, 443, 448, 455, 460, 466, 472, 478, 489, 494, 499, 505, 510, 520, 526, 530, 536, 541, 546, 553, 564, 570, 574, 579, 584, 590, 596, 601, 606, 613, 617, 618, 623, 628, 634, 640, 646, 651, 657, 662, 666, 671, 677, 683, 688, 696, 700, 706, 712, 723, 727, 732, 748, 764, 777, 782, 789, 795, 799, 810, 814, 819, 825, 830, 836, 841, 847, 866, 872, 877, 882, 887, 893, 901, 906, 911, 917, 922, 929, 932, 947, 951, 956, 962, 967, 972, 975, 980, 991, 998, 1005, 1010, 1016, 1020, 1033, 1037, 1043, 1048, 1053, 1059, 1065, 1076, 1085, 1091, 1095, 1102, 1106, 1111, 1115, 1118, 1124, 1129, 1133, 1138, 1143, 1149, 1152, 1157, 1163, 1177, 1184, 1190, 1197, 1209, 1216, 1222, 1228, 1233, 1238, 1244, 1249, 1252, 1254, 1266, 1271, 1279, 1284, 1288, 1298, 1303, 1308, 1314, 1322, 1327, 1331, 1336, 1342, 1347, 1351, 1356, 1370, 1374, 1379, 1383, 1388, 1402, 1408, 1412, 1417, 1423, 1432, 1439, 1445, 1451, 1456, 1461, 1466, 1471, 1474, 1478, 1483, 1488, 1492, 1498, 1501, 1506, 1511, 1526, 1532, 1541, 1548, 1552, 1558, 1565, 1571, 1574, 1579, 1584, 1589, 1602, 1607, 1612, 1617, 1627, 1632, 1635, 1641, 1646, 1655, 1661, 1666, 1671, 1676, 1681, 1684, 1699, 1703, 1710, 1716, 1723, 1728, 1733, 1736, 1741, 1745, 1750, 1755, 1759, 1763, 1769, 1774, 1779, 1783, 1788, 1794, 1800, 1804, 1810, 1819, 1826, 1837, 1841, 1853, 1859, 1866, 1872, 1896, 1902, 1909, 1914, 1916, 1921, 1927, 1931, 1938, 1944, 1951, 1956, 1962, 1966, 1975, 1979, 1983, 1988, 1993, 1996, 2003, 2011, 2016, 2021, 2028, 2034, 2039, 2044, 2049, 2055, 2067, 2072, 2079, 2093, 2098, 2101, 2108, 2120, 2123, 2126, 2131, 2134, 2138, 2144, 2151, 2154, 2158, 2163, 2168, 2179, 2186, 2198, 2204, 2208, 2214, 2228, 2232, 2237, 2242, 2247, 2252, 2256, 2267, 2272, 2277, 2283, 2289, 2292, 2302, 2306, 2312, 2318, 2324, 2330, 2335, 2340, 2347, 2353, 2358, 2363, 2368, 2371, 2375, 2379, 2383, 2393, 2399, 2406, 2411, 2417, 2422, 2428, 2431, 2437, 2443, 2448, 2454, 2461, 2467, 2473, 2479, 2484, 2489, 2494, 2498, 2509, 2519, 2524, 2528, 2534, 2541, 2546, 2550, 2557, 2563, 2568]\n",
      "[3, 3, 3, 0, 3, 3, 3, 0, 0, 3, 3, 0, 3, 3, 0, 3, 3, 0, 3, 3, 3, 0, 0, 3, 3, 3, 0, 3, 3, 3, 3, 3, 0, 3, 0, 3, 3, 3, 3, 3, 0, 0, 3, 3, 0, 3, 3, 3, 0, 3, 0, 3, 3, 3, 3, 0, 3, 3, 3, 3, 3, 0, 3, 3, 3, 3, 3, 3, 0, 3, 3, 3, 3, 0, 3, 3, 3, 3, 3, 3, 3, 3, 3, 0, 0, 3, 3, 0, 0, 3, 0, 3, 3, 3, 3, 3, 0, 3, 3, 0, 3, 0, 3, 0, 3, 3, 3, 0, 3, 3, 3, 0, 3, 3, 0, 0, 3, 0, 3, 3, 3, 0, 0, 3, 3, 3, 3, 3, 3, 0, 3, 0, 3, 3, 3, 0, 3, 3, 3, 3, 3, 3, 3, 3, 3, 0, 3, 0, 0, 0, 3, 3, 3, 3, 0, 0, 0, 0, 3, 3, 0, 0, 3, 3, 3, 3, 3, 3, 3, 3, 3, 3, 0, 3, 3, 0, 3, 3, 3, 0, 3, 3, 3, 3, 0, 3, 3, 3, 3, 3, 3, 3, 3, 3, 3, 3, 0, 0, 3, 3, 3, 3, 0, 3, 3, 3, 3, 3, 0, 3, 3, 3, 0, 3, 3, 3, 3, 3, 0, 3, 3, 3, 3, 3, 0, 3, 3, 3, 0, 3, 0, 3, 3, 0, 3, 3, 3, 3, 3, 0, 3, 3, 0, 3, 3, 0, 0, 3, 3, 3, 0, 0, 3, 3, 3, 3, 0, 3, 3, 3, 3, 3, 3, 3, 0, 3, 0, 0, 3, 3, 3, 3, 3, 0, 3, 3, 0, 3, 3, 3, 3, 0, 3, 3, 3, 0, 0, 0, 3, 3, 3, 3, 3, 3, 3, 0, 3, 0, 0, 3, 3, 3, 3, 3, 3, 3, 3, 0, 0, 3, 3, 3, 3, 3, 3, 3, 3, 3, 3, 3, 3, 3, 3, 0, 3, 3, 3, 3, 3, 3, 3, 0, 0, 3, 3, 3, 3, 3, 0, 3, 0, 3, 3, 3, 3, 3, 3, 0, 3, 3, 0, 3, 3, 3, 3, 3, 0, 3, 3, 0, 0, 3, 0, 3, 3, 3, 3, 0, 3, 3, 0, 3, 0, 3, 0, 3, 3, 3, 3, 3, 3, 3, 0, 3, 0, 3, 3, 3, 3, 0, 3, 3, 3, 3, 3, 3, 3, 3, 3, 0, 3, 0, 3, 0, 3, 3, 0, 3, 3, 3, 3, 0, 3, 3, 0, 3, 3, 3, 3, 3, 0, 3, 3, 3, 3, 3]\n"
     ]
    }
   ],
   "source": [
    "from collections import Counter\n",
    "realids = []\n",
    "for i in range(len(everything['uid'])):\n",
    "    if type(everything[\"true_slant_angle\"][i]) is not float:\n",
    "        angle = np.degrees(everything[\"true_slant_angle\"][i]['x'][0])\n",
    "        if np.isclose(63.5592, angle):\n",
    "            realids += [i]\n",
    "\n",
    "idxs = np.where(np.isclose(63.5592, real))[0]\n",
    "print(realids)\n",
    "print([len(everything['mpl'][k]) for k in idxs])"
   ]
  },
  {
   "cell_type": "code",
   "execution_count": 180,
   "metadata": {},
   "outputs": [
    {
     "data": {
      "text/plain": [
       "[[1.5212119817733765, 0.951024055480957, -11.102822303771973],\n",
       " [1.5212119817733765, -0.5999495983123779, -11.874106407165527],\n",
       " [0.04959815740585327, 1.5256175994873047, -12.258272171020508],\n",
       " [-1.4844046831130981, 0.6241395473480225, -10.445490837097168],\n",
       " [-1.4844046831130981, -0.9268341064453125, -11.216773986816406],\n",
       " [-0.29578882455825806, 0.15690982341766357, -9.505939483642578],\n",
       " [-0.29578885436058044, -1.3940638303756714, -10.277223587036133]]"
      ]
     },
     "execution_count": 180,
     "metadata": {},
     "output_type": "execute_result"
    }
   ],
   "source": [
    "everything['xyz'][0]"
   ]
  },
  {
   "cell_type": "code",
   "execution_count": 181,
   "metadata": {},
   "outputs": [
    {
     "data": {
      "text/plain": [
       "[[1.718767523765564, 1.0588679313659668, -11.1742582321167],\n",
       " [1.718767523765564, -0.6080679893493652, -12.003209114074707],\n",
       " [0.9586047530174255, 1.55169677734375, -12.165287017822266],\n",
       " [-1.7114402055740356, 1.10098135471344, -11.258943557739258],\n",
       " [-1.7114402055740356, -0.5659545660018921, -12.087894439697266],\n",
       " [0.06526941061019897, 0.10774040222167969, -9.261636734008789],\n",
       " [0.06526938080787659, -1.5591955184936523, -10.090587615966797]]"
      ]
     },
     "execution_count": 181,
     "metadata": {},
     "output_type": "execute_result"
    }
   ],
   "source": [
    "everything['xyz'][12]"
   ]
  },
  {
   "cell_type": "code",
   "execution_count": 219,
   "metadata": {
    "scrolled": true
   },
   "outputs": [
    {
     "ename": "ValueError",
     "evalue": "'Object 230000, View 0' is not in list",
     "output_type": "error",
     "traceback": [
      "\u001b[0;31m---------------------------------------------------------------------------\u001b[0m",
      "\u001b[0;31mValueError\u001b[0m                                Traceback (most recent call last)",
      "\u001b[0;32m<ipython-input-219-eb0005572380>\u001b[0m in \u001b[0;36m<module>\u001b[0;34m\u001b[0m\n\u001b[0;32m----> 1\u001b[0;31m \u001b[0meverything\u001b[0m\u001b[0;34m[\u001b[0m\u001b[0;34m'uid'\u001b[0m\u001b[0;34m]\u001b[0m\u001b[0;34m.\u001b[0m\u001b[0mindex\u001b[0m\u001b[0;34m(\u001b[0m\u001b[0;34m'Object 230000, View 0'\u001b[0m\u001b[0;34m)\u001b[0m\u001b[0;34m\u001b[0m\u001b[0;34m\u001b[0m\u001b[0m\n\u001b[0m",
      "\u001b[0;31mValueError\u001b[0m: 'Object 230000, View 0' is not in list"
     ]
    }
   ],
   "source": [
    "everything['uid'].index('Object 230000, View 0')"
   ]
  },
  {
   "cell_type": "code",
   "execution_count": 218,
   "metadata": {},
   "outputs": [
    {
     "data": {
      "text/plain": [
       "nan"
      ]
     },
     "execution_count": 218,
     "metadata": {},
     "output_type": "execute_result"
    }
   ],
   "source": [
    "everything['true_slant_angle'][2083]"
   ]
  },
  {
   "cell_type": "code",
   "execution_count": 221,
   "metadata": {},
   "outputs": [],
   "source": [
    "zero_nan = []\n",
    "zero_not_nan = []\n",
    "for i in range(len(everything['uid'])):\n",
    "    try:\n",
    "        zero_ind = everything['uid'].index('Object {}, View 0'.format(i))\n",
    "        if type(everything['true_slant_angle'][zero_ind]) is float:\n",
    "            zero_nan += [everything['true_slant_angle'][zero_ind]]\n",
    "        else:\n",
    "            zero_not_nan += [np.degrees(everything['true_slant_angle'][zero_ind]['x'][0])]\n",
    "    except ValueError:\n",
    "        continue"
   ]
  },
  {
   "cell_type": "code",
   "execution_count": 53,
   "metadata": {},
   "outputs": [],
   "source": [
    "import torch\n",
    "def get_M_xcol2(ns):\n",
    "    \"\"\"\n",
    "    Input: ns (network_size, usually 7)Output: ns(ns-1) x ns tensor indicating which x to select\n",
    "    \"\"\"\n",
    "    M = torch.zeros((ns * (ns - 1), ns))\n",
    "    for i in range(ns):\n",
    "        idx = list(range(ns))\n",
    "        idx.pop(i)\n",
    "        row = i*(ns-1)\n",
    "        M[row:(row + ns - 1), :] = torch.eye(ns)[idx]\n",
    "    return M"
   ]
  },
  {
   "cell_type": "code",
   "execution_count": 66,
   "metadata": {},
   "outputs": [
    {
     "data": {
      "text/plain": [
       "tensor([[0., 1., 0., 0.],\n",
       "        [0., 0., 1., 0.],\n",
       "        [0., 0., 0., 1.],\n",
       "        [1., 0., 0., 0.],\n",
       "        [0., 0., 1., 0.],\n",
       "        [0., 0., 0., 1.],\n",
       "        [1., 0., 0., 0.],\n",
       "        [0., 1., 0., 0.],\n",
       "        [0., 0., 0., 1.],\n",
       "        [1., 0., 0., 0.],\n",
       "        [0., 1., 0., 0.],\n",
       "        [0., 0., 1., 0.]])"
      ]
     },
     "execution_count": 66,
     "metadata": {},
     "output_type": "execute_result"
    }
   ],
   "source": [
    "get_M_xcol2(4) \n"
   ]
  },
  {
   "cell_type": "code",
   "execution_count": 82,
   "metadata": {},
   "outputs": [],
   "source": [
    "def get_X_and_Z_mask_tetrahedron(ns, mpl):\n",
    "    \"\"\"\n",
    "    Input: Network size, mpl = matched points\n",
    "    Output: Z-mask for tetrahedron = [4 x ns(ns-1)] = [4 x 42]\n",
    "            X-mask for tetrahedron = 4 x 7\n",
    "    \n",
    "    suppose pairs are [[0,1], [3,4], [5,6]]\n",
    "    X has structure \n",
    "    [[x0, x1],       = z1\n",
    "    [x0, x2],        = Nonsense  \n",
    "    ...\n",
    "    [x0, x6],        = Nonsense\n",
    "    [x2, x1],        = Nonsense\n",
    "    ...\n",
    "    [x3, x4],        = z4\n",
    "    [x6, x4],        = Nonsense\n",
    "    [x6, x5]]        = z5\n",
    "    \n",
    "    \"\"\"\n",
    "    get_pairs = []\n",
    "    for i in range(ns):\n",
    "        for j in range(ns):\n",
    "            if i != j:\n",
    "                get_pairs += [(i,j)]\n",
    "    \n",
    "    \n",
    "    X_mask = torch.zeros((4,ns))\n",
    "    Z_mask = torch.zeros((4, ns*(ns - 1)))\n",
    "    \n",
    "    # Pair 1\n",
    "    i = mpl[0][0]\n",
    "    j = mpl[0][1]\n",
    "    X_mask[0, i] = 1.\n",
    "    Z_mask[0, get_pairs.index((j,i))] = 1. \n",
    "    X_mask[1, j] = 1.\n",
    "    Z_mask[1, get_pairs.index((i,j))] = 1. \n",
    "    \n",
    "    # Pair 2\n",
    "    i = mpl[1][0]\n",
    "    j = mpl[1][1]\n",
    "    X_mask[2, i] = 1.\n",
    "    Z_mask[2, get_pairs.index((j,i))] = 1. \n",
    "    \n",
    "    # Pair 3\n",
    "    i = mpl[2][0]\n",
    "    j = mpl[2][1]\n",
    "    X_mask[3, i] = 1.\n",
    "    Z_mask[3, get_pairs.index((j,i))] = 1. \n",
    "\n",
    "    return X_mask, Z_mask"
   ]
  },
  {
   "cell_type": "code",
   "execution_count": 83,
   "metadata": {},
   "outputs": [
    {
     "data": {
      "text/plain": [
       "(tensor([[0., 1., 0., 0., 0., 0., 0.],\n",
       "         [0., 0., 1., 0., 0., 0., 0.],\n",
       "         [0., 0., 0., 1., 0., 0., 0.],\n",
       "         [0., 0., 0., 0., 0., 1., 0.]]),\n",
       " tensor([[0., 0., 0., 0., 0., 0., 0., 0., 0., 0., 0., 0., 0., 1., 0., 0., 0., 0.,\n",
       "          0., 0., 0., 0., 0., 0., 0., 0., 0., 0., 0., 0., 0., 0., 0., 0., 0., 0.,\n",
       "          0., 0., 0., 0., 0., 0.],\n",
       "         [0., 0., 0., 0., 0., 0., 0., 1., 0., 0., 0., 0., 0., 0., 0., 0., 0., 0.,\n",
       "          0., 0., 0., 0., 0., 0., 0., 0., 0., 0., 0., 0., 0., 0., 0., 0., 0., 0.,\n",
       "          0., 0., 0., 0., 0., 0.],\n",
       "         [0., 0., 0., 0., 0., 0., 0., 0., 0., 0., 0., 0., 0., 0., 0., 0., 0., 0.,\n",
       "          0., 0., 0., 0., 0., 0., 0., 0., 0., 1., 0., 0., 0., 0., 0., 0., 0., 0.,\n",
       "          0., 0., 0., 0., 0., 0.],\n",
       "         [0., 0., 0., 0., 0., 0., 0., 0., 0., 0., 0., 0., 0., 0., 0., 0., 0., 0.,\n",
       "          0., 0., 0., 0., 0., 0., 0., 0., 0., 0., 0., 0., 0., 0., 0., 0., 0., 0.,\n",
       "          0., 0., 0., 0., 0., 1.]]))"
      ]
     },
     "execution_count": 83,
     "metadata": {},
     "output_type": "execute_result"
    }
   ],
   "source": [
    "get_X_and_Z_mask_tetrahedron(7, everything['mpl'][4])"
   ]
  },
  {
   "cell_type": "code",
   "execution_count": null,
   "metadata": {},
   "outputs": [],
   "source": []
  },
  {
   "cell_type": "code",
   "execution_count": null,
   "metadata": {},
   "outputs": [],
   "source": []
  }
 ],
 "metadata": {
  "kernelspec": {
   "display_name": "Python 3",
   "language": "python",
   "name": "python3"
  },
  "language_info": {
   "codemirror_mode": {
    "name": "ipython",
    "version": 3
   },
   "file_extension": ".py",
   "mimetype": "text/x-python",
   "name": "python",
   "nbconvert_exporter": "python",
   "pygments_lexer": "ipython3",
   "version": "3.7.9"
  }
 },
 "nbformat": 4,
 "nbformat_minor": 4
}
